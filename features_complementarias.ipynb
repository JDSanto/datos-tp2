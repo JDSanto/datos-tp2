{
 "cells": [
  {
   "cell_type": "code",
   "execution_count": 29,
   "metadata": {},
   "outputs": [],
   "source": [
    "import pandas as pd\n",
    "import ipynb.fs.full.features as features_nltk\n",
    "\n",
    "df_train = pd.read_csv('./data/train.csv')"
   ]
  },
  {
   "cell_type": "code",
   "execution_count": 31,
   "metadata": {},
   "outputs": [],
   "source": [
    "def concatenar_categoricos(df, columna1, columna2, N=0, df_aux=None, devolver_cols=False):\n",
    "    '''Concatena dos columnas categoricas y hace one hot'''\n",
    "    '''Ver referencia columna_a_ohe para los ultimos 3 parametros'''\n",
    "    \n",
    "    def limpiar_espacios_blanco(texto):\n",
    "        return texto.replace(' ', '_')\n",
    "        \n",
    "    df = df.copy()\n",
    "    df[columna1] = df[columna1].apply(limpiar_espacios_blanco)\n",
    "    df[columna2] = df[columna2].apply(limpiar_espacios_blanco)\n",
    "    df[columna1 + '_' + columna2] = df[columna1] + '_' +df[columna2]\n",
    "    \n",
    "    features_nltk\n",
    "    return features_nltk.columna_a_ohe(df, columna1 + '_' + columna2, N, df_aux, devolver_cols)"
   ]
  }
 ],
 "metadata": {
  "kernelspec": {
   "display_name": "Python 3",
   "language": "python",
   "name": "python3"
  },
  "language_info": {
   "codemirror_mode": {
    "name": "ipython",
    "version": 3
   },
   "file_extension": ".py",
   "mimetype": "text/x-python",
   "name": "python",
   "nbconvert_exporter": "python",
   "pygments_lexer": "ipython3",
   "version": "3.6.8"
  }
 },
 "nbformat": 4,
 "nbformat_minor": 2
}
