{
 "cells": [
  {
   "cell_type": "code",
   "execution_count": 3,
   "metadata": {},
   "outputs": [],
   "source": [
    "import pandas as pd\n",
    "import ipynb.fs.full.features as features_nltk\n",
    "\n",
    "df_train = pd.read_csv('./data/train.csv')"
   ]
  },
  {
   "cell_type": "code",
   "execution_count": 4,
   "metadata": {},
   "outputs": [],
   "source": [
    "def concatenar_categoricos(df, columna1, columna2, N=0, df_aux=None, devolver_cols=False):\n",
    "    '''Concatena dos columnas categoricas y hace one hot'''\n",
    "    '''Ver referencia columna_a_ohe para los ultimos 3 parametros'''\n",
    "    \n",
    "    def limpiar_espacios_blanco(texto):\n",
    "        return texto.replace(' ', '_')\n",
    "        \n",
    "    df = df.copy()\n",
    "    df[columna1] = df[columna1].apply(limpiar_espacios_blanco)\n",
    "    df[columna2] = df[columna2].apply(limpiar_espacios_blanco)\n",
    "    df[columna1 + '_' + columna2] = df[columna1] + '_' +df[columna2]\n",
    "    \n",
    "    features_nltk\n",
    "    return features_nltk.columna_a_ohe(df, columna1 + '_' + columna2, N, df_aux, devolver_cols)"
   ]
  },
  {
   "cell_type": "code",
   "execution_count": 5,
   "metadata": {},
   "outputs": [],
   "source": [
    "def cantidad_propiedad_misma_cantidad(df, agrupar_col, misma_cantidad_col):\n",
    "    '''Cantidad de casas con la misma cantidad de banos que la actual'''\n",
    "    '''Por ejemplo, retorna para cada propiedad, cuantas hay mas de su tipo con x banos ej.'''\n",
    "    '''cantidad_propiedad_misma_cantidad(df, 'banos', 'tipodepropiedad'), para cada propiedad, se fija\n",
    "    cuantas mas de su tipo con tantos banos hay'''\n",
    "    '''Retorna el df con la columna agregada'''\n",
    "    df_aux = df.copy()\n",
    "    df_aux = df_aux.groupby([agrupar_col, misma_cantidad_col]).agg({'id': 'count'})\n",
    "    df_aux = df_aux.rename(columns={'id':'cantidad'})\n",
    "    df_aux = df_aux.reset_index()\n",
    "    \n",
    "    def get_cantidad(col1, col2):\n",
    "        cantidad = df_aux[(df_aux[agrupar_col] == col1) & (df_aux[misma_cantidad_col] == col2)]['cantidad']\n",
    "        return cantidad.values[0] if len(cantidad.values > 0) else 0\n",
    "        \n",
    "    df['cantidad_' + agrupar_col + '_' + misma_cantidad_col] = df.apply(lambda x: get_cantidad(x[agrupar_col], x[misma_cantidad_col]), axis=1)\n",
    "    return df"
   ]
  },
  {
   "cell_type": "code",
   "execution_count": 6,
   "metadata": {},
   "outputs": [],
   "source": [
    "def cantidad_atributo(df, col):\n",
    "    '''Simil a value_counts. Dada una columna, agrega al df, cuantas propiedades existen con esa misma propiedad'''\n",
    "    df_aux = df.copy()\n",
    "    df_aux = df_aux.groupby([col]).agg({'id': 'count'})\n",
    "    df_aux = df_aux.rename(columns={'id':'cantidad'})\n",
    "    df_aux = df_aux.reset_index()\n",
    "\n",
    "    def get_cantidad(col1):\n",
    "        cantidad = df_aux[df_aux[col] == col1]['cantidad']\n",
    "        return cantidad.values[0] if len(cantidad.values > 0) else 0\n",
    "    \n",
    "    df['cantidad_propiedades_en_' + col] = df.apply(lambda x: get_cantidad(x[col]), axis=1)\n",
    "    return df"
   ]
  },
  {
   "cell_type": "code",
   "execution_count": 7,
   "metadata": {},
   "outputs": [],
   "source": [
    "def ranking_atributo(df, col):\n",
    "    '''Cuenta cuantas propiedades hay con los atributos de la columna recibida. Y para cada propiedad,\n",
    "    se fija en que posicion esta del ranking. Por ejemplo, si hay dos propuedades, una con dos banos y otra \n",
    "    con uno solo, el rankin de las que tengan dos banos en 1, y de las propiedades que tengan un solo bano es \n",
    "    dos'''\n",
    "    \n",
    "    '''Rellena los nulos con \"otros\" '''\n",
    "    df[col] = df[col].fillna('otros')\n",
    "    \n",
    "    df_aux = df.copy()\n",
    "    df_aux = df_aux.groupby([col]).agg({'id': 'count'})\n",
    "    df_aux = df_aux.rename(columns={'id':'cantidad'})\n",
    "    df_aux = df_aux.reset_index()\n",
    "    \n",
    "    df_aux = df_aux.nlargest(df_aux.shape[0], 'cantidad') \n",
    "    lista_ranking = df_aux[col].tolist()\n",
    "    rank = {}\n",
    "    contador = 1\n",
    "    \n",
    "    for item in lista_ranking:\n",
    "        rank[item] = contador\n",
    "        contador = contador + 1\n",
    "\n",
    "    def get_ranking(col1):\n",
    "        item = df_aux[df_aux[col] == col1][col].values[0]\n",
    "        return rank[item]\n",
    "    \n",
    "    df['ranking_en_' + col] = df.apply(lambda x: get_ranking(x[col]), axis=1)\n",
    "    return df"
   ]
  },
  {
   "cell_type": "code",
   "execution_count": 13,
   "metadata": {
    "scrolled": false
   },
   "outputs": [
    {
     "data": {
      "text/plain": [
       "Index(['id', 'titulo', 'descripcion', 'tipodepropiedad', 'direccion', 'ciudad',\n",
       "       'provincia', 'antiguedad', 'habitaciones', 'garages', 'banos',\n",
       "       'metroscubiertos', 'metrostotales', 'idzona', 'lat', 'lng', 'fecha',\n",
       "       'gimnasio', 'usosmultiples', 'piscina', 'escuelascercanas',\n",
       "       'centroscomercialescercanos', 'precio'],\n",
       "      dtype='object')"
      ]
     },
     "metadata": {},
     "output_type": "display_data"
    },
    {
     "name": "stderr",
     "output_type": "stream",
     "text": [
      "/home/tomas/Facultad/datos/datos-tp2/.venv/lib/python3.6/site-packages/ipykernel_launcher.py:8: SettingWithCopyWarning: \n",
      "A value is trying to be set on a copy of a slice from a DataFrame.\n",
      "Try using .loc[row_indexer,col_indexer] = value instead\n",
      "\n",
      "See the caveats in the documentation: http://pandas.pydata.org/pandas-docs/stable/user_guide/indexing.html#returning-a-view-versus-a-copy\n",
      "  \n",
      "/home/tomas/Facultad/datos/datos-tp2/.venv/lib/python3.6/site-packages/ipykernel_launcher.py:28: SettingWithCopyWarning: \n",
      "A value is trying to be set on a copy of a slice from a DataFrame.\n",
      "Try using .loc[row_indexer,col_indexer] = value instead\n",
      "\n",
      "See the caveats in the documentation: http://pandas.pydata.org/pandas-docs/stable/user_guide/indexing.html#returning-a-view-versus-a-copy\n"
     ]
    }
   ],
   "source": [
    "df = df_train.head()\n",
    "# df = df_train\n",
    "\n",
    "#Ejs:\n",
    "# concatenar_categoricos(df, 'tipodepropiedad', 'provincia')\n",
    "# cantidad_propiedad_misma_cantidad(df, 'tipodepropiedad', 'provincia')\n",
    "# cantidad_atributo(df, 'provincia')\n",
    "# ranking_atributo(df, 'provincia')\n",
    "\n",
    "def aplicar_features(df):\n",
    "    df = concatenar_categoricos(df, 'tipodepropiedad', 'provincia')\n",
    "    df = concatenar_categoricos(df, 'provincia', 'ciudad')\n",
    "    # -- \n",
    "    display('Check-1')\n",
    "    df = cantidad_atributo(df, 'provincia')\n",
    "    df = cantidad_atributo(df, 'ciudad')\n",
    "    df = cantidad_atributo(df, 'antiguedad')\n",
    "    df = cantidad_atributo(df, 'habitaciones')\n",
    "    df = cantidad_atributo(df, 'garages')\n",
    "    df = cantidad_atributo(df, 'banos')\n",
    "    df = cantidad_atributo(df, 'gimnasio')\n",
    "    df = cantidad_atributo(df, 'usosmultiples')\n",
    "    df = cantidad_atributo(df, 'escuelascercanas')\n",
    "    df = cantidad_atributo(df, 'centroscomercialescercanos')\n",
    "    df = cantidad_atributo(df, 'piscina')\n",
    "    # --\n",
    "    display('Check-2')\n",
    "    df = ranking_atributo(df, 'provincia')\n",
    "    df = ranking_atributo(df, 'tipodepropiedad')\n",
    "    df = ranking_atributo(df, 'ciudad')\n",
    "    df = ranking_atributo(df, 'antiguedad')\n",
    "    df = ranking_atributo(df, 'habitaciones')\n",
    "    df = ranking_atributo(df, 'garages')\n",
    "    df = ranking_atributo(df, 'banos')\n",
    "    df = ranking_atributo(df, 'gimasio')\n",
    "    df = ranking_atributo(df, 'usosmultiples')\n",
    "    df = ranking_atributo(df, 'escuelascercanas')\n",
    "    df = ranking_atributo(df, 'centrocomercialescercanos')\n",
    "    # --\n",
    "    display('Check-3')\n",
    "    df = cantidad_propiedad_misma_cantidad(df, 'tipodepropiedad', 'provincia')\n",
    "    df = cantidad_propiedad_misma_cantidad(df, 'tipodepropiedad', 'ciudad')\n",
    "    df = cantidad_propiedad_misma_cantidad(df, 'tipodepropiedad', 'antiguedad')\n",
    "    df = cantidad_propiedad_misma_cantidad(df, 'tipodepropiedad', 'habitaciones')\n",
    "    df = cantidad_propiedad_misma_cantidad(df, 'tipodepropiedad', 'garages')\n",
    "    df = cantidad_propiedad_misma_cantidad(df, 'tipodepropiedad', 'banos')\n",
    "    df = cantidad_propiedad_misma_cantidad(df, 'tipodepropiedad', 'gimnasio')\n",
    "    df = cantidad_propiedad_misma_cantidad(df, 'tipodepropiedad', 'usosmultiples')\n",
    "    df = cantidad_propiedad_misma_cantidad(df, 'tipodepropiedad', 'pisicina')\n",
    "    display('Check-4')\n",
    "    df = cantidad_propiedad_misma_cantidad(df, 'ciudad', 'antiguedad')\n",
    "    df = cantidad_propiedad_misma_cantidad(df, 'ciudad', 'habitaciones')\n",
    "    df = cantidad_propiedad_misma_cantidad(df, 'ciudad', 'garages')\n",
    "    df = cantidad_propiedad_misma_cantidad(df, 'ciudad', 'banos')\n",
    "    df = cantidad_propiedad_misma_cantidad(df, 'ciudad', 'gimnasio')\n",
    "    df = cantidad_propiedad_misma_cantidad(df, 'ciudad', 'usosmultiples')\n",
    "    df = cantidad_propiedad_misma_cantidad(df, 'ciudad', 'ciudad')\n",
    "    display('Check-5')\n",
    "    df = cantidad_propiedad_misma_cantidad(df, 'provincia', 'antiguedad')\n",
    "    df = cantidad_propiedad_misma_cantidad(df, 'provincia', 'habitaciones')\n",
    "    df = cantidad_propiedad_misma_cantidad(df, 'provincia', 'garages')\n",
    "    df = cantidad_propiedad_misma_cantidad(df, 'provincia', 'banos')\n",
    "    df = cantidad_propiedad_misma_cantidad(df, 'provincia', 'gimnasio')\n",
    "    df = cantidad_propiedad_misma_cantidad(df, 'provincia', 'usosmultiples')\n",
    "    df = cantidad_propiedad_misma_cantidad(df, 'provincia', 'pisina')"
   ]
  }
 ],
 "metadata": {
  "kernelspec": {
   "display_name": "Python 3",
   "language": "python",
   "name": "python3"
  },
  "language_info": {
   "codemirror_mode": {
    "name": "ipython",
    "version": 3
   },
   "file_extension": ".py",
   "mimetype": "text/x-python",
   "name": "python",
   "nbconvert_exporter": "python",
   "pygments_lexer": "ipython3",
   "version": "3.6.8"
  }
 },
 "nbformat": 4,
 "nbformat_minor": 2
}
