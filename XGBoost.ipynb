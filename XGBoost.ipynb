{
 "cells": [
  {
   "cell_type": "code",
   "execution_count": 8,
   "metadata": {},
   "outputs": [],
   "source": [
    "import pandas as pd\n",
    "import xgboost as xgb\n",
    "from sklearn.metrics import mean_squared_error\n",
    "import numpy as np\n",
    "from sklearn.model_selection import train_test_split\n",
    "import ipynb.fs.full.features as features\n",
    "import ipynb.fs.full.utils as utils\n",
    "from hyperopt import fmin, tpe, hp\n",
    "from sklearn.metrics import mean_absolute_error\n",
    "import ipynb.fs.full.features_distancias as f_distancias\n",
    "\n",
    "df_train = pd.read_csv('./data/train.csv')\n",
    "df_test = pd.read_csv('./data/test.csv')\n",
    "\n",
    "df_train = features.llenar_nulls(df_train)\n",
    "df_test = features.llenar_nulls(df_test)"
   ]
  },
  {
   "cell_type": "markdown",
   "metadata": {},
   "source": [
    "### Agrego Features"
   ]
  },
  {
   "cell_type": "code",
   "execution_count": 9,
   "metadata": {},
   "outputs": [],
   "source": [
    "\n",
    "df_test_f = features.features_independientes_precio(df_test)\n",
    "df_test_f = features.features_dependientes_precio(df_test_f, df_train)\n",
    "\n",
    "df_train_f = features.features_independientes_precio(df_train)\n",
    "df_train_f = features.features_dependientes_precio(df_train_f, df_train)\n",
    "\n",
    "df_test_f, cols_tipodepropiedad_ohe = features.columna_a_ohe(df_test_f, 'tipodepropiedad', N=100, df_aux=df_train, devolver_cols=True)\n",
    "df_test_f, cols_provincia_ohe = features.columna_a_ohe(df_test_f, 'provincia', N=100, df_aux=df_train, devolver_cols=True)\n",
    "df_test_f, cols_zona_ohe = features.columna_a_ohe(df_test_f, 'zona', df_aux=df_train_f, devolver_cols=True)\n",
    "\n",
    "df_train_f = features.columna_a_ohe(df_train_f, 'tipodepropiedad', N=100, df_aux=df_test)\n",
    "df_train_f = features.columna_a_ohe(df_train_f, 'provincia', N=100, df_aux=df_test)\n",
    "df_train_f = features.columna_a_ohe(df_train_f, 'zona', df_aux=df_test_f)\n",
    "\n",
    "\n",
    "df_train_f['fecha'] = pd.to_datetime(df_train_f['fecha']).astype(int)\n",
    "df_test_f['fecha'] = pd.to_datetime(df_test_f['fecha']).astype(int)\n",
    "\n",
    "# df_train_f = df_train_f.sample(frac=1).reset_index(drop=True)\n",
    "\n",
    "df_train_idf = pd.read_csv('./data/train_idf.csv')\n",
    "df_test_idf = pd.read_csv('./data/test_idf.csv')\n",
    "\n",
    "df_train_f = pd.merge(df_train_f, df_train_idf, on= 'id', how= 'left')\n",
    "df_test_f = pd.merge(df_test_f, df_test_idf, on= 'id', how= 'left')\n",
    "\n",
    "df_train_f = f_distancias.feature_distancias(df_train_f)\n",
    "df_test_f = f_distancias.feature_distancias(df_test_f, df_train_f)"
   ]
  },
  {
   "cell_type": "markdown",
   "metadata": {},
   "source": [
    "### Filtro columnas"
   ]
  },
  {
   "cell_type": "code",
   "execution_count": 11,
   "metadata": {},
   "outputs": [],
   "source": [
    "\n",
    "features = ['habitaciones', 'garages','banos','antiguedad', 'metroscubiertos',  'metrostotales','lat_norm', \n",
    "           'lng_norm', 'gimnasio', 'usosmultiples', 'piscina']\n",
    "\n",
    "features_test = ['top_provincia', 'promedio_precio_ciudad', 'anio', 'promedio_id_zona', \n",
    "                 'promedio_precio_tipo_propiedad', 'count_id_zona', 'count_ciudad', 'puntaje', \n",
    "               'count_tipo_propiedad_ciudad', 'promedio_precio_tipo_propiedad_ciudad_gen','count_id_zona',\n",
    "           'dias_desde_datos','meses_desde_datos','porcentaje_metros','distancia_ciudad_centrica', \n",
    "                'distancia_centro_mexico', 'distancia_ciudad_cara', 'promedio_precio_hbg_tipo_propiedad_provincia']\n",
    "\n",
    "features += features_test \n",
    "\n",
    "df_XGBoost, df_eval = utils.dividir_df_testeo(df_train_f, test_size=0.15)\n",
    "\n",
    "df_XGBoost = utils.filtrar_features(df_XGBoost, features, 'precio')\n",
    "df_eval = utils.filtrar_features(df_eval, features, 'precio')"
   ]
  },
  {
   "cell_type": "markdown",
   "metadata": {},
   "source": [
    "## Busco los mejores hiperparametros"
   ]
  },
  {
   "cell_type": "code",
   "execution_count": 4,
   "metadata": {
    "scrolled": true
   },
   "outputs": [
    {
     "name": "stdout",
     "output_type": "stream",
     "text": [
      "\r",
      "  0%|          | 0/50 [00:00<?, ?it/s, best loss: ?]"
     ]
    },
    {
     "name": "stderr",
     "output_type": "stream",
     "text": [
      "/home/camix/anaconda3/lib/python3.7/site-packages/xgboost/core.py:587: FutureWarning: Series.base is deprecated and will be removed in a future version\n",
      "  if getattr(data, 'base', None) is not None and \\\n",
      "\n",
      "/home/camix/anaconda3/lib/python3.7/site-packages/xgboost/core.py:588: FutureWarning: Series.base is deprecated and will be removed in a future version\n",
      "  data.base is not None and isinstance(data, np.ndarray) \\\n",
      "\n"
     ]
    },
    {
     "name": "stdout",
     "output_type": "stream",
     "text": [
      "\r",
      "  2%|▏         | 1/50 [00:08<07:01,  8.60s/it, best loss: 537014.3095911458]"
     ]
    },
    {
     "name": "stderr",
     "output_type": "stream",
     "text": [
      "/home/camix/anaconda3/lib/python3.7/site-packages/xgboost/core.py:587: FutureWarning: Series.base is deprecated and will be removed in a future version\n",
      "  if getattr(data, 'base', None) is not None and \\\n",
      "\n",
      "/home/camix/anaconda3/lib/python3.7/site-packages/xgboost/core.py:588: FutureWarning: Series.base is deprecated and will be removed in a future version\n",
      "  data.base is not None and isinstance(data, np.ndarray) \\\n",
      "\n"
     ]
    },
    {
     "name": "stdout",
     "output_type": "stream",
     "text": [
      "\r",
      "  4%|▍         | 2/50 [00:12<05:47,  7.24s/it, best loss: 537014.3095911458]"
     ]
    },
    {
     "name": "stderr",
     "output_type": "stream",
     "text": [
      "/home/camix/anaconda3/lib/python3.7/site-packages/xgboost/core.py:587: FutureWarning: Series.base is deprecated and will be removed in a future version\n",
      "  if getattr(data, 'base', None) is not None and \\\n",
      "\n",
      "/home/camix/anaconda3/lib/python3.7/site-packages/xgboost/core.py:588: FutureWarning: Series.base is deprecated and will be removed in a future version\n",
      "  data.base is not None and isinstance(data, np.ndarray) \\\n",
      "\n"
     ]
    },
    {
     "name": "stdout",
     "output_type": "stream",
     "text": [
      "\r",
      "  6%|▌         | 3/50 [00:27<07:28,  9.54s/it, best loss: 518385.10228342016]"
     ]
    },
    {
     "name": "stderr",
     "output_type": "stream",
     "text": [
      "/home/camix/anaconda3/lib/python3.7/site-packages/xgboost/core.py:587: FutureWarning: Series.base is deprecated and will be removed in a future version\n",
      "  if getattr(data, 'base', None) is not None and \\\n",
      "\n",
      "/home/camix/anaconda3/lib/python3.7/site-packages/xgboost/core.py:588: FutureWarning: Series.base is deprecated and will be removed in a future version\n",
      "  data.base is not None and isinstance(data, np.ndarray) \\\n",
      "\n"
     ]
    },
    {
     "name": "stdout",
     "output_type": "stream",
     "text": [
      "\r",
      "  8%|▊         | 4/50 [00:41<08:14, 10.74s/it, best loss: 518385.10228342016]"
     ]
    },
    {
     "name": "stderr",
     "output_type": "stream",
     "text": [
      "/home/camix/anaconda3/lib/python3.7/site-packages/xgboost/core.py:587: FutureWarning: Series.base is deprecated and will be removed in a future version\n",
      "  if getattr(data, 'base', None) is not None and \\\n",
      "\n",
      "/home/camix/anaconda3/lib/python3.7/site-packages/xgboost/core.py:588: FutureWarning: Series.base is deprecated and will be removed in a future version\n",
      "  data.base is not None and isinstance(data, np.ndarray) \\\n",
      "\n"
     ]
    },
    {
     "name": "stdout",
     "output_type": "stream",
     "text": [
      "\r",
      " 10%|█         | 5/50 [00:42<06:02,  8.07s/it, best loss: 518385.10228342016]"
     ]
    },
    {
     "name": "stderr",
     "output_type": "stream",
     "text": [
      "/home/camix/anaconda3/lib/python3.7/site-packages/xgboost/core.py:587: FutureWarning: Series.base is deprecated and will be removed in a future version\n",
      "  if getattr(data, 'base', None) is not None and \\\n",
      "\n",
      "/home/camix/anaconda3/lib/python3.7/site-packages/xgboost/core.py:588: FutureWarning: Series.base is deprecated and will be removed in a future version\n",
      "  data.base is not None and isinstance(data, np.ndarray) \\\n",
      "\n"
     ]
    },
    {
     "name": "stdout",
     "output_type": "stream",
     "text": [
      "\r",
      " 12%|█▏        | 6/50 [00:53<06:27,  8.81s/it, best loss: 518385.10228342016]"
     ]
    },
    {
     "name": "stderr",
     "output_type": "stream",
     "text": [
      "/home/camix/anaconda3/lib/python3.7/site-packages/xgboost/core.py:587: FutureWarning: Series.base is deprecated and will be removed in a future version\n",
      "  if getattr(data, 'base', None) is not None and \\\n",
      "\n",
      "/home/camix/anaconda3/lib/python3.7/site-packages/xgboost/core.py:588: FutureWarning: Series.base is deprecated and will be removed in a future version\n",
      "  data.base is not None and isinstance(data, np.ndarray) \\\n",
      "\n"
     ]
    },
    {
     "name": "stdout",
     "output_type": "stream",
     "text": [
      "\r",
      " 14%|█▍        | 7/50 [01:02<06:20,  8.86s/it, best loss: 518385.10228342016]"
     ]
    },
    {
     "name": "stderr",
     "output_type": "stream",
     "text": [
      "/home/camix/anaconda3/lib/python3.7/site-packages/xgboost/core.py:587: FutureWarning: Series.base is deprecated and will be removed in a future version\n",
      "  if getattr(data, 'base', None) is not None and \\\n",
      "\n",
      "/home/camix/anaconda3/lib/python3.7/site-packages/xgboost/core.py:588: FutureWarning: Series.base is deprecated and will be removed in a future version\n",
      "  data.base is not None and isinstance(data, np.ndarray) \\\n",
      "\n"
     ]
    },
    {
     "name": "stdout",
     "output_type": "stream",
     "text": [
      "\r",
      " 16%|█▌        | 8/50 [01:09<05:47,  8.28s/it, best loss: 518385.10228342016]"
     ]
    },
    {
     "name": "stderr",
     "output_type": "stream",
     "text": [
      "/home/camix/anaconda3/lib/python3.7/site-packages/xgboost/core.py:587: FutureWarning: Series.base is deprecated and will be removed in a future version\n",
      "  if getattr(data, 'base', None) is not None and \\\n",
      "\n",
      "/home/camix/anaconda3/lib/python3.7/site-packages/xgboost/core.py:588: FutureWarning: Series.base is deprecated and will be removed in a future version\n",
      "  data.base is not None and isinstance(data, np.ndarray) \\\n",
      "\n"
     ]
    },
    {
     "name": "stdout",
     "output_type": "stream",
     "text": [
      "\r",
      " 18%|█▊        | 9/50 [01:24<07:05, 10.37s/it, best loss: 507502.53913802083]"
     ]
    },
    {
     "name": "stderr",
     "output_type": "stream",
     "text": [
      "/home/camix/anaconda3/lib/python3.7/site-packages/xgboost/core.py:587: FutureWarning: Series.base is deprecated and will be removed in a future version\n",
      "  if getattr(data, 'base', None) is not None and \\\n",
      "\n",
      "/home/camix/anaconda3/lib/python3.7/site-packages/xgboost/core.py:588: FutureWarning: Series.base is deprecated and will be removed in a future version\n",
      "  data.base is not None and isinstance(data, np.ndarray) \\\n",
      "\n"
     ]
    },
    {
     "name": "stdout",
     "output_type": "stream",
     "text": [
      "\r",
      " 20%|██        | 10/50 [01:41<08:16, 12.41s/it, best loss: 507502.53913802083]"
     ]
    },
    {
     "name": "stderr",
     "output_type": "stream",
     "text": [
      "/home/camix/anaconda3/lib/python3.7/site-packages/xgboost/core.py:587: FutureWarning: Series.base is deprecated and will be removed in a future version\n",
      "  if getattr(data, 'base', None) is not None and \\\n",
      "\n",
      "/home/camix/anaconda3/lib/python3.7/site-packages/xgboost/core.py:588: FutureWarning: Series.base is deprecated and will be removed in a future version\n",
      "  data.base is not None and isinstance(data, np.ndarray) \\\n",
      "\n"
     ]
    },
    {
     "name": "stdout",
     "output_type": "stream",
     "text": [
      "\r",
      " 22%|██▏       | 11/50 [01:47<06:51, 10.54s/it, best loss: 507502.53913802083]"
     ]
    },
    {
     "name": "stderr",
     "output_type": "stream",
     "text": [
      "/home/camix/anaconda3/lib/python3.7/site-packages/xgboost/core.py:587: FutureWarning: Series.base is deprecated and will be removed in a future version\n",
      "  if getattr(data, 'base', None) is not None and \\\n",
      "\n",
      "/home/camix/anaconda3/lib/python3.7/site-packages/xgboost/core.py:588: FutureWarning: Series.base is deprecated and will be removed in a future version\n",
      "  data.base is not None and isinstance(data, np.ndarray) \\\n",
      "\n"
     ]
    },
    {
     "name": "stdout",
     "output_type": "stream",
     "text": [
      "\r",
      " 24%|██▍       | 12/50 [01:56<06:19,  9.99s/it, best loss: 507502.53913802083]"
     ]
    },
    {
     "name": "stderr",
     "output_type": "stream",
     "text": [
      "/home/camix/anaconda3/lib/python3.7/site-packages/xgboost/core.py:587: FutureWarning: Series.base is deprecated and will be removed in a future version\n",
      "  if getattr(data, 'base', None) is not None and \\\n",
      "\n",
      "/home/camix/anaconda3/lib/python3.7/site-packages/xgboost/core.py:588: FutureWarning: Series.base is deprecated and will be removed in a future version\n",
      "  data.base is not None and isinstance(data, np.ndarray) \\\n",
      "\n"
     ]
    },
    {
     "name": "stdout",
     "output_type": "stream",
     "text": [
      "\r",
      " 26%|██▌       | 13/50 [02:09<06:46, 10.98s/it, best loss: 507502.53913802083]"
     ]
    },
    {
     "name": "stderr",
     "output_type": "stream",
     "text": [
      "/home/camix/anaconda3/lib/python3.7/site-packages/xgboost/core.py:587: FutureWarning: Series.base is deprecated and will be removed in a future version\n",
      "  if getattr(data, 'base', None) is not None and \\\n",
      "\n",
      "/home/camix/anaconda3/lib/python3.7/site-packages/xgboost/core.py:588: FutureWarning: Series.base is deprecated and will be removed in a future version\n",
      "  data.base is not None and isinstance(data, np.ndarray) \\\n",
      "\n"
     ]
    },
    {
     "name": "stdout",
     "output_type": "stream",
     "text": [
      "\r",
      " 28%|██▊       | 14/50 [02:11<04:49,  8.05s/it, best loss: 507502.53913802083]"
     ]
    },
    {
     "name": "stderr",
     "output_type": "stream",
     "text": [
      "/home/camix/anaconda3/lib/python3.7/site-packages/xgboost/core.py:587: FutureWarning: Series.base is deprecated and will be removed in a future version\n",
      "  if getattr(data, 'base', None) is not None and \\\n",
      "\n",
      "/home/camix/anaconda3/lib/python3.7/site-packages/xgboost/core.py:588: FutureWarning: Series.base is deprecated and will be removed in a future version\n",
      "  data.base is not None and isinstance(data, np.ndarray) \\\n",
      "\n"
     ]
    },
    {
     "name": "stdout",
     "output_type": "stream",
     "text": [
      "\r",
      " 30%|███       | 15/50 [02:17<04:21,  7.48s/it, best loss: 507502.53913802083]"
     ]
    },
    {
     "name": "stderr",
     "output_type": "stream",
     "text": [
      "/home/camix/anaconda3/lib/python3.7/site-packages/xgboost/core.py:587: FutureWarning: Series.base is deprecated and will be removed in a future version\n",
      "  if getattr(data, 'base', None) is not None and \\\n",
      "\n",
      "/home/camix/anaconda3/lib/python3.7/site-packages/xgboost/core.py:588: FutureWarning: Series.base is deprecated and will be removed in a future version\n",
      "  data.base is not None and isinstance(data, np.ndarray) \\\n",
      "\n"
     ]
    },
    {
     "name": "stdout",
     "output_type": "stream",
     "text": [
      "\r",
      " 32%|███▏      | 16/50 [02:44<07:37, 13.46s/it, best loss: 507502.53913802083]"
     ]
    },
    {
     "name": "stderr",
     "output_type": "stream",
     "text": [
      "/home/camix/anaconda3/lib/python3.7/site-packages/xgboost/core.py:587: FutureWarning: Series.base is deprecated and will be removed in a future version\n",
      "  if getattr(data, 'base', None) is not None and \\\n",
      "\n",
      "/home/camix/anaconda3/lib/python3.7/site-packages/xgboost/core.py:588: FutureWarning: Series.base is deprecated and will be removed in a future version\n",
      "  data.base is not None and isinstance(data, np.ndarray) \\\n",
      "\n"
     ]
    },
    {
     "name": "stdout",
     "output_type": "stream",
     "text": [
      "\r",
      " 34%|███▍      | 17/50 [02:58<07:25, 13.50s/it, best loss: 503569.0695190972] "
     ]
    },
    {
     "name": "stderr",
     "output_type": "stream",
     "text": [
      "/home/camix/anaconda3/lib/python3.7/site-packages/xgboost/core.py:587: FutureWarning: Series.base is deprecated and will be removed in a future version\n",
      "  if getattr(data, 'base', None) is not None and \\\n",
      "\n",
      "/home/camix/anaconda3/lib/python3.7/site-packages/xgboost/core.py:588: FutureWarning: Series.base is deprecated and will be removed in a future version\n",
      "  data.base is not None and isinstance(data, np.ndarray) \\\n",
      "\n"
     ]
    },
    {
     "name": "stdout",
     "output_type": "stream",
     "text": [
      "\r",
      " 36%|███▌      | 18/50 [03:00<05:19,  9.98s/it, best loss: 503569.0695190972]"
     ]
    },
    {
     "name": "stderr",
     "output_type": "stream",
     "text": [
      "/home/camix/anaconda3/lib/python3.7/site-packages/xgboost/core.py:587: FutureWarning: Series.base is deprecated and will be removed in a future version\n",
      "  if getattr(data, 'base', None) is not None and \\\n",
      "\n",
      "/home/camix/anaconda3/lib/python3.7/site-packages/xgboost/core.py:588: FutureWarning: Series.base is deprecated and will be removed in a future version\n",
      "  data.base is not None and isinstance(data, np.ndarray) \\\n",
      "\n"
     ]
    },
    {
     "name": "stdout",
     "output_type": "stream",
     "text": [
      "\r",
      " 38%|███▊      | 19/50 [03:16<06:08, 11.90s/it, best loss: 503569.0695190972]"
     ]
    },
    {
     "name": "stderr",
     "output_type": "stream",
     "text": [
      "/home/camix/anaconda3/lib/python3.7/site-packages/xgboost/core.py:587: FutureWarning: Series.base is deprecated and will be removed in a future version\n",
      "  if getattr(data, 'base', None) is not None and \\\n",
      "\n",
      "/home/camix/anaconda3/lib/python3.7/site-packages/xgboost/core.py:588: FutureWarning: Series.base is deprecated and will be removed in a future version\n",
      "  data.base is not None and isinstance(data, np.ndarray) \\\n",
      "\n"
     ]
    },
    {
     "name": "stdout",
     "output_type": "stream",
     "text": [
      "\r",
      " 40%|████      | 20/50 [03:38<07:23, 14.79s/it, best loss: 503569.0695190972]"
     ]
    },
    {
     "name": "stderr",
     "output_type": "stream",
     "text": [
      "/home/camix/anaconda3/lib/python3.7/site-packages/xgboost/core.py:587: FutureWarning: Series.base is deprecated and will be removed in a future version\n",
      "  if getattr(data, 'base', None) is not None and \\\n",
      "\n",
      "/home/camix/anaconda3/lib/python3.7/site-packages/xgboost/core.py:588: FutureWarning: Series.base is deprecated and will be removed in a future version\n",
      "  data.base is not None and isinstance(data, np.ndarray) \\\n",
      "\n"
     ]
    },
    {
     "name": "stdout",
     "output_type": "stream",
     "text": [
      "\r",
      " 42%|████▏     | 21/50 [03:59<08:08, 16.86s/it, best loss: 503569.0695190972]"
     ]
    },
    {
     "name": "stderr",
     "output_type": "stream",
     "text": [
      "/home/camix/anaconda3/lib/python3.7/site-packages/xgboost/core.py:587: FutureWarning: Series.base is deprecated and will be removed in a future version\n",
      "  if getattr(data, 'base', None) is not None and \\\n",
      "\n",
      "/home/camix/anaconda3/lib/python3.7/site-packages/xgboost/core.py:588: FutureWarning: Series.base is deprecated and will be removed in a future version\n",
      "  data.base is not None and isinstance(data, np.ndarray) \\\n",
      "\n"
     ]
    },
    {
     "name": "stdout",
     "output_type": "stream",
     "text": [
      "\r",
      " 44%|████▍     | 22/50 [04:04<06:11, 13.28s/it, best loss: 503569.0695190972]"
     ]
    },
    {
     "name": "stderr",
     "output_type": "stream",
     "text": [
      "/home/camix/anaconda3/lib/python3.7/site-packages/xgboost/core.py:587: FutureWarning: Series.base is deprecated and will be removed in a future version\n",
      "  if getattr(data, 'base', None) is not None and \\\n",
      "\n",
      "/home/camix/anaconda3/lib/python3.7/site-packages/xgboost/core.py:588: FutureWarning: Series.base is deprecated and will be removed in a future version\n",
      "  data.base is not None and isinstance(data, np.ndarray) \\\n",
      "\n"
     ]
    },
    {
     "name": "stdout",
     "output_type": "stream",
     "text": [
      "\r",
      " 46%|████▌     | 23/50 [04:19<06:12, 13.78s/it, best loss: 502985.2364375]   "
     ]
    },
    {
     "name": "stderr",
     "output_type": "stream",
     "text": [
      "/home/camix/anaconda3/lib/python3.7/site-packages/xgboost/core.py:587: FutureWarning: Series.base is deprecated and will be removed in a future version\n",
      "  if getattr(data, 'base', None) is not None and \\\n",
      "\n",
      "/home/camix/anaconda3/lib/python3.7/site-packages/xgboost/core.py:588: FutureWarning: Series.base is deprecated and will be removed in a future version\n",
      "  data.base is not None and isinstance(data, np.ndarray) \\\n",
      "\n"
     ]
    },
    {
     "name": "stdout",
     "output_type": "stream",
     "text": [
      "\r",
      " 48%|████▊     | 24/50 [04:29<05:26, 12.58s/it, best loss: 502985.2364375]"
     ]
    },
    {
     "name": "stderr",
     "output_type": "stream",
     "text": [
      "/home/camix/anaconda3/lib/python3.7/site-packages/xgboost/core.py:587: FutureWarning: Series.base is deprecated and will be removed in a future version\n",
      "  if getattr(data, 'base', None) is not None and \\\n",
      "\n",
      "/home/camix/anaconda3/lib/python3.7/site-packages/xgboost/core.py:588: FutureWarning: Series.base is deprecated and will be removed in a future version\n",
      "  data.base is not None and isinstance(data, np.ndarray) \\\n",
      "\n"
     ]
    },
    {
     "name": "stdout",
     "output_type": "stream",
     "text": [
      "\r",
      " 50%|█████     | 25/50 [04:34<04:17, 10.32s/it, best loss: 502985.2364375]"
     ]
    },
    {
     "name": "stderr",
     "output_type": "stream",
     "text": [
      "/home/camix/anaconda3/lib/python3.7/site-packages/xgboost/core.py:587: FutureWarning: Series.base is deprecated and will be removed in a future version\n",
      "  if getattr(data, 'base', None) is not None and \\\n",
      "\n",
      "/home/camix/anaconda3/lib/python3.7/site-packages/xgboost/core.py:588: FutureWarning: Series.base is deprecated and will be removed in a future version\n",
      "  data.base is not None and isinstance(data, np.ndarray) \\\n",
      "\n"
     ]
    },
    {
     "name": "stdout",
     "output_type": "stream",
     "text": [
      "\r",
      " 52%|█████▏    | 26/50 [04:44<04:06, 10.27s/it, best loss: 502985.2364375]"
     ]
    },
    {
     "name": "stderr",
     "output_type": "stream",
     "text": [
      "/home/camix/anaconda3/lib/python3.7/site-packages/xgboost/core.py:587: FutureWarning: Series.base is deprecated and will be removed in a future version\n",
      "  if getattr(data, 'base', None) is not None and \\\n",
      "\n",
      "/home/camix/anaconda3/lib/python3.7/site-packages/xgboost/core.py:588: FutureWarning: Series.base is deprecated and will be removed in a future version\n",
      "  data.base is not None and isinstance(data, np.ndarray) \\\n",
      "\n"
     ]
    },
    {
     "name": "stdout",
     "output_type": "stream",
     "text": [
      "\r",
      " 54%|█████▍    | 27/50 [05:00<04:38, 12.11s/it, best loss: 502985.2364375]"
     ]
    },
    {
     "name": "stderr",
     "output_type": "stream",
     "text": [
      "/home/camix/anaconda3/lib/python3.7/site-packages/xgboost/core.py:587: FutureWarning: Series.base is deprecated and will be removed in a future version\n",
      "  if getattr(data, 'base', None) is not None and \\\n",
      "\n",
      "/home/camix/anaconda3/lib/python3.7/site-packages/xgboost/core.py:588: FutureWarning: Series.base is deprecated and will be removed in a future version\n",
      "  data.base is not None and isinstance(data, np.ndarray) \\\n",
      "\n"
     ]
    },
    {
     "name": "stdout",
     "output_type": "stream",
     "text": [
      "\r",
      " 56%|█████▌    | 28/50 [05:17<04:58, 13.58s/it, best loss: 502985.2364375]"
     ]
    },
    {
     "name": "stderr",
     "output_type": "stream",
     "text": [
      "/home/camix/anaconda3/lib/python3.7/site-packages/xgboost/core.py:587: FutureWarning: Series.base is deprecated and will be removed in a future version\n",
      "  if getattr(data, 'base', None) is not None and \\\n",
      "\n",
      "/home/camix/anaconda3/lib/python3.7/site-packages/xgboost/core.py:588: FutureWarning: Series.base is deprecated and will be removed in a future version\n",
      "  data.base is not None and isinstance(data, np.ndarray) \\\n",
      "\n"
     ]
    },
    {
     "name": "stdout",
     "output_type": "stream",
     "text": [
      "\r",
      " 58%|█████▊    | 29/50 [05:29<04:33, 13.05s/it, best loss: 502985.2364375]"
     ]
    },
    {
     "name": "stderr",
     "output_type": "stream",
     "text": [
      "/home/camix/anaconda3/lib/python3.7/site-packages/xgboost/core.py:587: FutureWarning: Series.base is deprecated and will be removed in a future version\n",
      "  if getattr(data, 'base', None) is not None and \\\n",
      "\n",
      "/home/camix/anaconda3/lib/python3.7/site-packages/xgboost/core.py:588: FutureWarning: Series.base is deprecated and will be removed in a future version\n",
      "  data.base is not None and isinstance(data, np.ndarray) \\\n",
      "\n"
     ]
    },
    {
     "name": "stdout",
     "output_type": "stream",
     "text": [
      "\r",
      " 60%|██████    | 30/50 [05:45<04:37, 13.87s/it, best loss: 502985.2364375]"
     ]
    },
    {
     "name": "stderr",
     "output_type": "stream",
     "text": [
      "/home/camix/anaconda3/lib/python3.7/site-packages/xgboost/core.py:587: FutureWarning: Series.base is deprecated and will be removed in a future version\n",
      "  if getattr(data, 'base', None) is not None and \\\n",
      "\n",
      "/home/camix/anaconda3/lib/python3.7/site-packages/xgboost/core.py:588: FutureWarning: Series.base is deprecated and will be removed in a future version\n",
      "  data.base is not None and isinstance(data, np.ndarray) \\\n",
      "\n"
     ]
    },
    {
     "name": "stdout",
     "output_type": "stream",
     "text": [
      "\r",
      " 62%|██████▏   | 31/50 [05:54<03:54, 12.36s/it, best loss: 502985.2364375]"
     ]
    },
    {
     "name": "stderr",
     "output_type": "stream",
     "text": [
      "/home/camix/anaconda3/lib/python3.7/site-packages/xgboost/core.py:587: FutureWarning: Series.base is deprecated and will be removed in a future version\n",
      "  if getattr(data, 'base', None) is not None and \\\n",
      "\n",
      "/home/camix/anaconda3/lib/python3.7/site-packages/xgboost/core.py:588: FutureWarning: Series.base is deprecated and will be removed in a future version\n",
      "  data.base is not None and isinstance(data, np.ndarray) \\\n",
      "\n"
     ]
    },
    {
     "name": "stdout",
     "output_type": "stream",
     "text": [
      "\r",
      " 64%|██████▍   | 32/50 [06:02<03:16, 10.94s/it, best loss: 502985.2364375]"
     ]
    },
    {
     "name": "stderr",
     "output_type": "stream",
     "text": [
      "/home/camix/anaconda3/lib/python3.7/site-packages/xgboost/core.py:587: FutureWarning: Series.base is deprecated and will be removed in a future version\n",
      "  if getattr(data, 'base', None) is not None and \\\n",
      "\n",
      "/home/camix/anaconda3/lib/python3.7/site-packages/xgboost/core.py:588: FutureWarning: Series.base is deprecated and will be removed in a future version\n",
      "  data.base is not None and isinstance(data, np.ndarray) \\\n",
      "\n"
     ]
    },
    {
     "name": "stdout",
     "output_type": "stream",
     "text": [
      "\r",
      " 66%|██████▌   | 33/50 [06:29<04:27, 15.76s/it, best loss: 497064.2531875]"
     ]
    },
    {
     "name": "stderr",
     "output_type": "stream",
     "text": [
      "/home/camix/anaconda3/lib/python3.7/site-packages/xgboost/core.py:587: FutureWarning: Series.base is deprecated and will be removed in a future version\n",
      "  if getattr(data, 'base', None) is not None and \\\n",
      "\n",
      "/home/camix/anaconda3/lib/python3.7/site-packages/xgboost/core.py:588: FutureWarning: Series.base is deprecated and will be removed in a future version\n",
      "  data.base is not None and isinstance(data, np.ndarray) \\\n",
      "\n"
     ]
    },
    {
     "name": "stdout",
     "output_type": "stream",
     "text": [
      "\r",
      " 68%|██████▊   | 34/50 [07:10<06:14, 23.41s/it, best loss: 497064.2531875]"
     ]
    },
    {
     "name": "stderr",
     "output_type": "stream",
     "text": [
      "/home/camix/anaconda3/lib/python3.7/site-packages/xgboost/core.py:587: FutureWarning: Series.base is deprecated and will be removed in a future version\n",
      "  if getattr(data, 'base', None) is not None and \\\n",
      "\n",
      "/home/camix/anaconda3/lib/python3.7/site-packages/xgboost/core.py:588: FutureWarning: Series.base is deprecated and will be removed in a future version\n",
      "  data.base is not None and isinstance(data, np.ndarray) \\\n",
      "\n"
     ]
    },
    {
     "name": "stdout",
     "output_type": "stream",
     "text": [
      "\r",
      " 70%|███████   | 35/50 [07:49<07:01, 28.10s/it, best loss: 497064.2531875]"
     ]
    },
    {
     "name": "stderr",
     "output_type": "stream",
     "text": [
      "/home/camix/anaconda3/lib/python3.7/site-packages/xgboost/core.py:587: FutureWarning: Series.base is deprecated and will be removed in a future version\n",
      "  if getattr(data, 'base', None) is not None and \\\n",
      "\n",
      "/home/camix/anaconda3/lib/python3.7/site-packages/xgboost/core.py:588: FutureWarning: Series.base is deprecated and will be removed in a future version\n",
      "  data.base is not None and isinstance(data, np.ndarray) \\\n",
      "\n"
     ]
    },
    {
     "name": "stdout",
     "output_type": "stream",
     "text": [
      "\r",
      " 72%|███████▏  | 36/50 [08:26<07:10, 30.78s/it, best loss: 497064.2531875]"
     ]
    },
    {
     "name": "stderr",
     "output_type": "stream",
     "text": [
      "/home/camix/anaconda3/lib/python3.7/site-packages/xgboost/core.py:587: FutureWarning: Series.base is deprecated and will be removed in a future version\n",
      "  if getattr(data, 'base', None) is not None and \\\n",
      "\n",
      "/home/camix/anaconda3/lib/python3.7/site-packages/xgboost/core.py:588: FutureWarning: Series.base is deprecated and will be removed in a future version\n",
      "  data.base is not None and isinstance(data, np.ndarray) \\\n",
      "\n"
     ]
    },
    {
     "name": "stdout",
     "output_type": "stream",
     "text": [
      "\r",
      " 74%|███████▍  | 37/50 [09:01<06:55, 31.99s/it, best loss: 497064.2531875]"
     ]
    },
    {
     "name": "stderr",
     "output_type": "stream",
     "text": [
      "/home/camix/anaconda3/lib/python3.7/site-packages/xgboost/core.py:587: FutureWarning: Series.base is deprecated and will be removed in a future version\n",
      "  if getattr(data, 'base', None) is not None and \\\n",
      "\n",
      "/home/camix/anaconda3/lib/python3.7/site-packages/xgboost/core.py:588: FutureWarning: Series.base is deprecated and will be removed in a future version\n",
      "  data.base is not None and isinstance(data, np.ndarray) \\\n",
      "\n"
     ]
    },
    {
     "name": "stdout",
     "output_type": "stream",
     "text": [
      "\r",
      " 76%|███████▌  | 38/50 [09:30<06:13, 31.10s/it, best loss: 497064.2531875]"
     ]
    },
    {
     "name": "stderr",
     "output_type": "stream",
     "text": [
      "/home/camix/anaconda3/lib/python3.7/site-packages/xgboost/core.py:587: FutureWarning: Series.base is deprecated and will be removed in a future version\n",
      "  if getattr(data, 'base', None) is not None and \\\n",
      "\n",
      "/home/camix/anaconda3/lib/python3.7/site-packages/xgboost/core.py:588: FutureWarning: Series.base is deprecated and will be removed in a future version\n",
      "  data.base is not None and isinstance(data, np.ndarray) \\\n",
      "\n"
     ]
    },
    {
     "name": "stdout",
     "output_type": "stream",
     "text": [
      "\r",
      " 78%|███████▊  | 39/50 [09:35<04:17, 23.44s/it, best loss: 497064.2531875]"
     ]
    },
    {
     "name": "stderr",
     "output_type": "stream",
     "text": [
      "/home/camix/anaconda3/lib/python3.7/site-packages/xgboost/core.py:587: FutureWarning: Series.base is deprecated and will be removed in a future version\n",
      "  if getattr(data, 'base', None) is not None and \\\n",
      "\n",
      "/home/camix/anaconda3/lib/python3.7/site-packages/xgboost/core.py:588: FutureWarning: Series.base is deprecated and will be removed in a future version\n",
      "  data.base is not None and isinstance(data, np.ndarray) \\\n",
      "\n"
     ]
    },
    {
     "name": "stdout",
     "output_type": "stream",
     "text": [
      "\r",
      " 80%|████████  | 40/50 [09:55<03:43, 22.40s/it, best loss: 497064.2531875]"
     ]
    },
    {
     "name": "stderr",
     "output_type": "stream",
     "text": [
      "/home/camix/anaconda3/lib/python3.7/site-packages/xgboost/core.py:587: FutureWarning: Series.base is deprecated and will be removed in a future version\n",
      "  if getattr(data, 'base', None) is not None and \\\n",
      "\n",
      "/home/camix/anaconda3/lib/python3.7/site-packages/xgboost/core.py:588: FutureWarning: Series.base is deprecated and will be removed in a future version\n",
      "  data.base is not None and isinstance(data, np.ndarray) \\\n",
      "\n"
     ]
    },
    {
     "name": "stdout",
     "output_type": "stream",
     "text": [
      "\r",
      " 82%|████████▏ | 41/50 [10:13<03:08, 20.97s/it, best loss: 497064.2531875]"
     ]
    },
    {
     "name": "stderr",
     "output_type": "stream",
     "text": [
      "/home/camix/anaconda3/lib/python3.7/site-packages/xgboost/core.py:587: FutureWarning: Series.base is deprecated and will be removed in a future version\n",
      "  if getattr(data, 'base', None) is not None and \\\n",
      "\n",
      "/home/camix/anaconda3/lib/python3.7/site-packages/xgboost/core.py:588: FutureWarning: Series.base is deprecated and will be removed in a future version\n",
      "  data.base is not None and isinstance(data, np.ndarray) \\\n",
      "\n"
     ]
    },
    {
     "name": "stdout",
     "output_type": "stream",
     "text": [
      "\r",
      " 84%|████████▍ | 42/50 [10:52<03:32, 26.52s/it, best loss: 497064.2531875]"
     ]
    },
    {
     "name": "stderr",
     "output_type": "stream",
     "text": [
      "/home/camix/anaconda3/lib/python3.7/site-packages/xgboost/core.py:587: FutureWarning: Series.base is deprecated and will be removed in a future version\n",
      "  if getattr(data, 'base', None) is not None and \\\n",
      "\n",
      "/home/camix/anaconda3/lib/python3.7/site-packages/xgboost/core.py:588: FutureWarning: Series.base is deprecated and will be removed in a future version\n",
      "  data.base is not None and isinstance(data, np.ndarray) \\\n",
      "\n"
     ]
    },
    {
     "name": "stdout",
     "output_type": "stream",
     "text": [
      "\r",
      " 86%|████████▌ | 43/50 [11:32<03:34, 30.60s/it, best loss: 497064.2531875]"
     ]
    },
    {
     "name": "stderr",
     "output_type": "stream",
     "text": [
      "/home/camix/anaconda3/lib/python3.7/site-packages/xgboost/core.py:587: FutureWarning: Series.base is deprecated and will be removed in a future version\n",
      "  if getattr(data, 'base', None) is not None and \\\n",
      "\n",
      "/home/camix/anaconda3/lib/python3.7/site-packages/xgboost/core.py:588: FutureWarning: Series.base is deprecated and will be removed in a future version\n",
      "  data.base is not None and isinstance(data, np.ndarray) \\\n",
      "\n"
     ]
    },
    {
     "name": "stdout",
     "output_type": "stream",
     "text": [
      "\r",
      " 88%|████████▊ | 44/50 [12:15<03:25, 34.30s/it, best loss: 497064.2531875]"
     ]
    },
    {
     "name": "stderr",
     "output_type": "stream",
     "text": [
      "/home/camix/anaconda3/lib/python3.7/site-packages/xgboost/core.py:587: FutureWarning: Series.base is deprecated and will be removed in a future version\n",
      "  if getattr(data, 'base', None) is not None and \\\n",
      "\n",
      "/home/camix/anaconda3/lib/python3.7/site-packages/xgboost/core.py:588: FutureWarning: Series.base is deprecated and will be removed in a future version\n",
      "  data.base is not None and isinstance(data, np.ndarray) \\\n",
      "\n"
     ]
    },
    {
     "name": "stdout",
     "output_type": "stream",
     "text": [
      "\r",
      " 90%|█████████ | 45/50 [12:31<02:22, 28.55s/it, best loss: 497064.2531875]"
     ]
    },
    {
     "name": "stderr",
     "output_type": "stream",
     "text": [
      "/home/camix/anaconda3/lib/python3.7/site-packages/xgboost/core.py:587: FutureWarning: Series.base is deprecated and will be removed in a future version\n",
      "  if getattr(data, 'base', None) is not None and \\\n",
      "\n",
      "/home/camix/anaconda3/lib/python3.7/site-packages/xgboost/core.py:588: FutureWarning: Series.base is deprecated and will be removed in a future version\n",
      "  data.base is not None and isinstance(data, np.ndarray) \\\n",
      "\n"
     ]
    },
    {
     "name": "stdout",
     "output_type": "stream",
     "text": [
      "\r",
      " 92%|█████████▏| 46/50 [13:20<02:19, 34.83s/it, best loss: 497064.2531875]"
     ]
    },
    {
     "name": "stderr",
     "output_type": "stream",
     "text": [
      "/home/camix/anaconda3/lib/python3.7/site-packages/xgboost/core.py:587: FutureWarning: Series.base is deprecated and will be removed in a future version\n",
      "  if getattr(data, 'base', None) is not None and \\\n",
      "\n",
      "/home/camix/anaconda3/lib/python3.7/site-packages/xgboost/core.py:588: FutureWarning: Series.base is deprecated and will be removed in a future version\n",
      "  data.base is not None and isinstance(data, np.ndarray) \\\n",
      "\n"
     ]
    },
    {
     "name": "stdout",
     "output_type": "stream",
     "text": [
      "\r",
      " 94%|█████████▍| 47/50 [13:48<01:38, 32.84s/it, best loss: 497064.2531875]"
     ]
    },
    {
     "name": "stderr",
     "output_type": "stream",
     "text": [
      "/home/camix/anaconda3/lib/python3.7/site-packages/xgboost/core.py:587: FutureWarning: Series.base is deprecated and will be removed in a future version\n",
      "  if getattr(data, 'base', None) is not None and \\\n",
      "\n",
      "/home/camix/anaconda3/lib/python3.7/site-packages/xgboost/core.py:588: FutureWarning: Series.base is deprecated and will be removed in a future version\n",
      "  data.base is not None and isinstance(data, np.ndarray) \\\n",
      "\n"
     ]
    },
    {
     "name": "stdout",
     "output_type": "stream",
     "text": [
      "\r",
      " 96%|█████████▌| 48/50 [14:24<01:07, 33.74s/it, best loss: 497064.2531875]"
     ]
    },
    {
     "name": "stderr",
     "output_type": "stream",
     "text": [
      "/home/camix/anaconda3/lib/python3.7/site-packages/xgboost/core.py:587: FutureWarning: Series.base is deprecated and will be removed in a future version\n",
      "  if getattr(data, 'base', None) is not None and \\\n",
      "\n",
      "/home/camix/anaconda3/lib/python3.7/site-packages/xgboost/core.py:588: FutureWarning: Series.base is deprecated and will be removed in a future version\n",
      "  data.base is not None and isinstance(data, np.ndarray) \\\n",
      "\n"
     ]
    },
    {
     "name": "stdout",
     "output_type": "stream",
     "text": [
      "\r",
      " 98%|█████████▊| 49/50 [14:58<00:33, 33.84s/it, best loss: 497064.2531875]"
     ]
    },
    {
     "name": "stderr",
     "output_type": "stream",
     "text": [
      "/home/camix/anaconda3/lib/python3.7/site-packages/xgboost/core.py:587: FutureWarning: Series.base is deprecated and will be removed in a future version\n",
      "  if getattr(data, 'base', None) is not None and \\\n",
      "\n",
      "/home/camix/anaconda3/lib/python3.7/site-packages/xgboost/core.py:588: FutureWarning: Series.base is deprecated and will be removed in a future version\n",
      "  data.base is not None and isinstance(data, np.ndarray) \\\n",
      "\n"
     ]
    },
    {
     "name": "stdout",
     "output_type": "stream",
     "text": [
      "100%|██████████| 50/50 [15:17<00:00, 29.33s/it, best loss: 497064.2531875]\n"
     ]
    },
    {
     "data": {
      "text/plain": [
       "{'alpha': 16.874596444772834,\n",
       " 'colsample_bytree': 0.8,\n",
       " 'learning_rate': 0.14,\n",
       " 'max_depth': 17.0,\n",
       " 'n_estimators': 480.0,\n",
       " 'test_size': 0.1}"
      ]
     },
     "metadata": {},
     "output_type": "display_data"
    }
   ],
   "source": [
    "def xgb_eval(args):\n",
    "    \n",
    "    # Modelo - Ver hiperparametros\n",
    "    colsample_bytree, learning_rate, max_depth, alpha, n_estimators, test_size = args\n",
    "    \n",
    "    # Preparacion de los datos\n",
    "    x_train, x_test, y_train, y_test = utils.dividir_dataset(df_XGBoost, 'precio', features, test_size=test_size)\n",
    "    \n",
    "    x_eval = df_eval.drop('precio', axis=1)\n",
    "    y_eval = df_eval['precio']\n",
    "    \n",
    "    xg_train = xgb.DMatrix(x_train, label=y_train)\n",
    "    xg_test = xgb.DMatrix(x_test, label=y_test)\n",
    "    dfg_test = xgb.DMatrix(x_eval, label = y_eval)\n",
    "\n",
    "    max_depth = int(max_depth)\n",
    "    n_estimators = int(n_estimators)\n",
    "    params = {\n",
    "        'objective':'reg:squarederror', \n",
    "        'colsample_bytree' : colsample_bytree , \n",
    "        'learning_rate' : learning_rate,\n",
    "        'max_depth' : max_depth, \n",
    "        'alpha' : alpha,\n",
    "        'n_estimators' : n_estimators,\n",
    "        'eval_metric': 'mae'\n",
    "    }\n",
    "\n",
    "    watchlist = [(xg_train, 'train'), (xg_test, 'test')]\n",
    "    num_round = 25\n",
    "    \n",
    "    xg_reg = xgb.train(params, \n",
    "                    xg_train, \n",
    "                    num_round, \n",
    "#                     watchlist\n",
    "                   )\n",
    "\n",
    "    y_pred_eval = xg_reg.predict(dfg_test)\n",
    "    y_pred_test = xg_reg.predict(xg_test)\n",
    "    return utils.MAE(y_eval, y_pred_eval)\n",
    "\n",
    "space = [hp.quniform('colsample_bytree', 0.3, 1, 0.05), hp.quniform('learning_rate', 0.01, 0.15, 0.01),\n",
    "         hp.quniform(\"max_depth\", 1, 20, 1),hp.uniform(\"alpha\", 0.01, 30),\n",
    "        hp.quniform(\"n_estimators\", 100, 600, 30), hp.quniform(\"test_size\", 0.1, 0.4, 0.05)]\n",
    "\n",
    "hps = fmin(xgb_eval, space=space, algo=tpe.suggest, max_evals=50)\n",
    "\n",
    "display(hps)"
   ]
  },
  {
   "cell_type": "markdown",
   "metadata": {},
   "source": [
    "### Busco los mejores features"
   ]
  },
  {
   "cell_type": "code",
   "execution_count": 6,
   "metadata": {},
   "outputs": [
    {
     "data": {
      "text/plain": [
       "Index(['antiguedad', 'habitaciones', 'garages', 'banos', 'metroscubiertos',\n",
       "       'metrostotales', 'gimnasio', 'usosmultiples', 'piscina', 'precio',\n",
       "       'porcentaje_metros', 'top_provincia', 'anio', 'dias_desde_datos',\n",
       "       'meses_desde_datos', 'promedio_precio_ciudad', 'count_ciudad',\n",
       "       'promedio_id_zona', 'count_id_zona', 'promedio_precio_tipo_propiedad',\n",
       "       'promedio_precio_tipo_propiedad_ciudad_gen',\n",
       "       'count_tipo_propiedad_ciudad', 'lat_norm', 'lng_norm', 'puntaje',\n",
       "       'distancia_ciudad_centrica', 'distancia_centro_mexico',\n",
       "       'provincia_Aguascalientes', 'provincia_Baja California Norte',\n",
       "       'provincia_Baja California Sur', 'provincia_Campeche',\n",
       "       'provincia_Chiapas', 'provincia_Chihuahua', 'provincia_Coahuila',\n",
       "       'provincia_Colima', 'provincia_Distrito Federal', 'provincia_Durango',\n",
       "       'provincia_Edo. de México', 'provincia_Guanajuato',\n",
       "       'provincia_Guerrero', 'provincia_Hidalgo', 'provincia_Jalisco',\n",
       "       'provincia_Michoacán', 'provincia_Morelos', 'provincia_Nayarit',\n",
       "       'provincia_Nuevo León', 'provincia_Oaxaca', 'provincia_Puebla',\n",
       "       'provincia_Querétaro', 'provincia_Quintana Roo',\n",
       "       'provincia_San luis Potosí', 'provincia_Sinaloa', 'provincia_Sonora',\n",
       "       'provincia_Tabasco', 'provincia_Tamaulipas', 'provincia_Tlaxcala',\n",
       "       'provincia_Veracruz', 'provincia_Yucatán', 'provincia_Zacatecas',\n",
       "       'provincia_otro', 'tipodepropiedad_Apartamento',\n",
       "       'tipodepropiedad_Bodega comercial', 'tipodepropiedad_Casa',\n",
       "       'tipodepropiedad_Casa en condominio',\n",
       "       'tipodepropiedad_Casa uso de suelo',\n",
       "       'tipodepropiedad_Departamento Compartido', 'tipodepropiedad_Duplex',\n",
       "       'tipodepropiedad_Edificio', 'tipodepropiedad_Garage',\n",
       "       'tipodepropiedad_Hospedaje', 'tipodepropiedad_Huerta',\n",
       "       'tipodepropiedad_Inmuebles productivos urbanos',\n",
       "       'tipodepropiedad_Local Comercial',\n",
       "       'tipodepropiedad_Local en centro comercial', 'tipodepropiedad_Lote',\n",
       "       'tipodepropiedad_Nave industrial', 'tipodepropiedad_Oficina comercial',\n",
       "       'tipodepropiedad_Otros', 'tipodepropiedad_Quinta Vacacional',\n",
       "       'tipodepropiedad_Rancho', 'tipodepropiedad_Terreno',\n",
       "       'tipodepropiedad_Terreno comercial',\n",
       "       'tipodepropiedad_Terreno industrial', 'tipodepropiedad_Villa',\n",
       "       'tipodepropiedad_otro', 'intervalo_metros_totales_Grupo1',\n",
       "       'intervalo_metros_totales_Grupo2', 'intervalo_metros_totales_Grupo3',\n",
       "       'intervalo_metros_totales_Grupo4', 'intervalo_metros_totales_Grupo5',\n",
       "       'intervalo_metros_cubiertos_Grupo1',\n",
       "       'intervalo_metros_cubiertos_Grupo2',\n",
       "       'intervalo_metros_cubiertos_Grupo3',\n",
       "       'intervalo_metros_cubiertos_Grupo4',\n",
       "       'intervalo_metros_cubiertos_Grupo5', 'zona_Centro', 'zona_Norte ',\n",
       "       'zona_Sur'],\n",
       "      dtype='object')"
      ]
     },
     "execution_count": 6,
     "metadata": {},
     "output_type": "execute_result"
    }
   ],
   "source": [
    "from sklearn.preprocessing import MinMaxScaler\n",
    "from vecstack import StackingTransformer\n",
    "from sklearn.preprocessing import StandardScaler\n",
    "from keras.models import Sequential\n",
    "from keras.layers import Dense, Dropout, AlphaDropout\n",
    "\n",
    "def normalizar_df(df, features):\n",
    "    min_max = StandardScaler()\n",
    "    df[features] = pd.DataFrame(min_max.fit_transform(df[features]), columns=features)\n",
    "    return df\n",
    "    \n",
    "features = ['habitaciones', 'garages','banos','antiguedad', 'metroscubiertos',  'metrostotales','lat_norm', \n",
    "           'lng_norm', 'gimnasio', 'usosmultiples', 'piscina']\n",
    "\n",
    "features_test = ['top_provincia', 'promedio_precio_ciudad', 'anio', 'promedio_id_zona', \n",
    "                 'promedio_precio_tipo_propiedad', 'count_id_zona', 'count_ciudad', \n",
    "               'count_tipo_propiedad_ciudad', 'promedio_precio_tipo_propiedad_ciudad_gen','count_id_zona',\n",
    "           'dias_desde_datos','meses_desde_datos','porcentaje_metros','distancia_ciudad_centrica', 'puntaje', 'distancia_centro_mexico']\n",
    "\n",
    "\n",
    "features_cat = ['provincia', 'tipodepropiedad', 'intervalo_metros_totales', 'intervalo_metros_cubiertos',\n",
    "               'zona']\n",
    "\n",
    "features += features_test + features_cat\n",
    "\n",
    "df_train_g = utils.filtrar_features(df_train_f, features, 'precio')\n",
    "\n",
    "features_a_normalizar = [f for f in features if f not in features_cat + ['precio']]\n",
    "\n",
    "df_train_n = pd.get_dummies(df_train_g, columns=features_cat)\n",
    "df_train_n = normalizar_df(df_train_n, features_a_normalizar)\n",
    "\n",
    "x_train, x_test, y_train, y_test = utils.dividir_dataset(df_train_n, 'precio', features, test_size=0.1)\n",
    "df_train_n.columns"
   ]
  },
  {
   "cell_type": "code",
   "execution_count": 7,
   "metadata": {
    "scrolled": false
   },
   "outputs": [
    {
     "name": "stderr",
     "output_type": "stream",
     "text": [
      "/home/camix/anaconda3/lib/python3.7/site-packages/xgboost/core.py:587: FutureWarning: Series.base is deprecated and will be removed in a future version\n",
      "  if getattr(data, 'base', None) is not None and \\\n",
      "/home/camix/anaconda3/lib/python3.7/site-packages/xgboost/core.py:588: FutureWarning: Series.base is deprecated and will be removed in a future version\n",
      "  data.base is not None and isinstance(data, np.ndarray) \\\n"
     ]
    },
    {
     "name": "stdout",
     "output_type": "stream",
     "text": [
      "[0]\ttrain-mae:2.18963e+06\ttest-mae:2.16954e+06\n",
      "[1]\ttrain-mae:1.89114e+06\ttest-mae:1.87593e+06\n",
      "[2]\ttrain-mae:1.63561e+06\ttest-mae:1.62643e+06\n",
      "[3]\ttrain-mae:1.41549e+06\ttest-mae:1.41515e+06\n",
      "[4]\ttrain-mae:1.2266e+06\ttest-mae:1.23804e+06\n",
      "[5]\ttrain-mae:1.06457e+06\ttest-mae:1.08964e+06\n",
      "[6]\ttrain-mae:926267\ttest-mae:967791\n",
      "[7]\ttrain-mae:808198\ttest-mae:868064\n",
      "[8]\ttrain-mae:707906\ttest-mae:787262\n",
      "[9]\ttrain-mae:622509\ttest-mae:722408\n"
     ]
    },
    {
     "ename": "NameError",
     "evalue": "name 'df_eval' is not defined",
     "output_type": "error",
     "traceback": [
      "\u001b[0;31m---------------------------------------------------------------------------\u001b[0m",
      "\u001b[0;31mNameError\u001b[0m                                 Traceback (most recent call last)",
      "\u001b[0;32m<ipython-input-7-26b046d5db78>\u001b[0m in \u001b[0;36m<module>\u001b[0;34m\u001b[0m\n\u001b[1;32m     48\u001b[0m     \u001b[0mx_train_predict\u001b[0m \u001b[0;34m=\u001b[0m \u001b[0mxgb\u001b[0m\u001b[0;34m.\u001b[0m\u001b[0mDMatrix\u001b[0m\u001b[0;34m(\u001b[0m\u001b[0mx_train\u001b[0m\u001b[0;34m,\u001b[0m \u001b[0mlabel\u001b[0m\u001b[0;34m=\u001b[0m\u001b[0my_train\u001b[0m\u001b[0;34m)\u001b[0m\u001b[0;34m\u001b[0m\u001b[0;34m\u001b[0m\u001b[0m\n\u001b[1;32m     49\u001b[0m     \u001b[0mx_test_predict\u001b[0m \u001b[0;34m=\u001b[0m \u001b[0mxgb\u001b[0m\u001b[0;34m.\u001b[0m\u001b[0mDMatrix\u001b[0m\u001b[0;34m(\u001b[0m\u001b[0mx_test\u001b[0m\u001b[0;34m,\u001b[0m \u001b[0mlabel\u001b[0m\u001b[0;34m=\u001b[0m\u001b[0my_test\u001b[0m\u001b[0;34m)\u001b[0m\u001b[0;34m\u001b[0m\u001b[0;34m\u001b[0m\u001b[0m\n\u001b[0;32m---> 50\u001b[0;31m     \u001b[0mx_eval_predict\u001b[0m \u001b[0;34m=\u001b[0m \u001b[0mxgb\u001b[0m\u001b[0;34m.\u001b[0m\u001b[0mDMatrix\u001b[0m\u001b[0;34m(\u001b[0m\u001b[0mutils\u001b[0m\u001b[0;34m.\u001b[0m\u001b[0mfiltrar_features\u001b[0m\u001b[0;34m(\u001b[0m\u001b[0mdf_eval\u001b[0m\u001b[0;34m,\u001b[0m \u001b[0mfeatures\u001b[0m \u001b[0;34m+\u001b[0m \u001b[0;34m[\u001b[0m\u001b[0mi\u001b[0m\u001b[0;34m]\u001b[0m\u001b[0;34m)\u001b[0m\u001b[0;34m)\u001b[0m\u001b[0;34m\u001b[0m\u001b[0;34m\u001b[0m\u001b[0m\n\u001b[0m\u001b[1;32m     51\u001b[0m \u001b[0;34m\u001b[0m\u001b[0m\n\u001b[1;32m     52\u001b[0m     \u001b[0my_pred_test\u001b[0m \u001b[0;34m=\u001b[0m \u001b[0mxg_reg\u001b[0m\u001b[0;34m.\u001b[0m\u001b[0mpredict\u001b[0m\u001b[0;34m(\u001b[0m\u001b[0mx_test_predict\u001b[0m\u001b[0;34m)\u001b[0m\u001b[0;34m\u001b[0m\u001b[0;34m\u001b[0m\u001b[0m\n",
      "\u001b[0;31mNameError\u001b[0m: name 'df_eval' is not defined"
     ]
    }
   ],
   "source": [
    "hps = {'alpha': 9.616105489494071,\n",
    " 'colsample_bytree': 0.8500000000000001,\n",
    " 'learning_rate': 0.14,\n",
    " 'max_depth': 16.0,\n",
    " 'n_estimators': 450.0,\n",
    " 'test_size': 0.1}\n",
    "\n",
    "alpha = hps['alpha']\n",
    "colsample_bytree = hps['colsample_bytree']\n",
    "max_depth = hps['max_depth']\n",
    "learning_rate = hps['learning_rate']\n",
    "n_estimators = hps['n_estimators']\n",
    "\n",
    "n_estimators = int(hps['n_estimators'])\n",
    "max_depth = int(hps['max_depth'])\n",
    "\n",
    "params = {\n",
    "        'objective':'reg:squarederror', \n",
    "        'colsample_bytree' : colsample_bytree , \n",
    "        'learning_rate' : learning_rate,\n",
    "        'max_depth' : max_depth, \n",
    "        'alpha' : alpha,\n",
    "        'n_estimators' : n_estimators,\n",
    "        'eval_metric': 'mae'\n",
    "}\n",
    "\n",
    "\n",
    "base_train = 0\n",
    "base_test = 0\n",
    "base_eval = 0\n",
    "for i in ['None'] + features_test:\n",
    "    x_train, x_test, y_train, y_test = utils.dividir_dataset(df_train_n, 'precio', features + [i])\n",
    "\n",
    "    xg_train = xgb.DMatrix(x_train, label=y_train)\n",
    "    xg_test = xgb.DMatrix(x_test, label=y_test)\n",
    "    xg_train = xgb.DMatrix(x_train, label=y_train)\n",
    "    xg_test = xgb.DMatrix(x_test, label=y_test)\n",
    "\n",
    "    watchlist = [(xg_train, 'train'), (xg_test, 'test')]\n",
    "    num_round = 10\n",
    "    \n",
    "    xg_reg = xgb.train(params, \n",
    "                    xg_train, \n",
    "                    num_round, \n",
    "                    watchlist\n",
    "                   )\n",
    "    \n",
    "    x_train_predict = xgb.DMatrix(x_train, label=y_train)\n",
    "    x_test_predict = xgb.DMatrix(x_test, label=y_test)\n",
    "    x_eval_predict = xgb.DMatrix(utils.filtrar_features(df_eval, features + [i]))\n",
    "    \n",
    "    y_pred_test = xg_reg.predict(x_test_predict)\n",
    "    y_pred_train = xg_reg.predict(x_train_predict)\n",
    "    y_pred_eval = xg_reg.predict(x_eval_predict)\n",
    "\n",
    "    xgb_mae_train = utils.MAE(y_train, y_pred_train)\n",
    "    xgb_mae = utils.MAE(y_test, y_pred_test)\n",
    "    xgb_mae_eval = utils.MAE(df_eval['precio'].values, y_pred_eval)\n",
    "\n",
    "    print(f\"MAE LightGBM (train): {xgb_mae_train:.5f}\")\n",
    "    print(f\"MAE LightGBM (test): {xgb_mae:.5f}\")\n",
    "    print(f\"MAE LightGBM (eval): {xgb_mae_eval:.5f}\")\n",
    "    if i is not 'None':\n",
    "        print(f\"Overfitting (base_eval - base_test) - (eval - test) - {i}: {(base_eval - base_test) - (xgb_mae_eval - xgb_mae)}\")\n",
    "        print(f\"Diff evaluation (base_eval - eval)                  - {i}: {base_eval - xgb_mae_eval}\")\n",
    "        print(f\"Diff train (base_train - train)                     - {i}: {base_train - xgb_mae_train}\")\n",
    "    else:\n",
    "        base_train = xgb_mae_train\n",
    "        base_test = xgb_mae\n",
    "        base_eval = xgb_mae_eval\n"
   ]
  },
  {
   "cell_type": "markdown",
   "metadata": {},
   "source": [
    "## Predicción"
   ]
  },
  {
   "cell_type": "code",
   "execution_count": 1,
   "metadata": {
    "scrolled": false
   },
   "outputs": [
    {
     "ename": "NameError",
     "evalue": "name 'utils' is not defined",
     "output_type": "error",
     "traceback": [
      "\u001b[0;31m---------------------------------------------------------------------------\u001b[0m",
      "\u001b[0;31mNameError\u001b[0m                                 Traceback (most recent call last)",
      "\u001b[0;32m<ipython-input-1-fa97dd6ca9b2>\u001b[0m in \u001b[0;36m<module>\u001b[0;34m\u001b[0m\n\u001b[1;32m     10\u001b[0m \u001b[0mfeatures\u001b[0m \u001b[0;34m+=\u001b[0m \u001b[0mfeatures_test\u001b[0m\u001b[0;34m\u001b[0m\u001b[0;34m\u001b[0m\u001b[0m\n\u001b[1;32m     11\u001b[0m \u001b[0;34m\u001b[0m\u001b[0m\n\u001b[0;32m---> 12\u001b[0;31m \u001b[0mdf_train_g\u001b[0m \u001b[0;34m=\u001b[0m \u001b[0mutils\u001b[0m\u001b[0;34m.\u001b[0m\u001b[0mfiltrar_features\u001b[0m\u001b[0;34m(\u001b[0m\u001b[0mdf_train_f\u001b[0m\u001b[0;34m,\u001b[0m \u001b[0mfeatures\u001b[0m\u001b[0;34m,\u001b[0m \u001b[0;34m'precio'\u001b[0m\u001b[0;34m)\u001b[0m\u001b[0;34m\u001b[0m\u001b[0;34m\u001b[0m\u001b[0m\n\u001b[0m\u001b[1;32m     13\u001b[0m \u001b[0;34m\u001b[0m\u001b[0m\n\u001b[1;32m     14\u001b[0m \u001b[0;31m# features_a_normalizar = [f for f in features if f not in features_cat + ['precio']]\u001b[0m\u001b[0;34m\u001b[0m\u001b[0;34m\u001b[0m\u001b[0;34m\u001b[0m\u001b[0m\n",
      "\u001b[0;31mNameError\u001b[0m: name 'utils' is not defined"
     ]
    }
   ],
   "source": [
    "features = ['habitaciones', 'garages','banos','antiguedad', 'metroscubiertos',  'metrostotales','lat_norm', \n",
    "           'lng_norm', 'gimnasio', 'usosmultiples', 'piscina']\n",
    "\n",
    "features_test = ['top_provincia', 'promedio_precio_ciudad', 'anio', 'promedio_id_zona', \n",
    "                 'promedio_precio_tipo_propiedad', 'count_id_zona', 'count_ciudad', 'puntaje', \n",
    "               'count_tipo_propiedad_ciudad', 'promedio_precio_tipo_propiedad_ciudad_gen','count_id_zona',\n",
    "           'dias_desde_datos','meses_desde_datos','porcentaje_metros','distancia_ciudad_centrica', \n",
    "                'distancia_centro_mexico', 'distancia_ciudad_cara', 'promedio_precio_hbg_tipo_propiedad_provincia']\n",
    "\n",
    "features += features_test \n",
    "\n",
    "df_train_g = utils.filtrar_features(df_train_f, features, 'precio')\n",
    "\n",
    "# features_a_normalizar = [f for f in features if f not in features_cat + ['precio']]\n",
    "\n",
    "# df_train_n = pd.get_dummies(df_train_g, columns=features_cat)\n",
    "# df_train_n = normalizar_df(df_train_n, features_a_normalizar)\n",
    "\n",
    "x_train, x_test, y_train, y_test = utils.dividir_dataset(df_train_g, 'precio', features, test_size=0.1)\n",
    "\n",
    "\n",
    "# Preparación hiperparámetros\n",
    "hps = {'alpha': 16.874596444772834,\n",
    " 'colsample_bytree': 0.8,\n",
    " 'learning_rate': 0.1,\n",
    " 'max_depth': 17.0,\n",
    " 'n_estimators': 300.0,\n",
    " 'test_size': 0.1}\n",
    "\n",
    "alpha = hps['alpha']\n",
    "colsample_bytree = hps['colsample_bytree']\n",
    "max_depth = hps['max_depth']\n",
    "learning_rate = hps['learning_rate']\n",
    "n_estimators = hps['n_estimators']\n",
    "test_size = hps['test_size']\n",
    "\n",
    "n_estimators = int(hps['n_estimators'])\n",
    "max_depth = int(hps['max_depth'])\n",
    "\n",
    "\n",
    "#x_eval = df_eval.drop('precio', axis=1)\n",
    "#y_eval = df_eval['precio']\n",
    "\n",
    "xg_train = xgb.DMatrix(x_train, label=y_train)\n",
    "xg_test = xgb.DMatrix(x_test, label=y_test)\n",
    "#dfg_test = xgb.DMatrix(x_eval, label = y_eval)\n",
    "\n",
    "params = {\n",
    "    'objective':'reg:squarederror', \n",
    "    'colsample_bytree' : colsample_bytree , \n",
    "    'learning_rate' : learning_rate,\n",
    "    'max_depth' : max_depth, \n",
    "    'alpha' : alpha,\n",
    "    'n_estimators' : n_estimators,\n",
    "    'eval_metric': 'mae'\n",
    "}\n",
    "\n",
    "watchlist = [(xg_train, 'train'), (xg_test, 'test')]\n",
    "\n",
    "# Entrenamiento\n",
    "xg_reg = xgb.train(params, \n",
    "                   xg_train, \n",
    "                   num_boost_round=50,\n",
    "                   evals=watchlist)\n",
    "\n",
    "# Prediccion\n",
    "y_pred_train = xg_reg.predict(xg_train)\n",
    "y_pred_test = xg_reg.predict(xg_test)\n",
    "\n",
    "\n",
    "linear_mae_train = utils.MAE(y_train, y_pred_train)\n",
    "linear_mae = utils.MAE(y_test, y_pred_test)\n",
    "\n",
    "#y_pred_eval = xg_reg.predict(dfg_test)\n",
    "#linear_mae_eval = utils.MAE(y_eval, y_pred_eval)\n",
    "\n",
    "\n",
    "print(f\"MAE (train): {linear_mae_train:.5f}\")\n",
    "print(f\"MAE: {linear_mae:.5f}\")\n",
    "#print(f\"MAE (eval): {linear_mae_eval:.5f}\")\n"
   ]
  },
  {
   "cell_type": "markdown",
   "metadata": {},
   "source": [
    "## Predicción final"
   ]
  },
  {
   "cell_type": "code",
   "execution_count": 12,
   "metadata": {},
   "outputs": [
    {
     "ename": "AttributeError",
     "evalue": "'list' object has no attribute 'features_independientes_precio'",
     "output_type": "error",
     "traceback": [
      "\u001b[0;31m----------------------------------------------------------------------\u001b[0m",
      "\u001b[0;31mAttributeError\u001b[0m                       Traceback (most recent call last)",
      "\u001b[0;32m<ipython-input-12-45b9753dfd49>\u001b[0m in \u001b[0;36m<module>\u001b[0;34m\u001b[0m\n\u001b[1;32m      4\u001b[0m \u001b[0mdf_test\u001b[0m \u001b[0;34m=\u001b[0m \u001b[0mpd\u001b[0m\u001b[0;34m.\u001b[0m\u001b[0mread_csv\u001b[0m\u001b[0;34m(\u001b[0m\u001b[0;34m'./data/test.csv'\u001b[0m\u001b[0;34m)\u001b[0m\u001b[0;34m\u001b[0m\u001b[0;34m\u001b[0m\u001b[0m\n\u001b[1;32m      5\u001b[0m \u001b[0;34m\u001b[0m\u001b[0m\n\u001b[0;32m----> 6\u001b[0;31m \u001b[0mdf_test_f\u001b[0m \u001b[0;34m=\u001b[0m \u001b[0mfeatures\u001b[0m\u001b[0;34m.\u001b[0m\u001b[0mfeatures_independientes_precio\u001b[0m\u001b[0;34m(\u001b[0m\u001b[0mdf_test\u001b[0m\u001b[0;34m)\u001b[0m\u001b[0;34m\u001b[0m\u001b[0;34m\u001b[0m\u001b[0m\n\u001b[0m\u001b[1;32m      7\u001b[0m \u001b[0mdf_test_f\u001b[0m \u001b[0;34m=\u001b[0m \u001b[0mfeatures\u001b[0m\u001b[0;34m.\u001b[0m\u001b[0mfeatures_dependientes_precio\u001b[0m\u001b[0;34m(\u001b[0m\u001b[0mdf_test_f\u001b[0m\u001b[0;34m,\u001b[0m \u001b[0mdf_train\u001b[0m\u001b[0;34m)\u001b[0m\u001b[0;34m\u001b[0m\u001b[0;34m\u001b[0m\u001b[0m\n\u001b[1;32m      8\u001b[0m \u001b[0;34m\u001b[0m\u001b[0m\n",
      "\u001b[0;31mAttributeError\u001b[0m: 'list' object has no attribute 'features_independientes_precio'"
     ]
    }
   ],
   "source": [
    "df_train = pd.read_csv('./data/train_filtrado.csv',)\n",
    "\n",
    "# Para usarse con el submit a Kaggle\n",
    "df_test = pd.read_csv('./data/test.csv')\n",
    "\n",
    "df_test_f = features.features_independientes_precio(df_test)\n",
    "df_test_f = features.features_dependientes_precio(df_test_f, df_train)\n",
    "\n",
    "df_train_f = features.features_independientes_precio(df_train)\n",
    "df_train_f = features.features_dependientes_precio(df_train_f, df_train)\n",
    "\n",
    "df_test_f, cols_tipodepropiedad_ohe = features.columna_a_ohe(df_test_f, 'tipodepropiedad', N=250, df_aux=df_train, devolver_cols=True)\n",
    "df_test_f, cols_provincia_ohe = features.columna_a_ohe(df_test_f, 'provincia', N=250, df_aux=df_train, devolver_cols=True)\n",
    "df_test_f, cols_zona_ohe = features.columna_a_ohe(df_test_f, 'zona', N=250, df_aux=df_train_f, devolver_cols=True)\n",
    "\n",
    "df_train_f = features.columna_a_ohe(df_train_f, 'tipodepropiedad', N=250, df_aux=df_test)\n",
    "df_train_f = features.columna_a_ohe(df_train_f, 'provincia', N=250, df_aux=df_test)\n",
    "df_train_f = features.columna_a_ohe(df_train_f, 'zona', N=250, df_aux=df_test_f)\n",
    "\n",
    "\n",
    "df_train_idf = pd.read_csv('./data/train_idf.csv')\n",
    "df_test_idf = pd.read_csv('./data/test_idf.csv')\n",
    "\n",
    "df_train_f = pd.merge(df_train_f, df_train_idf, on= 'id', how= 'left')\n",
    "df_test_f = pd.merge(df_test_f, df_test_idf, on= 'id', how= 'left')\n",
    "\n",
    "df_train_f = f_distancias.feature_distancias(df_train_f)\n",
    "df_test_f = f_distancias.feature_distancias(df_test_f, df_train_f)\n"
   ]
  },
  {
   "cell_type": "code",
   "execution_count": 16,
   "metadata": {
    "scrolled": false
   },
   "outputs": [
    {
     "name": "stderr",
     "output_type": "stream",
     "text": [
      "/home/camix/anaconda3/lib/python3.7/site-packages/xgboost/core.py:587: FutureWarning: Series.base is deprecated and will be removed in a future version\n",
      "  if getattr(data, 'base', None) is not None and \\\n",
      "/home/camix/anaconda3/lib/python3.7/site-packages/xgboost/core.py:588: FutureWarning: Series.base is deprecated and will be removed in a future version\n",
      "  data.base is not None and isinstance(data, np.ndarray) \\\n"
     ]
    },
    {
     "name": "stdout",
     "output_type": "stream",
     "text": [
      "[0]\ttrain-mae:2.28356e+06\ttest-mae:2.23717e+06\n",
      "Multiple eval metrics have been passed: 'test-mae' will be used for early stopping.\n",
      "\n",
      "Will train until test-mae hasn't improved in 10 rounds.\n",
      "[1]\ttrain-mae:2.05667e+06\ttest-mae:2.0136e+06\n",
      "[2]\ttrain-mae:1.85294e+06\ttest-mae:1.81278e+06\n",
      "[3]\ttrain-mae:1.67054e+06\ttest-mae:1.63365e+06\n",
      "[4]\ttrain-mae:1.50798e+06\ttest-mae:1.47437e+06\n",
      "[5]\ttrain-mae:1.36372e+06\ttest-mae:1.33323e+06\n",
      "[6]\ttrain-mae:1.23634e+06\ttest-mae:1.20969e+06\n",
      "[7]\ttrain-mae:1.12418e+06\ttest-mae:1.10118e+06\n",
      "[8]\ttrain-mae:1.02596e+06\ttest-mae:1.00637e+06\n",
      "[9]\ttrain-mae:940367\ttest-mae:924364\n",
      "[10]\ttrain-mae:866050\ttest-mae:853672\n",
      "[11]\ttrain-mae:801902\ttest-mae:793704\n",
      "[12]\ttrain-mae:746942\ttest-mae:742792\n",
      "[13]\ttrain-mae:699965\ttest-mae:700031\n",
      "[14]\ttrain-mae:660122\ttest-mae:664154\n",
      "[15]\ttrain-mae:626341\ttest-mae:634285\n",
      "[16]\ttrain-mae:597800\ttest-mae:609652\n",
      "[17]\ttrain-mae:573791\ttest-mae:588901\n",
      "[18]\ttrain-mae:553525\ttest-mae:571563\n",
      "[19]\ttrain-mae:536506\ttest-mae:557377\n",
      "[20]\ttrain-mae:522118\ttest-mae:545747\n",
      "[21]\ttrain-mae:509797\ttest-mae:535830\n",
      "[22]\ttrain-mae:499759\ttest-mae:527655\n",
      "[23]\ttrain-mae:491026\ttest-mae:520934\n",
      "[24]\ttrain-mae:483515\ttest-mae:515675\n",
      "[25]\ttrain-mae:477089\ttest-mae:511233\n",
      "[26]\ttrain-mae:471651\ttest-mae:507493\n",
      "[27]\ttrain-mae:466767\ttest-mae:504031\n",
      "[28]\ttrain-mae:462652\ttest-mae:501283\n",
      "[29]\ttrain-mae:458903\ttest-mae:499050\n",
      "[30]\ttrain-mae:455753\ttest-mae:496947\n",
      "[31]\ttrain-mae:452624\ttest-mae:495025\n",
      "[32]\ttrain-mae:450040\ttest-mae:493519\n",
      "[33]\ttrain-mae:447423\ttest-mae:492122\n",
      "[34]\ttrain-mae:444918\ttest-mae:491167\n",
      "[35]\ttrain-mae:442140\ttest-mae:489996\n",
      "[36]\ttrain-mae:439940\ttest-mae:489144\n",
      "[37]\ttrain-mae:437925\ttest-mae:488308\n",
      "[38]\ttrain-mae:436149\ttest-mae:487319\n",
      "[39]\ttrain-mae:434569\ttest-mae:486832\n",
      "[40]\ttrain-mae:432602\ttest-mae:486022\n",
      "[41]\ttrain-mae:431068\ttest-mae:485535\n",
      "[42]\ttrain-mae:429643\ttest-mae:484877\n",
      "[43]\ttrain-mae:427851\ttest-mae:484034\n",
      "[44]\ttrain-mae:426460\ttest-mae:483542\n",
      "[45]\ttrain-mae:424908\ttest-mae:483084\n",
      "[46]\ttrain-mae:423728\ttest-mae:482552\n",
      "[47]\ttrain-mae:422487\ttest-mae:482198\n",
      "[48]\ttrain-mae:420716\ttest-mae:481390\n",
      "[49]\ttrain-mae:419310\ttest-mae:480894\n",
      "[50]\ttrain-mae:418226\ttest-mae:480609\n",
      "[51]\ttrain-mae:417166\ttest-mae:480236\n",
      "[52]\ttrain-mae:416480\ttest-mae:479982\n",
      "[53]\ttrain-mae:414964\ttest-mae:479603\n",
      "[54]\ttrain-mae:413603\ttest-mae:479251\n",
      "[55]\ttrain-mae:412623\ttest-mae:478931\n",
      "[56]\ttrain-mae:411530\ttest-mae:478542\n",
      "[57]\ttrain-mae:410937\ttest-mae:478194\n",
      "[58]\ttrain-mae:409894\ttest-mae:477994\n",
      "[59]\ttrain-mae:408536\ttest-mae:477808\n",
      "[60]\ttrain-mae:407003\ttest-mae:477351\n",
      "[61]\ttrain-mae:406576\ttest-mae:477287\n",
      "[62]\ttrain-mae:405590\ttest-mae:476968\n",
      "[63]\ttrain-mae:404164\ttest-mae:476543\n",
      "[64]\ttrain-mae:403118\ttest-mae:476161\n",
      "[65]\ttrain-mae:402238\ttest-mae:475909\n",
      "[66]\ttrain-mae:401664\ttest-mae:475675\n",
      "[67]\ttrain-mae:400614\ttest-mae:475387\n",
      "[68]\ttrain-mae:399692\ttest-mae:475018\n",
      "[69]\ttrain-mae:399085\ttest-mae:474860\n",
      "[70]\ttrain-mae:398128\ttest-mae:474526\n",
      "[71]\ttrain-mae:397257\ttest-mae:474286\n",
      "[72]\ttrain-mae:396599\ttest-mae:474099\n",
      "[73]\ttrain-mae:396304\ttest-mae:474047\n",
      "[74]\ttrain-mae:395641\ttest-mae:473655\n",
      "[75]\ttrain-mae:394530\ttest-mae:473335\n",
      "[76]\ttrain-mae:393879\ttest-mae:473258\n",
      "[77]\ttrain-mae:393027\ttest-mae:472919\n",
      "[78]\ttrain-mae:392479\ttest-mae:472704\n",
      "[79]\ttrain-mae:391426\ttest-mae:472373\n",
      "[80]\ttrain-mae:390731\ttest-mae:472209\n",
      "[81]\ttrain-mae:389750\ttest-mae:471938\n",
      "[82]\ttrain-mae:389431\ttest-mae:471873\n",
      "[83]\ttrain-mae:388721\ttest-mae:471756\n",
      "[84]\ttrain-mae:387982\ttest-mae:471645\n",
      "[85]\ttrain-mae:387603\ttest-mae:471589\n",
      "[86]\ttrain-mae:387108\ttest-mae:471482\n",
      "[87]\ttrain-mae:386293\ttest-mae:471363\n",
      "[88]\ttrain-mae:385560\ttest-mae:471286\n",
      "[89]\ttrain-mae:384846\ttest-mae:471176\n",
      "[90]\ttrain-mae:384149\ttest-mae:471211\n",
      "[91]\ttrain-mae:383704\ttest-mae:471092\n",
      "[92]\ttrain-mae:383031\ttest-mae:470908\n",
      "[93]\ttrain-mae:382228\ttest-mae:470729\n",
      "[94]\ttrain-mae:381123\ttest-mae:470489\n",
      "[95]\ttrain-mae:380661\ttest-mae:470330\n",
      "[96]\ttrain-mae:380292\ttest-mae:470236\n",
      "[97]\ttrain-mae:379877\ttest-mae:470079\n",
      "[98]\ttrain-mae:379658\ttest-mae:470025\n",
      "[99]\ttrain-mae:379324\ttest-mae:469975\n",
      "[100]\ttrain-mae:378515\ttest-mae:469869\n",
      "[101]\ttrain-mae:378140\ttest-mae:469767\n",
      "[102]\ttrain-mae:377659\ttest-mae:469668\n",
      "[103]\ttrain-mae:377382\ttest-mae:469589\n",
      "[104]\ttrain-mae:376688\ttest-mae:469466\n",
      "[105]\ttrain-mae:376174\ttest-mae:469344\n",
      "[106]\ttrain-mae:375816\ttest-mae:469251\n",
      "[107]\ttrain-mae:375396\ttest-mae:469191\n",
      "[108]\ttrain-mae:374858\ttest-mae:469025\n",
      "[109]\ttrain-mae:374282\ttest-mae:468903\n",
      "[110]\ttrain-mae:373328\ttest-mae:468646\n",
      "[111]\ttrain-mae:373189\ttest-mae:468617\n",
      "[112]\ttrain-mae:372660\ttest-mae:468529\n",
      "[113]\ttrain-mae:371948\ttest-mae:468548\n",
      "[114]\ttrain-mae:371486\ttest-mae:468430\n",
      "[115]\ttrain-mae:370937\ttest-mae:468367\n",
      "[116]\ttrain-mae:370136\ttest-mae:468316\n",
      "[117]\ttrain-mae:369701\ttest-mae:468230\n",
      "[118]\ttrain-mae:369087\ttest-mae:468141\n",
      "[119]\ttrain-mae:368291\ttest-mae:467961\n",
      "[120]\ttrain-mae:367377\ttest-mae:467742\n",
      "[121]\ttrain-mae:367009\ttest-mae:467678\n",
      "[122]\ttrain-mae:366539\ttest-mae:467519\n",
      "[123]\ttrain-mae:365957\ttest-mae:467406\n",
      "[124]\ttrain-mae:365652\ttest-mae:467322\n",
      "[125]\ttrain-mae:365338\ttest-mae:467268\n",
      "[126]\ttrain-mae:364705\ttest-mae:467091\n",
      "[127]\ttrain-mae:363886\ttest-mae:466967\n",
      "[128]\ttrain-mae:363655\ttest-mae:466934\n",
      "[129]\ttrain-mae:363378\ttest-mae:466853\n",
      "[130]\ttrain-mae:363069\ttest-mae:466768\n",
      "[131]\ttrain-mae:362733\ttest-mae:466707\n",
      "[132]\ttrain-mae:362111\ttest-mae:466513\n",
      "[133]\ttrain-mae:361562\ttest-mae:466389\n",
      "[134]\ttrain-mae:361315\ttest-mae:466367\n",
      "[135]\ttrain-mae:360684\ttest-mae:466185\n",
      "[136]\ttrain-mae:360467\ttest-mae:466131\n",
      "[137]\ttrain-mae:359921\ttest-mae:466082\n",
      "[138]\ttrain-mae:359400\ttest-mae:465935\n",
      "[139]\ttrain-mae:359076\ttest-mae:465903\n",
      "[140]\ttrain-mae:358856\ttest-mae:465882\n",
      "[141]\ttrain-mae:358386\ttest-mae:465793\n",
      "[142]\ttrain-mae:358068\ttest-mae:465736\n",
      "[143]\ttrain-mae:357220\ttest-mae:465587\n",
      "[144]\ttrain-mae:356918\ttest-mae:465556\n",
      "[145]\ttrain-mae:356323\ttest-mae:465463\n",
      "[146]\ttrain-mae:355985\ttest-mae:465389\n",
      "[147]\ttrain-mae:355513\ttest-mae:465397\n",
      "[148]\ttrain-mae:355332\ttest-mae:465336\n",
      "[149]\ttrain-mae:354896\ttest-mae:465168\n",
      "[150]\ttrain-mae:354688\ttest-mae:465087\n",
      "[151]\ttrain-mae:354585\ttest-mae:465055\n",
      "[152]\ttrain-mae:354196\ttest-mae:465006\n",
      "[153]\ttrain-mae:353685\ttest-mae:464923\n",
      "[154]\ttrain-mae:353146\ttest-mae:464842\n",
      "[155]\ttrain-mae:352678\ttest-mae:464723\n",
      "[156]\ttrain-mae:352297\ttest-mae:464686\n",
      "[157]\ttrain-mae:351594\ttest-mae:464528\n",
      "[158]\ttrain-mae:351120\ttest-mae:464546\n",
      "[159]\ttrain-mae:350856\ttest-mae:464447\n",
      "[160]\ttrain-mae:350730\ttest-mae:464396\n",
      "[161]\ttrain-mae:350351\ttest-mae:464344\n",
      "[162]\ttrain-mae:349889\ttest-mae:464266\n",
      "[163]\ttrain-mae:349435\ttest-mae:464207\n",
      "[164]\ttrain-mae:348987\ttest-mae:464121\n",
      "[165]\ttrain-mae:348640\ttest-mae:464096\n",
      "[166]\ttrain-mae:348384\ttest-mae:464000\n",
      "[167]\ttrain-mae:347816\ttest-mae:463953\n",
      "[168]\ttrain-mae:347161\ttest-mae:463841\n",
      "[169]\ttrain-mae:346871\ttest-mae:463844\n",
      "[170]\ttrain-mae:346511\ttest-mae:463787\n",
      "[171]\ttrain-mae:345900\ttest-mae:463689\n",
      "[172]\ttrain-mae:345611\ttest-mae:463640\n",
      "[173]\ttrain-mae:345036\ttest-mae:463520\n",
      "[174]\ttrain-mae:344823\ttest-mae:463492\n",
      "[175]\ttrain-mae:344554\ttest-mae:463404\n",
      "[176]\ttrain-mae:344342\ttest-mae:463397\n",
      "[177]\ttrain-mae:344206\ttest-mae:463359\n",
      "[178]\ttrain-mae:343873\ttest-mae:463262\n",
      "[179]\ttrain-mae:343602\ttest-mae:463255\n",
      "[180]\ttrain-mae:343212\ttest-mae:463206\n",
      "[181]\ttrain-mae:342795\ttest-mae:463105\n",
      "[182]\ttrain-mae:342618\ttest-mae:463099\n",
      "[183]\ttrain-mae:342353\ttest-mae:463044\n",
      "[184]\ttrain-mae:341915\ttest-mae:462955\n",
      "[185]\ttrain-mae:341497\ttest-mae:462884\n",
      "[186]\ttrain-mae:340891\ttest-mae:462806\n",
      "[187]\ttrain-mae:340608\ttest-mae:462819\n",
      "[188]\ttrain-mae:340249\ttest-mae:462887\n",
      "[189]\ttrain-mae:339914\ttest-mae:462899\n",
      "[190]\ttrain-mae:339615\ttest-mae:462909\n",
      "[191]\ttrain-mae:339073\ttest-mae:462792\n",
      "[192]\ttrain-mae:338811\ttest-mae:462728\n",
      "[193]\ttrain-mae:338614\ttest-mae:462715\n",
      "[194]\ttrain-mae:338189\ttest-mae:462694\n",
      "[195]\ttrain-mae:337925\ttest-mae:462676\n",
      "[196]\ttrain-mae:337814\ttest-mae:462652\n",
      "[197]\ttrain-mae:337320\ttest-mae:462614\n",
      "[198]\ttrain-mae:336871\ttest-mae:462587\n",
      "[199]\ttrain-mae:336247\ttest-mae:462471\n",
      "[200]\ttrain-mae:336056\ttest-mae:462458\n",
      "[201]\ttrain-mae:335748\ttest-mae:462352\n",
      "[202]\ttrain-mae:335233\ttest-mae:462295\n",
      "[203]\ttrain-mae:335020\ttest-mae:462208\n",
      "[204]\ttrain-mae:334888\ttest-mae:462176\n",
      "[205]\ttrain-mae:334340\ttest-mae:462192\n",
      "[206]\ttrain-mae:334060\ttest-mae:462195\n"
     ]
    },
    {
     "name": "stdout",
     "output_type": "stream",
     "text": [
      "[207]\ttrain-mae:333662\ttest-mae:462167\n",
      "[208]\ttrain-mae:333184\ttest-mae:462096\n",
      "[209]\ttrain-mae:332757\ttest-mae:462098\n",
      "[210]\ttrain-mae:332545\ttest-mae:462048\n",
      "[211]\ttrain-mae:332135\ttest-mae:461913\n",
      "[212]\ttrain-mae:331740\ttest-mae:461858\n",
      "[213]\ttrain-mae:331700\ttest-mae:461845\n",
      "[214]\ttrain-mae:331446\ttest-mae:461803\n",
      "[215]\ttrain-mae:331174\ttest-mae:461790\n",
      "[216]\ttrain-mae:330915\ttest-mae:461795\n",
      "[217]\ttrain-mae:330583\ttest-mae:461744\n",
      "[218]\ttrain-mae:330178\ttest-mae:461658\n",
      "[219]\ttrain-mae:329888\ttest-mae:461643\n",
      "[220]\ttrain-mae:329636\ttest-mae:461528\n",
      "[221]\ttrain-mae:329516\ttest-mae:461484\n",
      "[222]\ttrain-mae:329274\ttest-mae:461442\n",
      "[223]\ttrain-mae:329193\ttest-mae:461412\n",
      "[224]\ttrain-mae:328888\ttest-mae:461373\n",
      "[225]\ttrain-mae:328324\ttest-mae:461278\n",
      "[226]\ttrain-mae:328043\ttest-mae:461248\n",
      "[227]\ttrain-mae:327752\ttest-mae:461250\n",
      "[228]\ttrain-mae:327696\ttest-mae:461244\n",
      "[229]\ttrain-mae:327439\ttest-mae:461133\n",
      "[230]\ttrain-mae:327195\ttest-mae:461099\n",
      "[231]\ttrain-mae:326781\ttest-mae:461035\n",
      "[232]\ttrain-mae:326684\ttest-mae:460989\n",
      "[233]\ttrain-mae:326459\ttest-mae:460951\n",
      "[234]\ttrain-mae:326249\ttest-mae:460931\n",
      "[235]\ttrain-mae:326092\ttest-mae:460900\n",
      "[236]\ttrain-mae:325969\ttest-mae:460878\n",
      "[237]\ttrain-mae:325779\ttest-mae:460823\n",
      "[238]\ttrain-mae:325462\ttest-mae:460808\n",
      "[239]\ttrain-mae:325065\ttest-mae:460763\n",
      "[240]\ttrain-mae:324988\ttest-mae:460775\n",
      "[241]\ttrain-mae:324872\ttest-mae:460772\n",
      "[242]\ttrain-mae:324639\ttest-mae:460702\n",
      "[243]\ttrain-mae:324275\ttest-mae:460649\n",
      "[244]\ttrain-mae:324017\ttest-mae:460585\n",
      "[245]\ttrain-mae:323905\ttest-mae:460575\n",
      "[246]\ttrain-mae:323657\ttest-mae:460515\n",
      "[247]\ttrain-mae:323333\ttest-mae:460411\n",
      "[248]\ttrain-mae:323114\ttest-mae:460378\n",
      "[249]\ttrain-mae:322995\ttest-mae:460367\n",
      "[250]\ttrain-mae:322809\ttest-mae:460327\n",
      "[251]\ttrain-mae:322496\ttest-mae:460282\n",
      "[252]\ttrain-mae:322375\ttest-mae:460239\n",
      "[253]\ttrain-mae:322039\ttest-mae:460209\n",
      "[254]\ttrain-mae:321845\ttest-mae:460167\n",
      "[255]\ttrain-mae:321489\ttest-mae:460128\n",
      "[256]\ttrain-mae:321164\ttest-mae:460132\n",
      "[257]\ttrain-mae:320664\ttest-mae:460159\n",
      "[258]\ttrain-mae:320270\ttest-mae:460068\n",
      "[259]\ttrain-mae:319793\ttest-mae:459944\n",
      "[260]\ttrain-mae:319717\ttest-mae:459931\n",
      "[261]\ttrain-mae:319387\ttest-mae:459856\n",
      "[262]\ttrain-mae:319104\ttest-mae:459806\n",
      "[263]\ttrain-mae:318646\ttest-mae:459707\n",
      "[264]\ttrain-mae:317933\ttest-mae:459638\n",
      "[265]\ttrain-mae:317618\ttest-mae:459626\n",
      "[266]\ttrain-mae:317166\ttest-mae:459584\n",
      "[267]\ttrain-mae:316775\ttest-mae:459590\n",
      "[268]\ttrain-mae:316462\ttest-mae:459573\n",
      "[269]\ttrain-mae:316040\ttest-mae:459525\n",
      "[270]\ttrain-mae:315583\ttest-mae:459426\n",
      "[271]\ttrain-mae:315175\ttest-mae:459406\n",
      "[272]\ttrain-mae:314814\ttest-mae:459344\n",
      "[273]\ttrain-mae:314632\ttest-mae:459319\n",
      "[274]\ttrain-mae:314234\ttest-mae:459226\n",
      "[275]\ttrain-mae:313895\ttest-mae:459171\n",
      "[276]\ttrain-mae:313526\ttest-mae:459090\n",
      "[277]\ttrain-mae:313477\ttest-mae:459098\n",
      "[278]\ttrain-mae:313331\ttest-mae:459104\n",
      "[279]\ttrain-mae:313003\ttest-mae:459042\n",
      "[280]\ttrain-mae:312750\ttest-mae:458964\n",
      "[281]\ttrain-mae:312305\ttest-mae:458946\n",
      "[282]\ttrain-mae:312209\ttest-mae:458937\n",
      "[283]\ttrain-mae:312114\ttest-mae:458956\n",
      "[284]\ttrain-mae:311846\ttest-mae:459005\n",
      "[285]\ttrain-mae:311479\ttest-mae:458989\n",
      "[286]\ttrain-mae:311263\ttest-mae:458985\n",
      "[287]\ttrain-mae:310965\ttest-mae:458964\n",
      "[288]\ttrain-mae:310831\ttest-mae:458964\n",
      "[289]\ttrain-mae:310730\ttest-mae:458958\n",
      "[290]\ttrain-mae:310496\ttest-mae:458928\n",
      "[291]\ttrain-mae:310316\ttest-mae:458910\n",
      "[292]\ttrain-mae:309890\ttest-mae:458882\n",
      "[293]\ttrain-mae:309389\ttest-mae:458851\n",
      "[294]\ttrain-mae:309246\ttest-mae:458839\n",
      "[295]\ttrain-mae:309158\ttest-mae:458834\n",
      "[296]\ttrain-mae:309005\ttest-mae:458836\n",
      "[297]\ttrain-mae:308797\ttest-mae:458849\n",
      "[298]\ttrain-mae:308538\ttest-mae:458879\n",
      "[299]\ttrain-mae:308288\ttest-mae:458848\n",
      "[300]\ttrain-mae:307924\ttest-mae:458816\n",
      "[301]\ttrain-mae:307656\ttest-mae:458774\n",
      "[302]\ttrain-mae:307516\ttest-mae:458733\n",
      "[303]\ttrain-mae:307388\ttest-mae:458715\n",
      "[304]\ttrain-mae:307200\ttest-mae:458675\n",
      "[305]\ttrain-mae:306826\ttest-mae:458627\n",
      "[306]\ttrain-mae:306608\ttest-mae:458599\n",
      "[307]\ttrain-mae:306488\ttest-mae:458562\n",
      "[308]\ttrain-mae:306061\ttest-mae:458566\n",
      "[309]\ttrain-mae:305796\ttest-mae:458554\n",
      "[310]\ttrain-mae:305421\ttest-mae:458543\n",
      "[311]\ttrain-mae:305286\ttest-mae:458519\n",
      "[312]\ttrain-mae:305150\ttest-mae:458496\n",
      "[313]\ttrain-mae:304598\ttest-mae:458412\n",
      "[314]\ttrain-mae:304419\ttest-mae:458416\n",
      "[315]\ttrain-mae:304266\ttest-mae:458413\n",
      "[316]\ttrain-mae:303983\ttest-mae:458378\n",
      "[317]\ttrain-mae:303621\ttest-mae:458340\n",
      "[318]\ttrain-mae:303406\ttest-mae:458328\n",
      "[319]\ttrain-mae:303234\ttest-mae:458313\n",
      "[320]\ttrain-mae:303212\ttest-mae:458320\n",
      "[321]\ttrain-mae:302853\ttest-mae:458295\n",
      "[322]\ttrain-mae:302381\ttest-mae:458262\n",
      "[323]\ttrain-mae:302140\ttest-mae:458277\n",
      "[324]\ttrain-mae:302002\ttest-mae:458275\n",
      "[325]\ttrain-mae:301634\ttest-mae:458218\n",
      "[326]\ttrain-mae:301461\ttest-mae:458156\n",
      "[327]\ttrain-mae:301194\ttest-mae:458061\n",
      "[328]\ttrain-mae:300834\ttest-mae:457924\n",
      "[329]\ttrain-mae:300632\ttest-mae:457955\n",
      "[330]\ttrain-mae:300493\ttest-mae:457925\n",
      "[331]\ttrain-mae:299921\ttest-mae:457890\n",
      "[332]\ttrain-mae:299761\ttest-mae:457868\n",
      "[333]\ttrain-mae:299449\ttest-mae:457811\n",
      "[334]\ttrain-mae:299172\ttest-mae:457728\n",
      "[335]\ttrain-mae:298872\ttest-mae:457677\n",
      "[336]\ttrain-mae:298465\ttest-mae:457564\n",
      "[337]\ttrain-mae:298219\ttest-mae:457567\n",
      "[338]\ttrain-mae:298035\ttest-mae:457556\n",
      "[339]\ttrain-mae:297941\ttest-mae:457550\n",
      "[340]\ttrain-mae:297681\ttest-mae:457491\n",
      "[341]\ttrain-mae:297461\ttest-mae:457495\n",
      "[342]\ttrain-mae:297348\ttest-mae:457487\n",
      "[343]\ttrain-mae:297145\ttest-mae:457459\n",
      "[344]\ttrain-mae:296845\ttest-mae:457447\n",
      "[345]\ttrain-mae:296643\ttest-mae:457428\n",
      "[346]\ttrain-mae:296500\ttest-mae:457401\n",
      "[347]\ttrain-mae:296353\ttest-mae:457385\n",
      "[348]\ttrain-mae:296141\ttest-mae:457393\n",
      "[349]\ttrain-mae:295870\ttest-mae:457343\n",
      "[350]\ttrain-mae:295658\ttest-mae:457332\n",
      "[351]\ttrain-mae:295330\ttest-mae:457300\n",
      "[352]\ttrain-mae:295038\ttest-mae:457281\n",
      "[353]\ttrain-mae:294770\ttest-mae:457304\n",
      "[354]\ttrain-mae:294590\ttest-mae:457227\n",
      "[355]\ttrain-mae:294312\ttest-mae:457145\n",
      "[356]\ttrain-mae:294118\ttest-mae:457179\n",
      "[357]\ttrain-mae:293739\ttest-mae:457211\n",
      "[358]\ttrain-mae:293330\ttest-mae:457163\n",
      "[359]\ttrain-mae:293096\ttest-mae:457148\n",
      "[360]\ttrain-mae:292929\ttest-mae:457105\n",
      "[361]\ttrain-mae:292566\ttest-mae:457106\n",
      "[362]\ttrain-mae:292496\ttest-mae:457123\n",
      "[363]\ttrain-mae:292386\ttest-mae:457097\n",
      "[364]\ttrain-mae:292095\ttest-mae:457080\n",
      "[365]\ttrain-mae:291848\ttest-mae:457029\n",
      "[366]\ttrain-mae:291546\ttest-mae:457029\n",
      "[367]\ttrain-mae:291252\ttest-mae:457002\n",
      "[368]\ttrain-mae:291062\ttest-mae:457017\n",
      "[369]\ttrain-mae:290642\ttest-mae:456924\n",
      "[370]\ttrain-mae:290335\ttest-mae:456871\n",
      "[371]\ttrain-mae:289911\ttest-mae:456836\n",
      "[372]\ttrain-mae:289602\ttest-mae:456829\n",
      "[373]\ttrain-mae:289152\ttest-mae:456736\n",
      "[374]\ttrain-mae:288947\ttest-mae:456705\n",
      "[375]\ttrain-mae:288780\ttest-mae:456694\n",
      "[376]\ttrain-mae:288616\ttest-mae:456656\n",
      "[377]\ttrain-mae:288311\ttest-mae:456646\n",
      "[378]\ttrain-mae:288144\ttest-mae:456642\n",
      "[379]\ttrain-mae:287922\ttest-mae:456641\n",
      "[380]\ttrain-mae:287643\ttest-mae:456645\n",
      "[381]\ttrain-mae:287573\ttest-mae:456642\n",
      "[382]\ttrain-mae:287454\ttest-mae:456622\n",
      "[383]\ttrain-mae:287155\ttest-mae:456590\n",
      "[384]\ttrain-mae:286917\ttest-mae:456594\n",
      "[385]\ttrain-mae:286628\ttest-mae:456531\n",
      "[386]\ttrain-mae:286431\ttest-mae:456516\n",
      "[387]\ttrain-mae:286174\ttest-mae:456441\n",
      "[388]\ttrain-mae:286009\ttest-mae:456414\n",
      "[389]\ttrain-mae:285695\ttest-mae:456427\n",
      "[390]\ttrain-mae:285301\ttest-mae:456366\n",
      "[391]\ttrain-mae:285122\ttest-mae:456321\n",
      "[392]\ttrain-mae:284922\ttest-mae:456279\n",
      "[393]\ttrain-mae:284774\ttest-mae:456242\n",
      "[394]\ttrain-mae:284645\ttest-mae:456227\n",
      "[395]\ttrain-mae:284383\ttest-mae:456215\n",
      "[396]\ttrain-mae:283994\ttest-mae:456196\n",
      "[397]\ttrain-mae:283751\ttest-mae:456181\n",
      "[398]\ttrain-mae:283436\ttest-mae:456163\n",
      "[399]\ttrain-mae:283293\ttest-mae:456139\n",
      "[400]\ttrain-mae:283080\ttest-mae:456136\n",
      "[401]\ttrain-mae:282689\ttest-mae:456076\n",
      "[402]\ttrain-mae:282322\ttest-mae:455996\n",
      "[403]\ttrain-mae:282237\ttest-mae:455978\n",
      "[404]\ttrain-mae:281937\ttest-mae:455969\n",
      "[405]\ttrain-mae:281739\ttest-mae:455919\n",
      "[406]\ttrain-mae:281551\ttest-mae:455898\n",
      "[407]\ttrain-mae:281494\ttest-mae:455905\n",
      "[408]\ttrain-mae:281446\ttest-mae:455897\n",
      "[409]\ttrain-mae:281294\ttest-mae:455851\n",
      "[410]\ttrain-mae:281131\ttest-mae:455846\n",
      "[411]\ttrain-mae:280882\ttest-mae:455848\n",
      "[412]\ttrain-mae:280783\ttest-mae:455841\n",
      "[413]\ttrain-mae:280511\ttest-mae:455770\n",
      "[414]\ttrain-mae:280473\ttest-mae:455754\n",
      "[415]\ttrain-mae:280157\ttest-mae:455770\n",
      "[416]\ttrain-mae:279920\ttest-mae:455760\n",
      "[417]\ttrain-mae:279381\ttest-mae:455695\n"
     ]
    },
    {
     "name": "stdout",
     "output_type": "stream",
     "text": [
      "[418]\ttrain-mae:279229\ttest-mae:455674\n",
      "[419]\ttrain-mae:279111\ttest-mae:455672\n",
      "[420]\ttrain-mae:278704\ttest-mae:455687\n",
      "[421]\ttrain-mae:278545\ttest-mae:455704\n",
      "[422]\ttrain-mae:278348\ttest-mae:455662\n",
      "[423]\ttrain-mae:278124\ttest-mae:455638\n",
      "[424]\ttrain-mae:277966\ttest-mae:455603\n",
      "[425]\ttrain-mae:277869\ttest-mae:455575\n",
      "[426]\ttrain-mae:277616\ttest-mae:455580\n",
      "[427]\ttrain-mae:277514\ttest-mae:455587\n",
      "[428]\ttrain-mae:277253\ttest-mae:455517\n",
      "[429]\ttrain-mae:276902\ttest-mae:455509\n",
      "[430]\ttrain-mae:276566\ttest-mae:455448\n",
      "[431]\ttrain-mae:276505\ttest-mae:455443\n",
      "[432]\ttrain-mae:276462\ttest-mae:455444\n",
      "[433]\ttrain-mae:276287\ttest-mae:455467\n",
      "[434]\ttrain-mae:276008\ttest-mae:455475\n",
      "[435]\ttrain-mae:275982\ttest-mae:455465\n",
      "[436]\ttrain-mae:275828\ttest-mae:455464\n",
      "[437]\ttrain-mae:275618\ttest-mae:455428\n",
      "[438]\ttrain-mae:275484\ttest-mae:455422\n",
      "[439]\ttrain-mae:275320\ttest-mae:455406\n",
      "[440]\ttrain-mae:275074\ttest-mae:455415\n",
      "[441]\ttrain-mae:274892\ttest-mae:455435\n",
      "[442]\ttrain-mae:274630\ttest-mae:455451\n",
      "[443]\ttrain-mae:274492\ttest-mae:455422\n",
      "[444]\ttrain-mae:274163\ttest-mae:455413\n",
      "[445]\ttrain-mae:274024\ttest-mae:455396\n",
      "[446]\ttrain-mae:273976\ttest-mae:455390\n",
      "[447]\ttrain-mae:273823\ttest-mae:455393\n",
      "[448]\ttrain-mae:273656\ttest-mae:455404\n",
      "[449]\ttrain-mae:273386\ttest-mae:455414\n",
      "[450]\ttrain-mae:273317\ttest-mae:455393\n",
      "[451]\ttrain-mae:272944\ttest-mae:455313\n",
      "[452]\ttrain-mae:272743\ttest-mae:455274\n",
      "[453]\ttrain-mae:272595\ttest-mae:455265\n",
      "[454]\ttrain-mae:272421\ttest-mae:455228\n",
      "[455]\ttrain-mae:272270\ttest-mae:455248\n",
      "[456]\ttrain-mae:272136\ttest-mae:455243\n",
      "[457]\ttrain-mae:271813\ttest-mae:455177\n",
      "[458]\ttrain-mae:271641\ttest-mae:455163\n",
      "[459]\ttrain-mae:271463\ttest-mae:455182\n",
      "[460]\ttrain-mae:271167\ttest-mae:455157\n",
      "[461]\ttrain-mae:271060\ttest-mae:455119\n",
      "[462]\ttrain-mae:270966\ttest-mae:455108\n",
      "[463]\ttrain-mae:270808\ttest-mae:455059\n",
      "[464]\ttrain-mae:270618\ttest-mae:455071\n",
      "[465]\ttrain-mae:270381\ttest-mae:455061\n",
      "[466]\ttrain-mae:270222\ttest-mae:455029\n",
      "[467]\ttrain-mae:270057\ttest-mae:454972\n",
      "[468]\ttrain-mae:269777\ttest-mae:454954\n",
      "[469]\ttrain-mae:269394\ttest-mae:454842\n",
      "[470]\ttrain-mae:269144\ttest-mae:454810\n",
      "[471]\ttrain-mae:268975\ttest-mae:454808\n",
      "[472]\ttrain-mae:268886\ttest-mae:454780\n",
      "[473]\ttrain-mae:268686\ttest-mae:454739\n",
      "[474]\ttrain-mae:268572\ttest-mae:454735\n",
      "[475]\ttrain-mae:268410\ttest-mae:454715\n",
      "[476]\ttrain-mae:268236\ttest-mae:454719\n",
      "[477]\ttrain-mae:267931\ttest-mae:454702\n",
      "[478]\ttrain-mae:267781\ttest-mae:454712\n",
      "[479]\ttrain-mae:267665\ttest-mae:454699\n",
      "[480]\ttrain-mae:267477\ttest-mae:454682\n",
      "[481]\ttrain-mae:267174\ttest-mae:454709\n",
      "[482]\ttrain-mae:267057\ttest-mae:454715\n",
      "[483]\ttrain-mae:266882\ttest-mae:454678\n",
      "[484]\ttrain-mae:266519\ttest-mae:454607\n",
      "[485]\ttrain-mae:266406\ttest-mae:454592\n",
      "[486]\ttrain-mae:266168\ttest-mae:454594\n",
      "[487]\ttrain-mae:265923\ttest-mae:454533\n",
      "[488]\ttrain-mae:265776\ttest-mae:454529\n",
      "[489]\ttrain-mae:265566\ttest-mae:454541\n",
      "[490]\ttrain-mae:265443\ttest-mae:454534\n",
      "[491]\ttrain-mae:265108\ttest-mae:454489\n",
      "[492]\ttrain-mae:264842\ttest-mae:454493\n",
      "[493]\ttrain-mae:264596\ttest-mae:454539\n",
      "[494]\ttrain-mae:264412\ttest-mae:454525\n",
      "[495]\ttrain-mae:264283\ttest-mae:454513\n",
      "[496]\ttrain-mae:264098\ttest-mae:454488\n",
      "[497]\ttrain-mae:263993\ttest-mae:454490\n",
      "[498]\ttrain-mae:263923\ttest-mae:454478\n",
      "[499]\ttrain-mae:263839\ttest-mae:454473\n",
      "MAE (train): 263838.91503\n",
      "MAE: 454472.51470\n"
     ]
    }
   ],
   "source": [
    "\n",
    "features = ['habitaciones', 'garages','banos','antiguedad', 'metroscubiertos',  'metrostotales','lat_norm', \n",
    "           'lng_norm', 'gimnasio', 'usosmultiples', 'piscina']\n",
    "\n",
    "features_test = ['top_provincia', 'promedio_precio_ciudad', 'anio', 'promedio_id_zona', \n",
    "                 'promedio_precio_tipo_propiedad', 'count_id_zona', 'count_ciudad', 'puntaje', \n",
    "               'count_tipo_propiedad_ciudad', 'promedio_precio_tipo_propiedad_ciudad_gen','count_id_zona'\n",
    "           'dias_desde_datos','meses_desde_datos','porcentaje_metros','distancia_ciudad_centrica', \n",
    "                'distancia_centro_mexico', 'distancia_ciudad_cara', 'promedio_precio_hbg_tipo_propiedad_provincia']\n",
    "\n",
    "features += features_test\n",
    "\n",
    "hps = {'colsample_bytree': 0.9,\n",
    " 'eval_metric': 'mae',\n",
    " 'learning_rate': 0.1,\n",
    " 'max_depth': 10,\n",
    " 'n_estimators': 120,\n",
    " 'n_jobs': 4,\n",
    " 'objective': 'reg:squarederror',\n",
    " 'scale_pos_weight': 1,\n",
    " 'verbosity': 0}\n",
    "\n",
    "colsample_bytree = hps['colsample_bytree']\n",
    "max_depth = hps['max_depth']\n",
    "learning_rate = hps['learning_rate']\n",
    "n_estimators = hps['n_estimators']\n",
    "n_estimators = int(hps['n_estimators'])\n",
    "max_depth = int(hps['max_depth'])\n",
    "scale_pos_weight = int(hps['scale_pos_weight'])\n",
    "verbosity = int(hps['verbosity'])\n",
    "\n",
    "# Filtro columnas\n",
    "df_XGBoost_fin = utils.filtrar_features(df_train_f, features, 'precio')\n",
    "df_eval_fin = utils.filtrar_features(df_test_f, features)\n",
    "\n",
    "x_train_f, x_test_f, y_train_f, y_test_f = utils.dividir_dataset(df_XGBoost_fin, 'precio', features,0.1)\n",
    "\n",
    "\n",
    "xg_train = xgb.DMatrix(x_train_f, label=y_train_f)\n",
    "xg_test = xgb.DMatrix(x_test_f, label=y_test_f)\n",
    "\n",
    "# Modelo - Ver hiperparametros\n",
    "params = {\n",
    "    'objective':'reg:squarederror', \n",
    "    'colsample_bytree' : colsample_bytree , \n",
    "    'learning_rate' : learning_rate,\n",
    "    'max_depth' : max_depth, \n",
    "    'scale_pos_weight': scale_pos_weight,\n",
    "    'n_estimators' : n_estimators,\n",
    "    'eval_metric': 'mae'\n",
    "}\n",
    "\n",
    "watchlist = [(xg_train, 'train'), (xg_test, 'test')]\n",
    "\n",
    "# Entrenamiento\n",
    "xg_reg = xgb.train(params, \n",
    "                   xg_train, \n",
    "                   num_boost_round=500,\n",
    "                   evals=watchlist,\n",
    "                   early_stopping_rounds=10\n",
    "                  )\n",
    "\n",
    "\n",
    "# Prediccion\n",
    "y_pred_test_f = xg_reg.predict(xgb.DMatrix(x_test_f))\n",
    "y_pred_train_f = xg_reg.predict(xgb.DMatrix(x_train_f))\n",
    "\n",
    "linear_mae_train_f = utils.MAE(y_train_f, y_pred_train_f)\n",
    "linear_mae_f = utils.MAE(y_test_f, y_pred_test_f)\n",
    "\n",
    "\n",
    "\n",
    "print(f\"MAE (train): {linear_mae_train_f:.5f}\")\n",
    "print(f\"MAE: {linear_mae_f:.5f}\")\n",
    "\n",
    "prediccion_final = xg_reg.predict(xgb.DMatrix(df_eval_fin))"
   ]
  },
  {
   "cell_type": "code",
   "execution_count": 18,
   "metadata": {},
   "outputs": [],
   "source": [
    "df_test_f['target'] = prediccion_final\n",
    "df_test_f[['id', 'target']].to_csv('respuesta38e.csv', index = False)"
   ]
  },
  {
   "cell_type": "markdown",
   "metadata": {},
   "source": [
    "### Verificación de Nulos"
   ]
  },
  {
   "cell_type": "code",
   "execution_count": null,
   "metadata": {},
   "outputs": [],
   "source": [
    "df_test_final_f['target'].isnull().any()"
   ]
  },
  {
   "cell_type": "code",
   "execution_count": null,
   "metadata": {},
   "outputs": [],
   "source": [
    "df_test_final_f['target'].isnull().value_counts()"
   ]
  },
  {
   "cell_type": "code",
   "execution_count": null,
   "metadata": {},
   "outputs": [],
   "source": [
    "x_train_f.columns"
   ]
  },
  {
   "cell_type": "code",
   "execution_count": null,
   "metadata": {},
   "outputs": [],
   "source": []
  }
 ],
 "metadata": {
  "kernelspec": {
   "display_name": "Python 3",
   "language": "python",
   "name": "python3"
  },
  "language_info": {
   "codemirror_mode": {
    "name": "ipython",
    "version": 3
   },
   "file_extension": ".py",
   "mimetype": "text/x-python",
   "name": "python",
   "nbconvert_exporter": "python",
   "pygments_lexer": "ipython3",
   "version": "3.7.3"
  }
 },
 "nbformat": 4,
 "nbformat_minor": 2
}
