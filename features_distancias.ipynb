{
 "cells": [
  {
   "cell_type": "code",
   "execution_count": 42,
   "metadata": {},
   "outputs": [],
   "source": [
    "import pandas as pd\n",
    "import numpy as np\n",
    "#import geopandas as gp\n",
    "#import adjustText as aT\n",
    "#import matplotlib.pylab as plt\n",
    "from sklearn import neighbors, datasets\n",
    "#from matplotlib.colors import ListedColormap\n",
    "\n",
    "#df_train = pd.read_csv('data/train_filtrado.csv')\n",
    "#df_test = pd.read_csv('data/test.csv')"
   ]
  },
  {
   "cell_type": "code",
   "execution_count": 43,
   "metadata": {},
   "outputs": [],
   "source": [
    "# maps = gp.read_file('data/maps/dest_2010gw.shp')"
   ]
  },
  {
   "cell_type": "code",
   "execution_count": 44,
   "metadata": {},
   "outputs": [],
   "source": [
    "# vals = df_train[(~df_train.lat.isnull()) & (~df_train.lng.isnull()) & (df_train.lat < 32.769750) & (df_train.lat > 14) & (df_train.lng > -118) & (df_train.lng < -85)]\n",
    "# ax = maps.plot(color='white', edgecolor='black')\n",
    "# vals.plot.scatter('lng', 'lat', ax=ax, c='precio', colormap='jet', figsize=(30, 15), colorbar=False,\n",
    "#                 title='Precio de propiedad y su ubicación en el mapa - México');\n",
    "\n",
    "# sm = plt.cm.ScalarMappable(cmap='jet', \n",
    "#                            norm=plt.Normalize(vmin=vals.precio.min(),\n",
    "#                                               vmax=vals.precio.max()))\n",
    "# plt.colorbar(sm, label='precio');"
   ]
  },
  {
   "cell_type": "code",
   "execution_count": 45,
   "metadata": {},
   "outputs": [],
   "source": [
    "# vals.shape"
   ]
  },
  {
   "cell_type": "code",
   "execution_count": 46,
   "metadata": {},
   "outputs": [],
   "source": [
    "def merge_ciudades(df):\n",
    "    ciudades_centricas = pd.read_csv('./data/ciudadcentrica_por_provincia.csv')\n",
    "    df_centro = pd.merge(df, ciudades_centricas, on = 'ciudad', how= 'right').rename(columns={'provincia_x': 'provincia'})\n",
    "    df_centro['centro'] =  df_centro['centro'].fillna(False)\n",
    "    df_centro_promedio = df_centro.groupby('provincia')[['lat', 'lng']].agg('mean').rename(columns = {'lat': 'lat_promedio', 'lng': 'lng_promedio'}).reset_index()\n",
    "    lat_DF = float(df_centro_promedio[df_centro_promedio['provincia'] == 'Distrito Federal']['lat_promedio'])\n",
    "    lng_DF = float(df_centro_promedio[df_centro_promedio['provincia'] == 'Distrito Federal']['lng_promedio'])\n",
    "\n",
    "    return df_centro_promedio, lat_DF, lng_DF"
   ]
  },
  {
   "cell_type": "code",
   "execution_count": 47,
   "metadata": {},
   "outputs": [],
   "source": [
    "def merge_ciudades_costosas(df):\n",
    "    ciudades_costosas = pd.read_csv('./data/ciudad_costosa.csv')\n",
    "    df_cara = pd.merge(df, ciudades_costosas, on = 'ciudad', how= 'right').rename(columns={'provincia_x': 'provincia'})\n",
    "    df_cara['costosa'] =  df_cara['costosa'].fillna(False)\n",
    "    df_costo_promedio = df_cara.groupby('provincia')[['lat', 'lng']].agg('mean').rename(columns = {'lat': 'lat_promedio', 'lng': 'lng_promedio'}).reset_index()\n",
    "    return df_costo_promedio"
   ]
  },
  {
   "cell_type": "code",
   "execution_count": 48,
   "metadata": {},
   "outputs": [],
   "source": [
    "#Verifico que todo se encuentre en rango:\n",
    "#df_centro_promedio[(~df_centro_promedio.lat_promedio.isnull()) & (~df_centro_promedio.lng_promedio.isnull()) & (df_centro_promedio.lat_promedio < 32.769750) & (df_centro_promedio.lat_promedio > 14) & (df_centro_promedio.lng_promedio > -118) & (df_centro_promedio.lng_promedio < -85)].shape"
   ]
  },
  {
   "cell_type": "code",
   "execution_count": 49,
   "metadata": {},
   "outputs": [],
   "source": [
    "def feature_distancias(df, df_fill=None):\n",
    "    if df_fill is None:\n",
    "        df_fill = df\n",
    "    \n",
    "    \n",
    "    df_centro_promedio, lat_DF, lng_DF = merge_ciudades(df_fill)\n",
    "    df_costo_promedio = merge_ciudades_costosas(df_fill)\n",
    "    \n",
    "    df_merge = pd.merge(df, df_centro_promedio, on = 'provincia', how= 'left')\n",
    "    df['distancia_ciudad_centrica'] = np.sqrt((df_merge.lat - df_merge.lat_promedio)**2 + (df_merge.lng -df_merge.lng_promedio)**2)\n",
    "    df['distancia_ciudad_centrica'] = df['distancia_ciudad_centrica'].fillna(df['distancia_ciudad_centrica'].mean())    \n",
    "    \n",
    "    \n",
    "    df['distancia_centro_mexico'] = np.sqrt((df_merge.lat - lat_DF)**2 + (df_merge.lng - lng_DF)**2)\n",
    "    df['distancia_centro_mexico'] = df['distancia_centro_mexico'].fillna(df['distancia_centro_mexico'].mean())    \n",
    "    \n",
    "    \n",
    "    df_merge_costo = pd.merge(df,df_costo_promedio, on= 'provincia', how = 'left' )\n",
    "    df['distancia_ciudad_cara'] = np.sqrt((df_merge_costo.lat - df_merge_costo.lat_promedio)**2 + (df_merge_costo.lng -df_merge_costo.lng_promedio)**2)\n",
    "    df['distancia_ciudad_cara'] = df['distancia_ciudad_cara'].fillna(df['distancia_ciudad_cara'].mean())    \n",
    "    \n",
    "    return df"
   ]
  },
  {
   "cell_type": "code",
   "execution_count": null,
   "metadata": {},
   "outputs": [],
   "source": []
  },
  {
   "cell_type": "code",
   "execution_count": null,
   "metadata": {},
   "outputs": [],
   "source": []
  }
 ],
 "metadata": {
  "kernelspec": {
   "display_name": "Python 3",
   "language": "python",
   "name": "python3"
  },
  "language_info": {
   "codemirror_mode": {
    "name": "ipython",
    "version": 3
   },
   "file_extension": ".py",
   "mimetype": "text/x-python",
   "name": "python",
   "nbconvert_exporter": "python",
   "pygments_lexer": "ipython3",
   "version": "3.7.4"
  }
 },
 "nbformat": 4,
 "nbformat_minor": 2
}
