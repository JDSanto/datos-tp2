{
 "cells": [
  {
   "cell_type": "code",
   "execution_count": 2,
   "metadata": {},
   "outputs": [
    {
     "name": "stderr",
     "output_type": "stream",
     "text": [
      "[nltk_data] Downloading package stopwords to /home/camix/nltk_data...\n",
      "[nltk_data]   Package stopwords is already up-to-date!\n"
     ]
    }
   ],
   "source": [
    "import pandas as pd\n",
    "import nltk\n",
    "from nltk.tokenize import word_tokenize\n",
    "from nltk.corpus import stopwords\n",
    "import numpy as np\n",
    "from sklearn.feature_extraction.text import TfidfVectorizer\n",
    "from sklearn.feature_extraction.text import CountVectorizer\n",
    "from itertools import islice\n",
    "\n",
    "nltk.download('stopwords')\n",
    "\n",
    "df_train = pd.read_csv('data/train.csv')\n",
    "df_test = pd.read_csv('data/test.csv')"
   ]
  },
  {
   "cell_type": "code",
   "execution_count": 3,
   "metadata": {},
   "outputs": [],
   "source": [
    "def llenar_nulls(df):\n",
    "    df['titulo'] = df['titulo'].fillna('vacio')\n",
    "    df['descripcion'] = df['descripcion'].fillna('vacio')\n",
    "    return df"
   ]
  },
  {
   "cell_type": "code",
   "execution_count": 4,
   "metadata": {},
   "outputs": [],
   "source": [
    "def generar_palabras_no_queridas(arr=None):\n",
    "    '''Retorna un set con las palabras a excluir, arr, es un campo opcional para excluir tambien \n",
    "    las palabras en ese arreglo'''\n",
    "    stop_words = set(stopwords.words('spanish'))\n",
    "    puntuacion = [',', '.', '!', '0', '1', '2', '3', '4', '5', '6', '7', '8', '9', '-', '_', '\\'', '\\\"', \n",
    "                  '(', ')', '[', ']', '{', '}', 'i', 'p', 'br', '<', '>', 'col.', '\\\\', '/', '$', 'm2', \n",
    "                  '..', '...', 'ii', '#', ';', ':', 'col']\n",
    "    \n",
    "    for x in puntuacion:\n",
    "        stop_words.add(x)\n",
    "    if arr:\n",
    "        for x in arr:\n",
    "            stop_words.add(x)\n",
    "    return stop_words\n",
    "\n",
    "def generar_token(textos):\n",
    "    reviews = textos.str.cat(sep=' ')\n",
    "    tokens = word_tokenize(reviews)\n",
    "    stop_words = generar_palabras_no_queridas()\n",
    "    tokens = [w for w in tokens if not w in stop_words]\n",
    "    return tokens"
   ]
  },
  {
   "cell_type": "code",
   "execution_count": 5,
   "metadata": {},
   "outputs": [],
   "source": [
    "def tf_idf (df,cols):\n",
    "    cvec = CountVectorizer()\n",
    "    tokens = generar_token(df[cols])\n",
    "    cvec.fit(tokens)\n",
    "    cvec_counts = cvec.fit_transform(tokens)\n",
    "    transformer = TfidfVectorizer()\n",
    "    transformed_weights = transformer.fit_transform(tokens)\n",
    "    weights = np.asarray(transformed_weights.mean(axis=0)).ravel().tolist()\n",
    "    weights_df = pd.DataFrame({'term': cvec.get_feature_names(), 'weight': weights}).set_index('term')\n",
    "    return weights_df"
   ]
  },
  {
   "cell_type": "code",
   "execution_count": 6,
   "metadata": {},
   "outputs": [],
   "source": [
    "def contador_mas_frecuentes(df, df_idf, col):\n",
    "    contadores = []\n",
    "    for texto in df[col].values:\n",
    "        palabras_del_df = word_tokenize(texto)\n",
    "        contador = 0\n",
    "        for palabra in palabras_del_df:\n",
    "            if palabra in df_idf.index:\n",
    "                contador = contador + df_idf.loc[palabra].weight\n",
    "        contadores.append(contador)\n",
    "    return contadores"
   ]
  },
  {
   "cell_type": "code",
   "execution_count": 7,
   "metadata": {},
   "outputs": [],
   "source": [
    "palabras_importantes = ['balcon', 'estacionamiento','niveles','pent', 'vista', 'panorámica','mar', 'lavanderia', 'patio', 'bien', 'hermosa', 'hermoso', 'jardin', 'vigilancia', 'preciosa', 'excelente', 'equipada', 'lujo', 'garage', 'piscina', 'pileta', 'privada', 'exclusiva', 'penthouse', 'facil', 'jacuzzi', 'seguridad', 'bodega']\n",
    "\n",
    "def contador_mas_importantes(df, col):\n",
    "    contadores = []\n",
    "    for texto in df[col].values:\n",
    "        palabras_del_df = word_tokenize(texto)\n",
    "        contador = 0\n",
    "        for palabra in palabras_del_df:\n",
    "            if palabra in palabras_importantes:\n",
    "                contador = contador + 1\n",
    "        contadores.append(contador)\n",
    "    return contadores"
   ]
  },
  {
   "cell_type": "code",
   "execution_count": 8,
   "metadata": {},
   "outputs": [],
   "source": [
    "def features_textos(df):\n",
    "    '''Devuelve una copia del dataframe con nuevas columnas, \n",
    "    con relacion a los textos'''\n",
    "    \n",
    "    df = df.copy()\n",
    "    df = llenar_nulls(df)\n",
    "   \n",
    "    ''' Calculo el tf idf'''\n",
    "    df_titulo = tf_idf(df, 'titulo')\n",
    "    df_descripcion = tf_idf(df, 'descripcion')\n",
    "\n",
    "    df['idf_titulo'] = contador_mas_frecuentes(df, df_titulo, 'titulo')\n",
    "    df['idf_descripcion'] = contador_mas_frecuentes(df, df_descripcion, 'descripcion')\n",
    "    \n",
    "    df['peso_titulo'] = contador_mas_importantes(df, 'titulo')\n",
    "    df['peso_descripcion'] = contador_mas_importantes(df, 'descripcion')\n",
    "    \n",
    "    return df"
   ]
  },
  {
   "cell_type": "code",
   "execution_count": 9,
   "metadata": {},
   "outputs": [],
   "source": [
    "#df_tr = features_textos(df_train)"
   ]
  },
  {
   "cell_type": "code",
   "execution_count": 10,
   "metadata": {},
   "outputs": [],
   "source": [
    "#df_te = features_textos(df_test)"
   ]
  },
  {
   "cell_type": "code",
   "execution_count": 1,
   "metadata": {},
   "outputs": [],
   "source": [
    "# df_tr[['id', 'idf_titulo','idf_descripcion', 'peso_titulo', 'peso_descripcion']].to_csv('data/train_idf.csv', index=False)\n",
    "# df_te[['id', 'idf_titulo','idf_descripcion', 'peso_titulo', 'peso_descripcion']].to_csv('data/test_idf.csv', index=False)"
   ]
  },
  {
   "cell_type": "code",
   "execution_count": null,
   "metadata": {},
   "outputs": [],
   "source": []
  }
 ],
 "metadata": {
  "kernelspec": {
   "display_name": "Python 3",
   "language": "python",
   "name": "python3"
  },
  "language_info": {
   "codemirror_mode": {
    "name": "ipython",
    "version": 3
   },
   "file_extension": ".py",
   "mimetype": "text/x-python",
   "name": "python",
   "nbconvert_exporter": "python",
   "pygments_lexer": "ipython3",
   "version": "3.7.3"
  }
 },
 "nbformat": 4,
 "nbformat_minor": 2
}
