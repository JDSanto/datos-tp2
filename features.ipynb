{
 "cells": [
  {
   "cell_type": "code",
   "execution_count": 1,
   "metadata": {},
   "outputs": [],
   "source": [
    "import pandas as pd\n",
    "import numpy as np\n",
    "from sklearn.preprocessing import Imputer\n",
    "from sklearn.impute import SimpleImputer\n",
    "\n",
    "\n",
    "df_train = pd.read_csv('data/train.csv')\n",
    "df_test = pd.read_csv('data/test.csv')"
   ]
  },
  {
   "cell_type": "code",
   "execution_count": 2,
   "metadata": {},
   "outputs": [],
   "source": [
    "# Agrupaciones\n",
    "\n",
    "# Zona Provincias\n",
    "provincias_sur = ['Yucatán','Quintana Roo','Campeche','Tabasco', 'Veracruz', 'Oaxaca', 'Chiapas', 'Guerrero', 'Michoacán']\n",
    "provincias_centro = ['Tlaxcala','Morelos','Puebla','Hidalgo','Aguascalientes', 'Distrito Federal', 'Jalisco', 'Edo. de México','Querétaro', 'Colima', 'Nayarit', 'Aguascalientes', 'Guanajuato', 'Hidalgo']\n",
    "provincias_norte = ['Sonora','San luis Potosí','Baja California Norte', 'Baja California Sur', 'Chihuahua', 'Durango', 'Coahuila', 'Sinaloa', 'Nuevo León',  'Tamaulipas']\n",
    "\n",
    "prov_por_precio = {'Distrito Federal':0, 'Edo. de México':1, 'Nuevo León':2, 'Guerrero':3, 'Quintana Roo':4, 'Jalisco':5, 'Tabasco':6, 'Puebla':6, 'Morelos':6, 'Querétaro':7, 'Yucatán':8, 'Chiapas':9, 'San luis Potosí':9, 'Veracruz':10, 'Guanajuato':11, 'Chihuahua':12, 'Sinaloa':13, 'Tamaulipas':14, 'Oaxaca':14, 'Campeche':14, 'Colima':15, 'Coahuila':15, 'Sonora':16, 'Michoacán':16, 'Aguascalientes':16, 'Zacatecas':17, 'Nayarit':18, 'Hidalgo':19, 'Baja California Sur':20, 'Durango':20,'Tlaxcala':21, 'Baja California Norte':22 ,'otro':23}\n",
    "def top_provincias(x):\n",
    "    if x in prov_por_precio:\n",
    "        return prov_por_precio[x]\n",
    "    else:\n",
    "        return 24\n",
    "\n",
    "# Intervalos metros\n",
    "punto20 = df_train['metrostotales'].quantile(0.2)\n",
    "punto40 = df_train['metrostotales'].quantile(0.4)\n",
    "punto60 = df_train['metrostotales'].quantile(0.6)\n",
    "punto80 = df_train['metrostotales'].quantile(0.8)\n",
    "punto20_cubiertos = df_train['metroscubiertos'].quantile(0.2)\n",
    "punto40_cubiertos = df_train['metroscubiertos'].quantile(0.4)\n",
    "punto60_cubiertos = df_train['metroscubiertos'].quantile(0.6)\n",
    "punto80_cubiertos = df_train['metroscubiertos'].quantile(0.8)\n",
    "\n",
    "# Division de tipo de propiedad\n",
    "propiedades_compartidas = ['Casa en condominio', 'Duplex', 'Departamento Compartido','Lote']\n",
    "propiedades_frecuentes = ['Casa', 'Apartamento', 'Edificio']\n",
    "\n",
    "# Escuelas y Centros Comerciales Cercanos\n",
    "def cercanos(x):\n",
    "    if not x['escuelascercanas'] and not x['centroscomercialescercanos']:\n",
    "        return 'Ninguno'\n",
    "    if x['escuelascercanas'] and not x['centroscomercialescercanos']:\n",
    "        return 'Centro Comerciales'\n",
    "    if not x['centroscomercialescercanos'] and x['escuelascercanas']:\n",
    "        return 'Escuelas Cercanas'\n",
    "    return 'Ambos'\n",
    "\n",
    "# Delincuencia\n",
    "ciudades_mas_peligrosas = pd.read_csv('./data/ciudades_mas_peligrosas.csv')\n",
    "df_crimenes = pd.merge(df_train, ciudades_mas_peligrosas, on = 'ciudad', how= 'left')\n",
    "\n",
    "# Turismo\n",
    "ciudades_mas_turisticas = pd.read_csv('./data/ciudades_mas_turisticas.csv')\n",
    "df_turismo = pd.merge(df_train, ciudades_mas_turisticas, on = 'ciudad', how= 'left')\n",
    "\n",
    "# Personas por propiedad\n",
    "def calculo_inquilinos(x):\n",
    "    if (x['habitaciones'] == np.nan) or (x['banos'] == np.nan) or (x['habitaciones'] == 0) or (x['banos'] == 0):\n",
    "        return 0\n",
    "    if (x['habitaciones'] == 1) and (x['banos'] == 1):\n",
    "        return 1\n",
    "    if (x['habitaciones'] == 2) and (x['banos'] == 1):\n",
    "        return 3\n",
    "    if (x['habitaciones'] == 2) and (x['banos'] == 2):\n",
    "        return 4\n",
    "    if (x['habitaciones'] == 3) and (x['banos'] == 1):\n",
    "        return 5\n",
    "    if (x['habitaciones'] == 3) and (x['banos'] == 2):\n",
    "        return 6\n",
    "    if (x['habitaciones'] == 4) and (x['banos'] == 1):\n",
    "        return 6\n",
    "    if (x['habitaciones'] == 4) and (x['banos'] == 2):\n",
    "        return 7\n",
    "    if (x['habitaciones'] == 4) and ((x['banos'] == 3) or (x['banos'] == 4)):\n",
    "        return 8\n",
    "    if (x['habitaciones'] == 5):\n",
    "        return 10\n",
    "    if (x['habitaciones'] > 5):\n",
    "        return 11\n",
    "    else:\n",
    "        return 9\n",
    "\n",
    "# Ciudad Centrica por provincia\n",
    "ciudades_centricas = pd.read_csv('./data/ciudadcentrica_por_provincia.csv')\n",
    "df_centro = pd.merge(df_train, ciudades_centricas, on = 'ciudad', how= 'left')"
   ]
  },
  {
   "cell_type": "code",
   "execution_count": 3,
   "metadata": {},
   "outputs": [],
   "source": [
    "# Insight\n",
    "zona = df_train\n",
    "totales2 = zona['metrostotales'].quantile(0.2)\n",
    "totales4 = zona['metrostotales'].quantile(0.4)\n",
    "totales6 = zona['metrostotales'].quantile(0.6)\n",
    "totales8 = zona['metrostotales'].quantile(0.8)\n",
    "cubiertos2 = zona['metroscubiertos'].quantile(0.2)\n",
    "cubiertos4 = zona['metroscubiertos'].quantile(0.4)\n",
    "cubiertos6 = zona['metroscubiertos'].quantile(0.6)\n",
    "cubiertos8 = zona['metroscubiertos'].quantile(0.8)"
   ]
  },
  {
   "cell_type": "code",
   "execution_count": 4,
   "metadata": {},
   "outputs": [],
   "source": [
    "zona_metros = zona.groupby('metrostotales').agg('mean').reset_index()\n",
    "zona_metros_cub = zona.groupby('metroscubiertos').agg('mean').reset_index()\n",
    "\n",
    "zona_metros['grupoMetros'] = list(map(lambda x: 'Grupo 1' if x <= totales2 else ('Grupo 2' if totales2<x<=totales4 else ('Grupo 3' if totales4<x<=totales6 else ('Grupo 4' if totales6<x<=totales8 else 'Grupo 5'))), zona_metros[\"metrostotales\"]))\n",
    "zona_metros_un = zona_metros.unstack()\n",
    "\n",
    "zona_metros_cub['grupoCubiertos'] = list(map(lambda x: 'Grupo 1' if x <= cubiertos2 else ('Grupo 2' if cubiertos2<x<=cubiertos4 else ('Grupo 3' if cubiertos4<x<=cubiertos6 else ('Grupo 4' if cubiertos6<x<=cubiertos8 else 'Grupo 5'))), zona_metros_cub[\"metroscubiertos\"]))\n",
    "zona_metros_cub_un = zona_metros_cub.unstack()"
   ]
  },
  {
   "cell_type": "code",
   "execution_count": 5,
   "metadata": {},
   "outputs": [],
   "source": [
    "def map_values(vals, m):\n",
    "    res = []\n",
    "    for x in vals:\n",
    "        res.append(m(x))\n",
    "    return res\n",
    "    \n",
    "\n",
    "def features_independientes_precio(df):\n",
    "    '''Devuelve una copia del dataframe con nuevas columnas, \n",
    "    donde los datos generados no dependen del precio'''\n",
    "    df = df.copy()\n",
    "    \n",
    "    # Por metros totales  cubiertos\n",
    "    df['metrostotales'] = df['metrostotales'].fillna(df['metroscubiertos'])\n",
    "    df['metroscubiertos'] = df['metroscubiertos'].fillna(df['metrostotales'])\n",
    "    df['porcentaje_metros'] = df['metroscubiertos']/df['metrostotales']\n",
    "    df['diferencia_metros'] = df['metrostotales'] - df['metroscubiertos']\n",
    "    df['intervalo_metros_totales'] = map_values(df['metrostotales'].values, lambda x: 'Grupo1' if x<punto20 else ('Grupo2' if punto20<x<punto40 else ('Grupo3' if punto40<x<punto60 else('Grupo4' if punto60<x<punto80 else 'Grupo5'))))\n",
    "    df['intervalo_metros_cubiertos'] = map_values(df['metroscubiertos'].values, lambda x: 'Grupo1' if x<punto20_cubiertos else ('Grupo2' if punto20_cubiertos<x<punto40_cubiertos else ('Grupo3' if punto40_cubiertos<x<punto60_cubiertos else('Grupo4' if punto60_cubiertos<x<punto80_cubiertos else 'Grupo5'))))\n",
    "\n",
    "    \n",
    "    # Por Tipo de propiedad\n",
    "    df['tipodepropiedad'] = df['tipodepropiedad'].fillna('otro') # Otra forma de llenar los nans para el tipo de prop?\n",
    "    df['escomercial'] = df.tipodepropiedad.str.contains('.*omercial.*').astype(bool)\n",
    "    df['promedio_metros_tipo_propiedad'] = df.groupby(['tipodepropiedad'])['metrostotales'].transform('mean')\n",
    "    df['promedio_metros_cub_tipo_propiedad'] = df.groupby(['tipodepropiedad'])['metroscubiertos'].transform('mean')\n",
    "    df['tipo_propiedad_compartida'] = map_values(df['tipodepropiedad'].values, lambda x: True if x in propiedades_compartidas else False)\n",
    "    df['prop_frecuente'] = map_values(df['tipodepropiedad'].values, lambda x: True if x in propiedades_frecuentes else False)     \n",
    "\n",
    "    # Por ubicación\n",
    "    df['provincia'] = df['provincia'].fillna('otro') # Otra forma de llenar los nans para el tipo de prop?\n",
    "    df['zona'] = map_values(df['provincia'].values, lambda x: 'Norte ' if x in provincias_norte else ('Sur' if x in provincias_sur else 'Centro'))\n",
    "    df['top_provincia'] = df['provincia'].apply(top_provincias)\n",
    "    df['es_ciudad_centrica'] = df_centro['centro'].replace({np.nan:False})\n",
    "    df['promedio_metros_totales_provincia'] = df.groupby(['provincia'])['metrostotales'].transform('mean')\n",
    "    df['promedio_metros_cubiertos_provincia'] = df.groupby(['provincia'])['metroscubiertos'].transform('mean')\n",
    "    \n",
    "  \n",
    "    # Por fecha\n",
    "    df['fecha'] = pd.to_datetime(df['fecha'])\n",
    "    df['anio'] = df['fecha'].dt.year\n",
    "    df['mes'] = df['fecha'].dt.month\n",
    "    df['dia'] = df['fecha'].dt.day\n",
    "    df['trimestre'] = (df['fecha'].dt.month)%3+1\n",
    "    df['fecha'] = df['fecha'].astype(int)\n",
    "    \n",
    "    # Propiedades booleanas\n",
    "    df['escualas_centros_cercanos'] = df[['centroscomercialescercanos', 'escuelascercanas']].apply(cercanos, axis=1)\n",
    "    df['delincuencia'] = df_crimenes['peligro'].replace({np.nan:False})\n",
    "    df['turismo'] = df_turismo['turismo'].replace({np.nan:False})\n",
    "    df['es_antigua'] = map_values(df['antiguedad'].values, lambda x: True if x>30 else False)\n",
    "\n",
    "    # Habitaciones, garages y banos\n",
    "    df['cantidad_inquilinos'] = df[['habitaciones', 'banos']].apply(calculo_inquilinos,axis=1)\n",
    "\n",
    "    df['metros_totales_normalizados'] = df['metrostotales']/(df['metrostotales']).mean()\n",
    "    df['metros_cubiertos_normalizados'] = df['metroscubiertos']/(df['metroscubiertos']).mean()\n",
    "    \n",
    "    return df"
   ]
  },
  {
   "cell_type": "code",
   "execution_count": 6,
   "metadata": {},
   "outputs": [],
   "source": [
    "def features_dependientes_precio(df, df_train):\n",
    "    '''Devuelve una copia del dataframe df con nuevas columnas dependientes del precio,\n",
    "    usando el dataframe df_train con los precios para generar los datos.\n",
    "    El dataframe df puede ser el mismo que df_train.'''\n",
    "    df = df.copy()\n",
    "    df_train = df_train.copy()\n",
    "    \n",
    "    # Por ciudad\n",
    "    df_train['promedio_precio_ciudad'] = df_train.groupby(['provincia', 'ciudad'])['precio'].transform('mean')\n",
    "    df_promedios = df_train.groupby(['provincia', 'ciudad']).agg({'precio':'mean'}).rename(columns={'precio':'promedio_precio_ciudad'}).reset_index()\n",
    "    df = pd.merge(df, df_promedios, on=['provincia', 'ciudad'], how='left')\n",
    "    df['promedio_precio_ciudad'] = df['promedio_precio_ciudad'].fillna(df_train['promedio_precio_ciudad'].mean())\n",
    "    \n",
    "    df_train['varianza_precio_ciudad'] = df_train.groupby(['provincia', 'ciudad'])['precio'].transform('std')\n",
    "    df_varianzas = df_train.groupby(['provincia', 'ciudad']).agg({'precio':'std'}).rename(columns={'precio':'varianza_precio_ciudad'}).reset_index()\n",
    "    df = pd.merge(df, df_varianzas, on=['provincia', 'ciudad'], how='left')\n",
    "    df['varianza_precio_ciudad'] = df['varianza_precio_ciudad'].fillna(df_train['varianza_precio_ciudad'].mean())\n",
    "    \n",
    "    df_train['count_ciudad'] = df_train.groupby(['ciudad'])['precio'].transform('count')\n",
    "    df_train['count_ciudad'] = df_train['count_ciudad'].fillna(df_train['count_ciudad'].mean())\n",
    "    df_count = df_train.groupby('ciudad').agg({'precio':'count'}).rename(columns = {'precio': 'count_ciudad'}).reset_index()\n",
    "    df = pd.merge(df, df_count, on='ciudad', how='left')\n",
    "    df['count_ciudad'] = df['count_ciudad'].fillna(df['count_ciudad'].mean())\n",
    "       \n",
    "    \n",
    "    # Por id_zona\n",
    "    df_train['promedio_id_zona'] = df_train.groupby(['idzona'])['precio'].transform('mean')\n",
    "    df_promedio = df_train.groupby('idzona').agg({'precio':'mean'}).rename(columns = {'precio': 'promedio_id_zona'}).reset_index()\n",
    "    df = pd.merge(df, df_promedio, on='idzona', how='left')\n",
    "    df['promedio_id_zona'] = df['promedio_id_zona'].fillna(df['promedio_precio_ciudad'])\n",
    "\n",
    "    df_train['varianza_id_zona'] = df_train.groupby(['idzona'])['precio'].transform('std')\n",
    "    df_varianza = df_train.groupby('idzona').agg({'precio':'std'}).rename(columns = {'precio': 'varianza_id_zona'}).reset_index()\n",
    "    df = pd.merge(df, df_varianza, on='idzona', how='left')\n",
    "    df['varianza_id_zona'] = df['varianza_id_zona'].fillna(df['varianza_precio_ciudad'])\n",
    "    \n",
    "    df_train['count_idzona'] = df_train.groupby(['idzona'])['precio'].transform('count')\n",
    "    df_train['count_idzona'] = df_train['count_idzona'].fillna(df_train['count_idzona'].mean())\n",
    "    df_count = df_train.groupby('idzona').agg({'precio':'count'}).rename(columns = {'precio': 'count_idzona'}).reset_index()\n",
    "    df = pd.merge(df, df_count, on='idzona', how='left')\n",
    "    df['count_idzona'] = df['count_idzona'].fillna(df['count_ciudad'])\n",
    "\n",
    "    # Por tipo de propiedad\n",
    "    df_train['tipodepropiedad'] = df_train['tipodepropiedad'].fillna('otro') # Otra forma de llenar los nans para el tipo de prop?\n",
    "    df['tipodepropiedad'] = df['tipodepropiedad'].fillna('otro')\n",
    "    df_train['promedio_precio_tipo_propiedad'] = df_train.groupby(['tipodepropiedad'])['precio'].transform('mean')\n",
    "    df_propiedad = df_train.groupby('tipodepropiedad').agg({'precio':'mean'}).rename(columns = {'precio': 'promedio_precio_tipo_propiedad'}).reset_index()\n",
    "    df = pd.merge(df, df_propiedad, on='tipodepropiedad', how='left')\n",
    "    df['promedio_precio_tipo_propiedad'] = df['promedio_precio_tipo_propiedad']\n",
    "    \n",
    "    df_train['count_tipodepropiedad'] = df_train.groupby(['tipodepropiedad'])['precio'].transform('count')\n",
    "    df_train['count_tipodepropiedad'] = df_train['count_tipodepropiedad'].fillna(df_train['count_tipodepropiedad'].mean())\n",
    "    df_count = df_train.groupby('tipodepropiedad').agg({'precio':'count'}).rename(columns = {'precio': 'count_tipodepropiedad'}).reset_index()\n",
    "    df = pd.merge(df, df_count, on='tipodepropiedad', how='left')\n",
    "    df['count_tipodepropiedad'] = df['count_tipodepropiedad'].fillna(0)\n",
    "    \n",
    "    df_train['count_tipodepropiedad_ciudad'] = df_train.groupby(['ciudad', 'tipodepropiedad'])['precio'].transform('count')\n",
    "    df_train['count_tipodepropiedad_ciudad'] = df_train['count_tipodepropiedad_ciudad'].fillna(df_train['count_tipodepropiedad_ciudad'].mean())\n",
    "    df_count = df_train.groupby(['ciudad', 'tipodepropiedad']).agg({'precio':'count'}).rename(columns = {'precio': 'count_tipodepropiedad_ciudad'}).reset_index()\n",
    "    df = pd.merge(df, df_count, on=['ciudad', 'tipodepropiedad'], how='left')\n",
    "    df['count_tipodepropiedad_ciudad'] = df['count_tipodepropiedad_ciudad'].fillna(df['count_ciudad'])\n",
    "       \n",
    "    # Por fecha\n",
    "    df['fecha'] = pd.to_datetime(df['fecha'])\n",
    "    df['anio'] = df['fecha'].dt.year\n",
    "    df['mes'] = df['fecha'].dt.month\n",
    "    df['dia'] = df['fecha'].dt.day\n",
    "    df['fecha'] = df['fecha'].astype(int)\n",
    "\n",
    "    df_train['fecha'] = pd.to_datetime(df_train['fecha'])\n",
    "    df_train['anio'] = df_train['fecha'].dt.year\n",
    "    df_train['mes'] = df_train['fecha'].dt.month\n",
    "    \n",
    "    df_train['promedio_por_mes'] = df_train.groupby(['anio','mes'])['precio'].transform('mean')\n",
    "    df_prom_mes = df_train.groupby(['anio','mes']).agg({'precio':'mean'}).rename(columns = {'precio': 'promedio_por_mes'}).reset_index()\n",
    "    df = pd.merge(df, df_prom_mes, on=['anio','mes'], how='left')\n",
    "    df['promedio_por_mes'] = df['promedio_por_mes'].fillna(df_train['promedio_por_mes'].mean())\n",
    "    \n",
    "    df_train['varianza_por_mes'] = df_train.groupby(['anio','mes'])['precio'].transform('std')\n",
    "    df_var_mes = df_train.groupby(['anio','mes']).agg({'precio':'std'}).rename(columns = {'precio': 'varianza_por_mes'}).reset_index()\n",
    "    df = pd.merge(df, df_var_mes, on=['anio','mes'], how='left')\n",
    "    df['varianza_por_mes'] = df['varianza_por_mes']#.fillna(df_train['varianza_por_mes'].std())\n",
    "    \n",
    "    # Por cantidad de habitaciones, banos y garages\n",
    "    df_train['promedio_precio_habitaciones'] = df_train.groupby(['habitaciones'])['precio'].transform('mean')\n",
    "    df_train['promedio_precio_habitaciones_banos_garages'] = df_train.groupby(['habitaciones', 'banos', 'garages'])['precio'].transform('mean')\n",
    "    df_train['promedio_precio_banos_garages'] = df_train.groupby(['banos', 'garages'])['precio'].transform('mean')\n",
    "    df_habitaciones = df_train.groupby(['tipodepropiedad', 'banos', 'habitaciones', 'garages']).agg({'precio': 'mean'}).rename(columns = {'precio': 'promedio_precio_habitaciones'}).reset_index()\n",
    "    df = pd.merge(df, df_habitaciones, on=['tipodepropiedad', 'banos', 'habitaciones', 'garages'], how = 'left')\n",
    "    df['promedio_precio_habitaciones'] = df['promedio_precio_habitaciones'].fillna(df_train['promedio_precio_habitaciones'].mean())\n",
    "    df['promedio_precio_habitaciones_banos_garages'] = df_train['promedio_precio_habitaciones_banos_garages'].fillna(df_train['promedio_precio_habitaciones'].mean())\n",
    "    df['promedio_precio_banos_garages'] = df_train['promedio_precio_banos_garages'].fillna(df_train['promedio_precio_habitaciones'].mean())\n",
    "        \n",
    "    # Por propiedades booleanas\n",
    "    df_train['promedio_precio_booleanos'] = df_train.groupby(['gimnasio', 'usosmultiples', 'piscina'])['precio'].transform('mean')\n",
    "    df_booleano = df_train.groupby(['gimnasio', 'usosmultiples', 'piscina']).agg({'precio':'mean'}).rename(columns = {'precio': 'promedio_precio_booleanos'}).reset_index()\n",
    "    df = pd.merge(df, df_booleano, on=['gimnasio', 'usosmultiples', 'piscina'], how='left')\n",
    "    df['promedio_precio_booleanos'] = df['promedio_precio_booleanos'].fillna(df_train['promedio_precio_booleanos'].mean())\n",
    "        \n",
    "    \n",
    "    # Insight    \n",
    "    df['puntaje'] = df_puntajes(df)\n",
    "    \n",
    "    return df\n"
   ]
  },
  {
   "cell_type": "code",
   "execution_count": 38,
   "metadata": {},
   "outputs": [],
   "source": [
    "def features_de_csvs(df_train, df_test):\n",
    "    df_train_similares = pd.read_csv('data/train_similares.csv')\n",
    "    df_train = pd.merge(df_train, df_train_similares, on='id')\n",
    "    df_test_similares = pd.read_csv('data/test_similares.csv')\n",
    "    df_test = pd.merge(df_test, df_test_similares, on='id')\n",
    "    \n",
    "    return df_train, df_test"
   ]
  },
  {
   "cell_type": "code",
   "execution_count": 8,
   "metadata": {},
   "outputs": [],
   "source": [
    "def features_booleanas (df):\n",
    "    df['es_casa'] = (df['tipodepropiedad'] == 'Casa')\n",
    "    df['es_apartamento'] = (df['tipodepropiedad'] == 'Apartamento')\n",
    "    df['es_capital'] = (df['provincia'] == 'Distrito Federal')\n",
    "    df['es_turismo'] = (df['provincia'] == 'Quintana Roo')\n",
    "    df['es_lujoso'] = (df['pisina'] == 1.0 & df['usosmultiplos'] == 1.0 & df['gimnasio'] == 1.0)"
   ]
  },
  {
   "cell_type": "code",
   "execution_count": 9,
   "metadata": {},
   "outputs": [],
   "source": [
    "# Garages\n",
    "zonaPromedioGarages = df_train.groupby(['tipodepropiedad', 'habitaciones']).agg({'garages':'mean'}).reset_index()\n",
    "df_train['garages'] = df_train['garages'].fillna(zonaPromedioGarages['garages'])\n",
    "\n",
    "promedioGarages = zonaPromedioGarages['garages'].mean()\n",
    "df_train['garages'] = df_train['garages'].fillna(promedioGarages)\n",
    "\n",
    "# Habitaciones\n",
    "zonaPromedioHabitaciones = df_train.groupby(['tipodepropiedad', 'provincia']).agg({'habitaciones':'mean'}).reset_index()\n",
    "df_train['habitaciones'] = df_train['habitaciones'].fillna(zonaPromedioHabitaciones['habitaciones'])\n",
    "\n",
    "promedioHabitaciones = zonaPromedioHabitaciones['habitaciones'].mean()\n",
    "df_train['habitaciones'] = df_train['habitaciones'].fillna(promedioHabitaciones)\n",
    "\n",
    "# Banos\n",
    "zonaPromedioBanos = df_train.groupby(['tipodepropiedad', 'provincia']).agg({'banos':'mean'}).reset_index()\n",
    "df_train['banos'] = df_train['banos'].fillna(zonaPromedioBanos['banos'])\n",
    "\n",
    "promedioBanos = zonaPromedioBanos['banos'].mean()\n",
    "df_train['banos'] = df_train['banos'].fillna(promedioBanos)"
   ]
  },
  {
   "cell_type": "code",
   "execution_count": 10,
   "metadata": {},
   "outputs": [],
   "source": [
    "provincias1 = ['Guerrero', 'Tabasco', 'Nueva León', 'Quintana Roo', 'Morelos', 'Jalisco', 'Puebla']\n",
    "provincias2 = ['Querétaro', 'Yucatán', 'Chiapas', 'Guanajuato', 'San Luis Potosí', 'Veracruz', 'Chihuahua', 'Sinaloa']\n",
    "provincias3 = ['Tamaulipas', 'Oaxaca', 'Campeche', 'Campeche', 'Zacatecas', 'Colima', 'Aguascalientes', 'Michoacán', 'Sonora', 'Nayarit'] \n",
    "\n",
    "def df_puntajes(zona):\n",
    "    attrs = ['piscina', 'usosmultiples', 'gimnasio', 'banos', 'habitaciones', \n",
    "                      'ciudad', 'metrostotales', 'metroscubiertos', 'provincia']\n",
    "    zona_vals = zona[attrs].values\n",
    "    puntaje_vals = []\n",
    "    for prop in zona_vals:\n",
    "        puntaje = 0\n",
    "        if prop[attrs.index('piscina')] == 1.0:\n",
    "            puntaje += 8\n",
    "        if prop[attrs.index('usosmultiples')] == 1.0:\n",
    "            puntaje +=5\n",
    "        if prop[attrs.index('gimnasio')] == 1.0:\n",
    "            puntaje +=5\n",
    "        if prop[attrs.index('banos')] == 2.0:\n",
    "            puntaje +=2\n",
    "        elif prop[attrs.index('banos')] == 3.0:\n",
    "            puntaje += 5\n",
    "        elif prop[attrs.index('banos')] == 4.0:\n",
    "            puntaje += 6\n",
    "        if prop[attrs.index('habitaciones')] == 2.0:\n",
    "            puntaje += 2\n",
    "        elif prop[attrs.index('habitaciones')] == 3.0:\n",
    "            puntaje += 5\n",
    "        elif prop[attrs.index('habitaciones')] > 3.0:\n",
    "            puntaje += 6\n",
    "            \n",
    "        x = prop[attrs.index('metrostotales')]\n",
    "        grupo_metros_totales = 'Grupo 1' if x <= totales2 else ('Grupo 2' if totales2<x<=totales4 else ('Grupo 3' if totales4<x<=totales6 else ('Grupo 4' if totales6<x<=totales8 else 'Grupo 5')))\n",
    "        if grupo_metros_totales == 'Grupo 1':\n",
    "            puntaje += 0\n",
    "        elif grupo_metros_totales == 'Grupo 2':\n",
    "            puntaje += 4\n",
    "        elif grupo_metros_totales == 'Grupo 3':\n",
    "            puntaje += 6\n",
    "        elif grupo_metros_totales == 'Grupo 4':\n",
    "            puntaje += 8\n",
    "        elif grupo_metros_totales == 'Grupo 5':\n",
    "            puntaje += 10\n",
    "        \n",
    "        x = prop[attrs.index('metroscubiertos')]\n",
    "        grupo_metros_cubiertos = 'Grupo 1' if x <= cubiertos2 else ('Grupo 2' if cubiertos2<x<=cubiertos4 else ('Grupo 3' if cubiertos4<x<=cubiertos6 else ('Grupo 4' if cubiertos6<x<=cubiertos8 else 'Grupo 5')))\n",
    "        if grupo_metros_cubiertos == 'Grupo 1':\n",
    "            puntaje +=0\n",
    "        elif grupo_metros_cubiertos == 'Grupo 2':\n",
    "            puntaje += 4\n",
    "        elif grupo_metros_cubiertos == 'Grupo 3':\n",
    "            puntaje += 6\n",
    "        elif grupo_metros_cubiertos == 'Grupo 4':\n",
    "            puntaje += 8\n",
    "        elif grupo_metros_cubiertos == 'Grupo 5':\n",
    "            puntaje += 10\n",
    "        if prop[attrs.index('provincia')] == 'Distrito Federal':\n",
    "            puntaje += 8\n",
    "        elif prop[attrs.index('provincia')] == 'Edo. de México':\n",
    "            puntaje += 7\n",
    "        elif prop[attrs.index('provincia')] in provincias1:\n",
    "            puntaje += 5\n",
    "        elif prop[attrs.index('provincia')] in provincias2:\n",
    "            puntaje += 4\n",
    "        elif prop[attrs.index('provincia')] in provincias3:\n",
    "            puntaje += 2\n",
    "        puntaje_vals.append(puntaje)\n",
    "    return puntaje_vals\n"
   ]
  },
  {
   "cell_type": "code",
   "execution_count": 11,
   "metadata": {},
   "outputs": [],
   "source": [
    "# from sklearn.neighbors import KDTree\n",
    "# import pandas as pd\n",
    "# import numpy as np\n",
    "\n",
    "# df_train = pd.read_csv('data/train.csv')"
   ]
  },
  {
   "cell_type": "code",
   "execution_count": 12,
   "metadata": {},
   "outputs": [],
   "source": [
    "# df_ohe = pd.get_dummies(df_train[['provincia', 'tipodepropiedad', 'habitaciones', 'garages', \n",
    "#                    'banos', 'gimnasio', 'usosmultiples', 'piscina', \n",
    "#                    'escuelascercanas', 'centroscomercialescercanos']])\n",
    "\n",
    "# df_ohe.head(10)"
   ]
  },
  {
   "cell_type": "code",
   "execution_count": 13,
   "metadata": {},
   "outputs": [],
   "source": [
    "# tree = KDTree(df_ohe, leaf_size=200)"
   ]
  },
  {
   "cell_type": "code",
   "execution_count": 14,
   "metadata": {},
   "outputs": [],
   "source": [
    "# df_test = pd.read_csv('data/test.csv')\n",
    "# df_test_f = df_test[['provincia', 'tipodepropiedad', 'habitaciones', 'garages', \n",
    "#                    'banos', 'gimnasio', 'usosmultiples', 'piscina', \n",
    "#                    'escuelascercanas', 'centroscomercialescercanos']]\n",
    "# df_train_f = df_train[['provincia', 'tipodepropiedad', 'habitaciones', 'garages', \n",
    "#                    'banos', 'gimnasio', 'usosmultiples', 'piscina', \n",
    "#                    'escuelascercanas', 'centroscomercialescercanos']]\n",
    "\n",
    "# df_full = pd.concat([df_test_f, df_train_f], ignore_index=True)\n",
    "\n",
    "\n",
    "# df_ohe_test = pd.get_dummies(df_full).iloc[0:60000]\n",
    "# df_ohe_test = df_ohe_test.fillna(0)"
   ]
  },
  {
   "cell_type": "code",
   "execution_count": 15,
   "metadata": {},
   "outputs": [],
   "source": [
    "# KDTree.valid_metrics"
   ]
  },
  {
   "cell_type": "code",
   "execution_count": 16,
   "metadata": {},
   "outputs": [],
   "source": [
    "# display(df_ohe_test.shape)\n",
    "# display(df_ohe.shape)\n",
    "# dists = tree.query_radius(df_ohe_test.values[:60000], r=0, count_only=True)\n",
    "# dists"
   ]
  },
  {
   "cell_type": "code",
   "execution_count": 17,
   "metadata": {},
   "outputs": [],
   "source": [
    "# df_test['similares_count'] = dists\n",
    "# df_test[['id', 'similares_count']].to_csv('data/test_similares.csv', index=False)"
   ]
  },
  {
   "cell_type": "code",
   "execution_count": 18,
   "metadata": {},
   "outputs": [],
   "source": [
    "# df_ohe = df_ohe.fillna(0)\n",
    "# display(df_ohe_test.shape)\n",
    "# display(df_ohe.shape)\n",
    "# dists = tree.query_radius(df_ohe.values, r=0, count_only=True)\n",
    "# dists"
   ]
  },
  {
   "cell_type": "code",
   "execution_count": 19,
   "metadata": {},
   "outputs": [],
   "source": [
    "# df_train['similares_count'] = dists\n",
    "# df_train[['id', 'similares_count']].to_csv('data/train_similares.csv', index=False)"
   ]
  },
  {
   "cell_type": "code",
   "execution_count": 20,
   "metadata": {},
   "outputs": [],
   "source": [
    "# df_test.iloc[1]"
   ]
  },
  {
   "cell_type": "code",
   "execution_count": 21,
   "metadata": {},
   "outputs": [],
   "source": [
    "# df_train[(df_train['gimnasio'] == 0) & (df_train['usosmultiples'] == 0) & (df_train['piscina'] == 0)\n",
    "#         & (df_train['escuelascercanas'] == 0) & (df_train['centroscomercialescercanos'] == 0)\n",
    "#         & (df_train['provincia'] == 'Yucatán') & (df_train['tipodepropiedad'] == 'Apartamento')\n",
    "#         & (df_train['habitaciones'] == 1) & (df_train['banos'] == 1) & (df_train['garages'] == 1)]"
   ]
  },
  {
   "cell_type": "code",
   "execution_count": 22,
   "metadata": {},
   "outputs": [],
   "source": [
    "# ind = features_independientes_precio(df_train)"
   ]
  },
  {
   "cell_type": "code",
   "execution_count": 23,
   "metadata": {},
   "outputs": [],
   "source": [
    "# ind[['escomercial',\n",
    "#        'promedio_metros_tipo_propiedad', 'tipo_propiedad_compartida',\n",
    "#        'prop_frecuente', 'zona','top_provincia', 'es_ciudad_centrica',\n",
    "#        'promedio_metros_totales_provincia',\n",
    "#        'promedio_metros_cubiertos_provincia', 'porcentaje_metros',\n",
    "#        'diferencia_metros', 'intervalo_metros_totales',\n",
    "#        'intervalo_metros_cubiertos', 'anio', 'mes', 'dia', 'trimestre',\n",
    "#        'escualas_centros_cercanos', 'delincuencia', 'turismo', 'es_antigua', 'cantidad_inquilinos']].head()"
   ]
  },
  {
   "cell_type": "code",
   "execution_count": 24,
   "metadata": {},
   "outputs": [],
   "source": [
    "# ind_test = features_independientes_precio(df_test)"
   ]
  },
  {
   "cell_type": "code",
   "execution_count": 25,
   "metadata": {},
   "outputs": [],
   "source": [
    "# ind_test[['escomercial',\n",
    "#        'promedio_metros_tipo_propiedad','promedio_metros_cub_tipo_propiedad', 'tipo_propiedad_compartida',\n",
    "#        'prop_frecuente', 'zona','top_provincia', 'es_ciudad_centrica',\n",
    "#        'promedio_metros_totales_provincia',\n",
    "#        'promedio_metros_cubiertos_provincia', 'porcentaje_metros',\n",
    "#        'diferencia_metros', 'intervalo_metros_totales',\n",
    "#        'intervalo_metros_cubiertos', 'anio', 'mes', 'dia', 'trimestre',\n",
    "#        'escualas_centros_cercanos', 'delincuencia', 'turismo', 'es_antigua', 'cantidad_inquilinos']].head()"
   ]
  },
  {
   "cell_type": "code",
   "execution_count": 26,
   "metadata": {},
   "outputs": [],
   "source": [
    "# # Verifico que no haya nans en los features\n",
    "# ind_test.isnull().any()"
   ]
  },
  {
   "cell_type": "code",
   "execution_count": 27,
   "metadata": {},
   "outputs": [],
   "source": [
    "# print(df_train.shape)\n",
    "# print(ind.shape)\n",
    "# print(df_test.shape)\n",
    "# print(ind_test.shape)"
   ]
  },
  {
   "cell_type": "code",
   "execution_count": 28,
   "metadata": {},
   "outputs": [],
   "source": [
    "# dep = features_dependientes_precio(df_train, df_train)"
   ]
  },
  {
   "cell_type": "code",
   "execution_count": 29,
   "metadata": {},
   "outputs": [],
   "source": [
    "# dep = features_dependientes_precio(df_train, df_train)"
   ]
  },
  {
   "cell_type": "code",
   "execution_count": 30,
   "metadata": {},
   "outputs": [],
   "source": [
    "# dep[['precio','promedio_precio_ciudad',\n",
    "#        'varianza_precio_ciudad', 'promedio_id_zona', 'varianza_id_zona',\n",
    "#        'promedio_precio_tipo_propiedad', 'promedio_por_mes',\n",
    "#        'varianza_por_mes', 'promedio_precio_habitaciones',\n",
    "#        'promedio_precio_habitaciones_banos_garages',\n",
    "#        'promedio_precio_banos_garages', 'promedio_precio_booleanos', 'puntaje']].head()"
   ]
  },
  {
   "cell_type": "code",
   "execution_count": 31,
   "metadata": {},
   "outputs": [],
   "source": [
    "# dep_test =  features_dependientes_precio(df_test, df_train)"
   ]
  },
  {
   "cell_type": "code",
   "execution_count": 32,
   "metadata": {},
   "outputs": [],
   "source": [
    "# dep_test[['promedio_precio_ciudad',\n",
    "#        'varianza_precio_ciudad', 'promedio_id_zona', 'varianza_id_zona',\n",
    "#        'promedio_precio_tipo_propiedad', 'promedio_por_mes',\n",
    "#        'varianza_por_mes', 'promedio_precio_habitaciones',\n",
    "#        'promedio_precio_habitaciones_banos_garages',\n",
    "#        'promedio_precio_banos_garages', 'promedio_precio_booleanos', 'puntaje']].head()"
   ]
  },
  {
   "cell_type": "code",
   "execution_count": 33,
   "metadata": {},
   "outputs": [],
   "source": [
    "# print(df_train.shape)\n",
    "# print(dep.shape)\n",
    "# print(df_test.shape)\n",
    "# print(dep_test.shape)"
   ]
  },
  {
   "cell_type": "code",
   "execution_count": 34,
   "metadata": {},
   "outputs": [],
   "source": [
    "# df_train = pd.read_csv('data/train.csv')\n",
    "# df_test = pd.read_csv('data/test.csv')\n",
    "\n",
    "# df_train_f = features_dependientes_precio(df_train, df_train)\n",
    "# df_test_f = features_dependientes_precio(df_test, df_train)"
   ]
  },
  {
   "cell_type": "code",
   "execution_count": 35,
   "metadata": {},
   "outputs": [],
   "source": [
    "# df_train_f.head(10)"
   ]
  },
  {
   "cell_type": "code",
   "execution_count": 36,
   "metadata": {},
   "outputs": [],
   "source": [
    "# df_test_f['promedio_precio_tipo_propiedad'].head(10).value_counts()"
   ]
  }
 ],
 "metadata": {
  "kernelspec": {
   "display_name": "Python 3",
   "language": "python",
   "name": "python3"
  },
  "language_info": {
   "codemirror_mode": {
    "name": "ipython",
    "version": 3
   },
   "file_extension": ".py",
   "mimetype": "text/x-python",
   "name": "python",
   "nbconvert_exporter": "python",
   "pygments_lexer": "ipython3",
   "version": "3.7.4"
  }
 },
 "nbformat": 4,
 "nbformat_minor": 2
}
