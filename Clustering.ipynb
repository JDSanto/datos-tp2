{
 "cells": [
  {
   "cell_type": "code",
   "execution_count": null,
   "metadata": {},
   "outputs": [],
   "source": [
    "import ipynb.fs.full.features as features"
   ]
  },
  {
   "cell_type": "code",
   "execution_count": null,
   "metadata": {},
   "outputs": [],
   "source": [
    "from sklearn import preprocessing\n",
    "import pandas as pd\n",
    "import numpy as np\n",
    "import matplotlib.pyplot as plt\n",
    "import seaborn as sb\n",
    "from sklearn.cluster import KMeans\n",
    "from sklearn.metrics import pairwise_distances_argmin_min\n",
    "\n",
    "%matplotlib inline\n",
    "from mpl_toolkits.mplot3d import Axes3D\n",
    "plt.rcParams['figure.figsize'] = (16, 9)\n",
    "plt.style.use('ggplot')\n",
    "\n",
    "df_train = pd.read_csv('./data/train.csv')\n",
    "df_aux_train = df_train\n",
    "\n",
    "df_test = pd.read_csv('./data/test.csv')\n",
    "df_aux_test = df_train"
   ]
  },
  {
   "cell_type": "code",
   "execution_count": null,
   "metadata": {},
   "outputs": [],
   "source": [
    "# Normalizacion\n",
    "\n",
    "def _normalizacion(df, columnas):\n",
    "    x = df.values #returns a numpy array\n",
    "    min_max_scaler = preprocessing.MinMaxScaler()\n",
    "    x_scaled = min_max_scaler.fit_transform(x)\n",
    "    df = pd.DataFrame(x_scaled)\n",
    "    df.columns = columnas\n",
    "    return df"
   ]
  },
  {
   "cell_type": "code",
   "execution_count": null,
   "metadata": {
    "scrolled": false
   },
   "outputs": [],
   "source": [
    "def generar_grafico(df_completo, columnas, df_y=[]):\n",
    "    \"\"\" df_completo: El df a calcular kmeans\n",
    "        columnas: Es con que columnas se va a calcular\n",
    "        df_y es la columna precio (es una serie)\"\"\"\n",
    "    \"\"\"Muestra el grafico de variacion entre 0 y 20 clusters(k)\"\"\"\n",
    "    \"\"\"Retorna X e y, para usar en el entrenamiento y la clasificacion\"\"\"\n",
    "    df = df_completo[columnas].copy()\n",
    "    for columna in columnas:\n",
    "        df[columna] = df[columna].fillna(df[columna].mean())\n",
    "    df = _normalizacion(df, columnas)\n",
    "    \n",
    "    X = np.array(df[columnas])\n",
    "    y = None if type(df_y) == list else np.array(df_y)\n",
    "    \n",
    "    Nc = range(1, 20)\n",
    "    kmeans = [KMeans(n_clusters=i) for i in Nc]\n",
    "    score = [kmeans[i].fit(X).score(X) for i in range(len(kmeans))]\n",
    "\n",
    "    plt.figure(figsize=(15,15))\n",
    "    plt.plot(Nc,score)\n",
    "    plt.xlabel('Number of Clusters')\n",
    "    plt.ylabel('Score')\n",
    "    plt.title('Elbow Curve')\n",
    "    plt.show()\n",
    "    \n",
    "    return df, X, y"
   ]
  },
  {
   "cell_type": "code",
   "execution_count": null,
   "metadata": {},
   "outputs": [],
   "source": [
    "def etiquetado(k_cluster, X):\n",
    "    # k Max es el largo de este arreglo\n",
    "    colores=['red','green','blue','cyan','yellow', 'black', 'brown', 'orange', 'pink', 'purple', 'beige']\n",
    "    kmeans = KMeans(n_clusters=k_cluster).fit(X)\n",
    "    colores = colores[:k_cluster]\n",
    "    # Clasificacion\n",
    "    labels = kmeans.predict(X)\n",
    "    C = kmeans.cluster_centers_ # Centroides\n",
    "    asignar = []\n",
    "    for row in labels:\n",
    "        asignar.append(colores[row])\n",
    "    # Grafico de todos los puntos clasificados:    \n",
    "    if X.shape[1] > 2:\n",
    "        fig = plt.figure(figsize=(20,20))\n",
    "        ax = Axes3D(fig)\n",
    "        ax.scatter(X[:, 0], X[:, 1], X[:, 2], c=asignar,s=60)\n",
    "        ax.scatter(C[:, 0], C[:, 1], C[:, 2], marker='*', c=colores, s=1000)\n",
    "    return labels, asignar, X, C, colores"
   ]
  },
  {
   "cell_type": "code",
   "execution_count": null,
   "metadata": {},
   "outputs": [],
   "source": [
    "def proyeccion_2d(df, col1, col2, asignar, C, colores, fig_size=(20, 20)):\n",
    "    f1 = df[col1].values\n",
    "    f2 = df[col2].values\n",
    "\n",
    "    plt.figure(figsize=fig_size)\n",
    "    plt.scatter(f1, f2, c=asignar, s=70)\n",
    "    plt.scatter(C[:, 0], C[:, 1], marker='*', c=colores, s=1000)\n",
    "    plt.xlabel(col1)\n",
    "    plt.ylabel(col2)\n",
    "    plt.show()"
   ]
  },
  {
   "cell_type": "code",
   "execution_count": null,
   "metadata": {},
   "outputs": [],
   "source": [
    "def generar_csv_final(ids_series, labels, colores):\n",
    "    final =  pd.DataFrame()\n",
    "    # final['id'] = df_aux['id'].values\n",
    "    final['id'] = ids_series.values\n",
    "    final['label'] = labels;\n",
    "    cantidadGrupo =  pd.DataFrame()\n",
    "    cantidadGrupo['color'] = colores\n",
    "    cantidadGrupo['cantidad'] = final.groupby('label').size()\n",
    "    display(cantidadGrupo)\n",
    "    return final"
   ]
  },
  {
   "cell_type": "markdown",
   "metadata": {},
   "source": [
    "## Features Básicos"
   ]
  },
  {
   "cell_type": "markdown",
   "metadata": {},
   "source": [
    "### Con el set de entrenamiento"
   ]
  },
  {
   "cell_type": "code",
   "execution_count": null,
   "metadata": {},
   "outputs": [],
   "source": [
    "columnas_basicas = ['metroscubiertos', 'metrostotales', 'antiguedad', 'habitaciones', 'garages', 'banos',\n",
    "            'lat', 'lng', 'escuelascercanas', 'centroscomercialescercanos']\n",
    "\n",
    "df_precio = df_aux_train['precio']\n",
    "df_train, X, Y = generar_grafico(df_aux_train, columnas_basicas, df_precio)"
   ]
  },
  {
   "cell_type": "code",
   "execution_count": null,
   "metadata": {},
   "outputs": [],
   "source": [
    "labels, asignar, X, C, colores = etiquetado(6, X)"
   ]
  },
  {
   "cell_type": "code",
   "execution_count": null,
   "metadata": {},
   "outputs": [],
   "source": [
    "proyeccion_2d(df_train, 'metroscubiertos', 'metrostotales', asignar, C, colores)"
   ]
  },
  {
   "cell_type": "code",
   "execution_count": null,
   "metadata": {},
   "outputs": [],
   "source": [
    "proyeccion_2d(df_train, 'antiguedad', 'metrostotales', asignar, C, colores)"
   ]
  },
  {
   "cell_type": "code",
   "execution_count": null,
   "metadata": {},
   "outputs": [],
   "source": [
    "ids_series = df_aux_train['id']\n",
    "final_train_columnas_basicas = generar_csv_final(ids_series, labels, colores)\n",
    "final_train_columnas_basicas = final_train_columnas_basicas.rename(columns={'label':'kmeans_basicos'})"
   ]
  },
  {
   "cell_type": "markdown",
   "metadata": {},
   "source": [
    "### Con el set de testeo"
   ]
  },
  {
   "cell_type": "code",
   "execution_count": null,
   "metadata": {},
   "outputs": [],
   "source": [
    "df_test, X, Y = generar_grafico(df_aux_test, columnas_basicas)"
   ]
  },
  {
   "cell_type": "code",
   "execution_count": null,
   "metadata": {},
   "outputs": [],
   "source": [
    "labels, asignar, X, C, colores = etiquetado(6, X)"
   ]
  },
  {
   "cell_type": "code",
   "execution_count": null,
   "metadata": {},
   "outputs": [],
   "source": [
    "proyeccion_2d(df_test, 'metroscubiertos', 'metrostotales', asignar, C, colores)"
   ]
  },
  {
   "cell_type": "code",
   "execution_count": null,
   "metadata": {},
   "outputs": [],
   "source": [
    "proyeccion_2d(df_test, 'antiguedad', 'metrostotales', asignar, C, colores)"
   ]
  },
  {
   "cell_type": "code",
   "execution_count": null,
   "metadata": {
    "scrolled": false
   },
   "outputs": [],
   "source": [
    "ids_series = df_aux_test['id']\n",
    "final_test_columnas_basicas = generar_csv_final(ids_series, labels, colores)\n",
    "final_test_columnas_basicas = final_test_columnas_basicas.rename(columns={'label':'kmeans_basicos'})"
   ]
  },
  {
   "cell_type": "markdown",
   "metadata": {},
   "source": [
    "## Features Dependientes de la superficie"
   ]
  },
  {
   "cell_type": "markdown",
   "metadata": {},
   "source": [
    "### Set de entrenamiento"
   ]
  },
  {
   "cell_type": "code",
   "execution_count": null,
   "metadata": {},
   "outputs": [],
   "source": [
    "columnas_superficie = ['metroscubiertos', 'metrostotales']\n",
    "\n",
    "df_precio = df_aux_train['precio']\n",
    "df_train, X, Y = generar_grafico(df_aux_train, columnas_superficie, df_precio)"
   ]
  },
  {
   "cell_type": "code",
   "execution_count": null,
   "metadata": {},
   "outputs": [],
   "source": [
    "labels, asignar, X, C, colores = etiquetado(8, X)"
   ]
  },
  {
   "cell_type": "code",
   "execution_count": null,
   "metadata": {},
   "outputs": [],
   "source": [
    "proyeccion_2d(df_train, 'metroscubiertos', 'metrostotales', asignar, C, colores)"
   ]
  },
  {
   "cell_type": "code",
   "execution_count": null,
   "metadata": {},
   "outputs": [],
   "source": [
    "ids_series = df_aux_train['id']\n",
    "final_train_columnas_superficie = generar_csv_final(ids_series, labels, colores)\n",
    "final_train_columnas_superficie = final_train_columnas_superficie.rename(columns={'label':'kmeans_superficie'})"
   ]
  },
  {
   "cell_type": "markdown",
   "metadata": {},
   "source": [
    "#### Set de testeo"
   ]
  },
  {
   "cell_type": "code",
   "execution_count": null,
   "metadata": {},
   "outputs": [],
   "source": [
    "df_test, X, Y = generar_grafico(df_aux_test, columnas_superficie)"
   ]
  },
  {
   "cell_type": "code",
   "execution_count": null,
   "metadata": {},
   "outputs": [],
   "source": [
    "labels, asignar, X, C, colores = etiquetado(8, X)"
   ]
  },
  {
   "cell_type": "code",
   "execution_count": null,
   "metadata": {},
   "outputs": [],
   "source": [
    "proyeccion_2d(df_test, 'metroscubiertos', 'metrostotales', asignar, C, colores)"
   ]
  },
  {
   "cell_type": "code",
   "execution_count": null,
   "metadata": {
    "scrolled": true
   },
   "outputs": [],
   "source": [
    "ids_series = df_aux_test['id']\n",
    "final_test_columnas_superficie = generar_csv_final(ids_series, labels, colores)\n",
    "final_test_columnas_superficie = final_test_columnas_superficie.rename(columns={'label':'kmeans_superficie'})"
   ]
  },
  {
   "cell_type": "markdown",
   "metadata": {},
   "source": [
    "## Features por metros totales cubiertos"
   ]
  },
  {
   "cell_type": "markdown",
   "metadata": {},
   "source": [
    "### Set de Entrenamiento"
   ]
  },
  {
   "cell_type": "code",
   "execution_count": null,
   "metadata": {},
   "outputs": [],
   "source": [
    "def metros_totales_cubiertos(df):\n",
    "    punto20 = df_train['metrostotales'].quantile(0.2)\n",
    "    punto40 = df_train['metrostotales'].quantile(0.4)\n",
    "    punto60 = df_train['metrostotales'].quantile(0.6)\n",
    "    punto80 = df_train['metrostotales'].quantile(0.8)\n",
    "    punto20_cubiertos = df_train['metroscubiertos'].quantile(0.2)\n",
    "    punto40_cubiertos = df_train['metroscubiertos'].quantile(0.4)\n",
    "    punto60_cubiertos = df_train['metroscubiertos'].quantile(0.6)\n",
    "    punto80_cubiertos = df_train['metroscubiertos'].quantile(0.8)\n",
    "    df['metrostotales'] = df['metrostotales'].fillna(df['metroscubiertos'])\n",
    "    df['metroscubiertos'] = df['metroscubiertos'].fillna(df['metrostotales'])\n",
    "    df['metrostotales_log'] = np.log(df['metrostotales'])\n",
    "    df['metroscubiertos_log'] = np.log(df['metroscubiertos'])\n",
    "    df['porcentaje_metros'] = df['metroscubiertos']/df['metrostotales']\n",
    "    df['diferencia_metros'] = df['metrostotales'] - df['metroscubiertos']\n",
    "    df['intervalo_metros_totales'] = features.map_values(df['metrostotales'].values, lambda x: 1 if x<punto20 else (2 if punto20<x<punto40 else (3 if punto40<x<punto60 else(4 if punto60<x<punto80 else 5))))\n",
    "    df['intervalo_metros_cubiertos'] = features.map_values(df['metroscubiertos'].values, lambda x: 1 if x<punto20_cubiertos else (2 if punto20_cubiertos<x<punto40_cubiertos else (3 if punto40_cubiertos<x<punto60_cubiertos else(4 if punto60_cubiertos<x<punto80_cubiertos else 5))))\n",
    "    df['metroscubiertos_bins_unif'] = features.generar_intervalos_unif(df, 10, 'metroscubiertos')\n",
    "    df['metroscubiertos_bins_perc'] = features.generar_intervalos_perc(df, 10, 'metroscubiertos')\n",
    "    df['metroscubiertos_bins_unif'] = df['metroscubiertos_bins_unif'].astype(int)\n",
    "    df['metroscubiertos_bins_perc'] = df['metroscubiertos_bins_perc'].astype(int)\n",
    "    return df"
   ]
  },
  {
   "cell_type": "code",
   "execution_count": null,
   "metadata": {},
   "outputs": [],
   "source": [
    "df = df_aux_train.copy()\n",
    "df = metros_totales_cubiertos(df)\n",
    "\n",
    "columnas_metros_totales_cubiertos = ['metrostotales', 'metroscubiertos', 'metrostotales_log',\n",
    "                    'metroscubiertos_log', 'porcentaje_metros', 'diferencia_metros', 'intervalo_metros_totales', \n",
    "                    'intervalo_metros_cubiertos', 'metroscubiertos_bins_unif', 'metroscubiertos_bins_perc' ]\n",
    "\n",
    "df_precio = df['precio']\n",
    "df_train, X, Y = generar_grafico(df, columnas_metros_totales_cubiertos, df_precio)"
   ]
  },
  {
   "cell_type": "code",
   "execution_count": null,
   "metadata": {},
   "outputs": [],
   "source": [
    "labels, asignar, X, C, colores = etiquetado(6, X)"
   ]
  },
  {
   "cell_type": "code",
   "execution_count": null,
   "metadata": {},
   "outputs": [],
   "source": [
    "proyeccion_2d(df_train, 'intervalo_metros_cubiertos', 'diferencia_metros', asignar, C, colores)"
   ]
  },
  {
   "cell_type": "code",
   "execution_count": null,
   "metadata": {},
   "outputs": [],
   "source": [
    "ids_series = df['id']\n",
    "final_train_columnas_metros_cubiertos = generar_csv_final(ids_series, labels, colores)\n",
    "final_train_columnas_metros_cubiertos = final_train_columnas_metros_cubiertos.rename(columns={'label':'kmeans_metroscubiertos'})"
   ]
  },
  {
   "cell_type": "markdown",
   "metadata": {},
   "source": [
    "### Set de testeo"
   ]
  },
  {
   "cell_type": "code",
   "execution_count": null,
   "metadata": {},
   "outputs": [],
   "source": [
    "df = df_aux_test.copy()\n",
    "df = metros_totales_cubiertos(df)\n",
    "\n",
    "columnas_metros_totales_cubiertos = ['metrostotales', 'metroscubiertos', 'metrostotales_log',\n",
    "                    'metroscubiertos_log', 'porcentaje_metros', 'diferencia_metros', 'intervalo_metros_totales', \n",
    "                    'intervalo_metros_cubiertos', 'metroscubiertos_bins_unif', 'metroscubiertos_bins_perc' ]\n",
    "\n",
    "df_test, X, Y = generar_grafico(df, columnas_metros_totales_cubiertos)"
   ]
  },
  {
   "cell_type": "code",
   "execution_count": null,
   "metadata": {},
   "outputs": [],
   "source": [
    "labels, asignar, X, C, colores = etiquetado(6, X)"
   ]
  },
  {
   "cell_type": "code",
   "execution_count": null,
   "metadata": {},
   "outputs": [],
   "source": [
    "proyeccion_2d(df_test, 'intervalo_metros_cubiertos', 'diferencia_metros', asignar, C, colores)"
   ]
  },
  {
   "cell_type": "code",
   "execution_count": null,
   "metadata": {},
   "outputs": [],
   "source": [
    "ids_series = df['id']\n",
    "final_test_columnas_metros_cubiertos = generar_csv_final(ids_series, labels, colores)\n",
    "final_test_columnas_metros_cubiertos = final_test_columnas_metros_cubiertos.rename(columns={'label':'kmeans_metroscubiertos'})"
   ]
  },
  {
   "cell_type": "markdown",
   "metadata": {},
   "source": [
    "## Por fecha"
   ]
  },
  {
   "cell_type": "markdown",
   "metadata": {},
   "source": [
    "### Para el set de entrenamiento"
   ]
  },
  {
   "cell_type": "code",
   "execution_count": null,
   "metadata": {},
   "outputs": [],
   "source": [
    "def generar_features_fecha(df):\n",
    "    df['fecha'] = pd.to_datetime(df['fecha'])\n",
    "    df['anio'] = df['fecha'].dt.year\n",
    "    df['mes'] = df['fecha'].dt.month\n",
    "    df['dia'] = df['fecha'].dt.day\n",
    "    df['trimestre'] = (df['fecha'].dt.month)%3+1\n",
    "    df['delta_desde_datos'] = (df['fecha'] - df['fecha'].min())\n",
    "    df['dias_desde_datos'] = df['delta_desde_datos'].dt.days\n",
    "    df['meses_desde_datos'] = df['dias_desde_datos'] // 30   # Mas o menos...\n",
    "    df.pop('delta_desde_datos')\n",
    "    df['fecha'] = df['fecha'].astype(int)\n",
    "    return df"
   ]
  },
  {
   "cell_type": "code",
   "execution_count": null,
   "metadata": {},
   "outputs": [],
   "source": [
    "df = df_aux_train.copy()\n",
    "df = generar_features_fecha(df)\n",
    "\n",
    "columnas_por_fecha = ['fecha', 'anio', 'mes', 'dia', 'trimestre', 'dias_desde_datos', 'meses_desde_datos' ]\n",
    "\n",
    "df_precio = df['precio']\n",
    "df_train, X, Y = generar_grafico(df, columnas_por_fecha, df_precio)"
   ]
  },
  {
   "cell_type": "code",
   "execution_count": null,
   "metadata": {},
   "outputs": [],
   "source": [
    "labels, asignar, X, C, colores = etiquetado(11, X)"
   ]
  },
  {
   "cell_type": "code",
   "execution_count": null,
   "metadata": {},
   "outputs": [],
   "source": [
    "proyeccion_2d(df_train, 'dias_desde_datos', 'meses_desde_datos', asignar, C, colores)"
   ]
  },
  {
   "cell_type": "code",
   "execution_count": null,
   "metadata": {},
   "outputs": [],
   "source": [
    "ids_series = df['id']\n",
    "final_train_columnas_fechas = generar_csv_final(ids_series, labels, colores)\n",
    "final_train_columnas_fechas = final_train_columnas_fechas.rename(columns={'label':'kmeans_fechas'})"
   ]
  },
  {
   "cell_type": "markdown",
   "metadata": {},
   "source": [
    "### Para el set de testeo"
   ]
  },
  {
   "cell_type": "code",
   "execution_count": null,
   "metadata": {},
   "outputs": [],
   "source": [
    "df = df_aux_test.copy()\n",
    "df = generar_features_fecha(df)\n",
    "\n",
    "df_test, X, Y = generar_grafico(df, columnas_por_fecha)"
   ]
  },
  {
   "cell_type": "code",
   "execution_count": null,
   "metadata": {},
   "outputs": [],
   "source": [
    "labels, asignar, X, C, colores = etiquetado(11, X)"
   ]
  },
  {
   "cell_type": "code",
   "execution_count": null,
   "metadata": {},
   "outputs": [],
   "source": [
    "proyeccion_2d(df_test, 'dias_desde_datos', 'meses_desde_datos', asignar, C, colores)"
   ]
  },
  {
   "cell_type": "code",
   "execution_count": null,
   "metadata": {},
   "outputs": [],
   "source": [
    "ids_series = df['id']\n",
    "final_test_columnas_fechas = generar_csv_final(ids_series, labels, colores)\n",
    "final_test_columnas_fechas = final_test_columnas_fechas.rename(columns={'label':'kmeans_fechas'})"
   ]
  },
  {
   "cell_type": "markdown",
   "metadata": {},
   "source": [
    "## Features Por latitud y longitud"
   ]
  },
  {
   "cell_type": "markdown",
   "metadata": {},
   "source": [
    "### Set de entrenamiento"
   ]
  },
  {
   "cell_type": "code",
   "execution_count": null,
   "metadata": {
    "scrolled": false
   },
   "outputs": [],
   "source": [
    "columnas_lat_lng = ['lat', 'lng']\n",
    "\n",
    "df_precio = df['precio']\n",
    "df_train, X, Y = generar_grafico(df_aux_train, columnas_lat_lng, df_precio)"
   ]
  },
  {
   "cell_type": "code",
   "execution_count": null,
   "metadata": {},
   "outputs": [],
   "source": [
    "labels, asignar, X, C, colores = etiquetado(8, X)"
   ]
  },
  {
   "cell_type": "code",
   "execution_count": null,
   "metadata": {},
   "outputs": [],
   "source": [
    "proyeccion_2d(df_train, 'lat', 'lng', asignar, C, colores)"
   ]
  },
  {
   "cell_type": "code",
   "execution_count": null,
   "metadata": {},
   "outputs": [],
   "source": [
    "ids_series = df_aux_train['id']\n",
    "final_train_columnas_latlng = generar_csv_final(ids_series, labels, colores)\n",
    "final_train_columnas_latlng = final_train_columnas_latlng.rename(columns={'label':'kmeans_latlng'})"
   ]
  },
  {
   "cell_type": "markdown",
   "metadata": {},
   "source": [
    "### Para el set de test"
   ]
  },
  {
   "cell_type": "code",
   "execution_count": null,
   "metadata": {},
   "outputs": [],
   "source": [
    "df_test, X, Y = generar_grafico(df_aux_test, columnas_lat_lng, df_precio)"
   ]
  },
  {
   "cell_type": "code",
   "execution_count": null,
   "metadata": {},
   "outputs": [],
   "source": [
    "labels, asignar, X, C, colores = etiquetado(8, X)"
   ]
  },
  {
   "cell_type": "code",
   "execution_count": null,
   "metadata": {},
   "outputs": [],
   "source": [
    "proyeccion_2d(df_test, 'lat', 'lng', asignar, C, colores)"
   ]
  },
  {
   "cell_type": "code",
   "execution_count": null,
   "metadata": {},
   "outputs": [],
   "source": [
    "ids_series = df_test['id']\n",
    "final_test_columnas_latlng = generar_csv_final(ids_series, labels, colores)\n",
    "final_test_columnas_latlng = final_test_columnas_latlng.rename(columns={'label':'kmeans_latlng'})"
   ]
  },
  {
   "cell_type": "markdown",
   "metadata": {},
   "source": [
    "# Juntar todos los features en un solo df"
   ]
  },
  {
   "cell_type": "code",
   "execution_count": null,
   "metadata": {},
   "outputs": [],
   "source": []
  }
 ],
 "metadata": {
  "kernelspec": {
   "display_name": "Python 3",
   "language": "python",
   "name": "python3"
  },
  "language_info": {
   "codemirror_mode": {
    "name": "ipython",
    "version": 3
   },
   "file_extension": ".py",
   "mimetype": "text/x-python",
   "name": "python",
   "nbconvert_exporter": "python",
   "pygments_lexer": "ipython3",
   "version": "3.6.8"
  }
 },
 "nbformat": 4,
 "nbformat_minor": 2
}
