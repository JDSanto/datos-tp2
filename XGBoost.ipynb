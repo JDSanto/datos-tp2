{
 "cells": [
  {
   "cell_type": "code",
   "execution_count": 2,
   "metadata": {},
   "outputs": [],
   "source": [
    "import pandas as pd\n",
    "import xgboost as xgb\n",
    "from sklearn.metrics import mean_squared_error\n",
    "import numpy as np\n",
    "from sklearn.model_selection import train_test_split\n",
    "import ipynb.fs.full.features as features\n",
    "import ipynb.fs.full.utils as utils\n",
    "from hyperopt import fmin, tpe, hp\n",
    "from sklearn.metrics import mean_absolute_error\n",
    "\n",
    "df_train = pd.read_csv('./data/train.csv')\n",
    "df_test = pd.read_csv('./data/test.csv')\n",
    "\n",
    "df_train = features.llenar_nulls(df_train)\n",
    "df_test = features.llenar_nulls(df_test)"
   ]
  },
  {
   "cell_type": "markdown",
   "metadata": {},
   "source": [
    "### Agrego Features"
   ]
  },
  {
   "cell_type": "code",
   "execution_count": 3,
   "metadata": {},
   "outputs": [],
   "source": [
    "df_test_f = features.features_independientes_precio(df_test)\n",
    "df_test_f = features.features_dependientes_precio(df_test_f, df_train)\n",
    "\n",
    "df_train_f = features.features_independientes_precio(df_train)\n",
    "df_train_f = features.features_dependientes_precio(df_train_f, df_train)\n",
    "\n",
    "df_test_f, cols_tipodepropiedad_ohe = features.columna_a_ohe(df_test_f, 'tipodepropiedad', N=100, df_aux=df_train, devolver_cols=True)\n",
    "df_test_f, cols_provincia_ohe = features.columna_a_ohe(df_test_f, 'provincia', N=100, df_aux=df_train, devolver_cols=True)\n",
    "df_test_f, cols_zona_ohe = features.columna_a_ohe(df_test_f, 'zona', df_aux=df_train_f, devolver_cols=True)\n",
    "\n",
    "df_train_f = features.columna_a_ohe(df_train_f, 'tipodepropiedad', N=100, df_aux=df_test)\n",
    "df_train_f = features.columna_a_ohe(df_train_f, 'provincia', N=100, df_aux=df_test)\n",
    "df_train_f = features.columna_a_ohe(df_train_f, 'zona', df_aux=df_test_f)\n",
    "\n",
    "df_train_f['fecha'] = pd.to_datetime(df_train_f['fecha']).astype(int)\n",
    "df_test_f['fecha'] = pd.to_datetime(df_test_f['fecha']).astype(int)"
   ]
  },
  {
   "cell_type": "markdown",
   "metadata": {},
   "source": [
    "### Filtro columnas"
   ]
  },
  {
   "cell_type": "code",
   "execution_count": 4,
   "metadata": {},
   "outputs": [],
   "source": [
    "features = ['antiguedad', 'habitaciones', 'garages', 'banos',\n",
    "       'metroscubiertos', 'metrostotales', \n",
    "            'lat', 'lng',\n",
    "       'gimnasio', 'usosmultiples', 'piscina', 'escuelascercanas', 'centroscomercialescercanos']\n",
    "\n",
    "features_test = ['prop_frecuente', 'top_provincia', 'porcentaje_metros', 'diferencia_metros', 'promedio_precio_ciudad', \n",
    "                 'promedio_por_mes', 'anio', 'promedio_id_zona', 'promedio_precio_tipo_propiedad', \n",
    "                 'promedio_precio_hbg_tipo_propiedad', 'count_id_zona', 'count_ciudad', 'puntaje', \n",
    "                 'count_tipo_propiedad', 'count_tipo_propiedad_ciudad', \n",
    "                 'promedio_precio_tipo_propiedad_ciudad_gen', 'promedio_precio_hbg_tipo_propiedad_provincia',\n",
    "                 'varianza_id_zona', 'tam_ambientes', 'metros_cubiertos_normalizados', 'dias_desde_datos',\n",
    "                 'meses_desde_datos', 'promedio_id_zona_log']\n",
    "\n",
    "features += features_test\n",
    "\n",
    "features += cols_tipodepropiedad_ohe + cols_provincia_ohe + cols_zona_ohe\n",
    "\n",
    "df_XGBoost, df_eval = utils.dividir_df_testeo(df_train_f, test_size=0.15)\n",
    "\n",
    "df_XGBoost = utils.filtrar_features(df_XGBoost, features, 'precio')\n",
    "df_eval = utils.filtrar_features(df_eval, features, 'precio')"
   ]
  },
  {
   "cell_type": "markdown",
   "metadata": {},
   "source": [
    "## Busco los mejores hiperparametros"
   ]
  },
  {
   "cell_type": "code",
   "execution_count": 7,
   "metadata": {
    "scrolled": false
   },
   "outputs": [
    {
     "name": "stdout",
     "output_type": "stream",
     "text": [
      "  2%|▏         | 1/50 [00:31<26:00, 31.84s/it, best loss: 536204.5653767361]"
     ]
    },
    {
     "name": "stderr",
     "output_type": "stream",
     "text": [
      "/home/javier/Documents/FIUBA/Datos/.venv/lib/python3.7/site-packages/xgboost/core.py:587: FutureWarning: Series.base is deprecated and will be removed in a future version\n",
      "  if getattr(data, 'base', None) is not None and \\\n",
      "\n",
      "/home/javier/Documents/FIUBA/Datos/.venv/lib/python3.7/site-packages/xgboost/core.py:588: FutureWarning: Series.base is deprecated and will be removed in a future version\n",
      "  data.base is not None and isinstance(data, np.ndarray) \\\n",
      "\n"
     ]
    },
    {
     "name": "stdout",
     "output_type": "stream",
     "text": [
      "\r",
      "  4%|▍         | 2/50 [00:35<18:38, 23.29s/it, best loss: 536204.5653767361]"
     ]
    },
    {
     "name": "stderr",
     "output_type": "stream",
     "text": [
      "/home/javier/Documents/FIUBA/Datos/.venv/lib/python3.7/site-packages/xgboost/core.py:587: FutureWarning: Series.base is deprecated and will be removed in a future version\n",
      "  if getattr(data, 'base', None) is not None and \\\n",
      "\n",
      "/home/javier/Documents/FIUBA/Datos/.venv/lib/python3.7/site-packages/xgboost/core.py:588: FutureWarning: Series.base is deprecated and will be removed in a future version\n",
      "  data.base is not None and isinstance(data, np.ndarray) \\\n",
      "\n"
     ]
    },
    {
     "name": "stdout",
     "output_type": "stream",
     "text": [
      "\r",
      "  6%|▌         | 3/50 [00:43<14:45, 18.85s/it, best loss: 536204.5653767361]"
     ]
    },
    {
     "name": "stderr",
     "output_type": "stream",
     "text": [
      "/home/javier/Documents/FIUBA/Datos/.venv/lib/python3.7/site-packages/xgboost/core.py:587: FutureWarning: Series.base is deprecated and will be removed in a future version\n",
      "  if getattr(data, 'base', None) is not None and \\\n",
      "\n",
      "/home/javier/Documents/FIUBA/Datos/.venv/lib/python3.7/site-packages/xgboost/core.py:588: FutureWarning: Series.base is deprecated and will be removed in a future version\n",
      "  data.base is not None and isinstance(data, np.ndarray) \\\n",
      "\n"
     ]
    },
    {
     "name": "stdout",
     "output_type": "stream",
     "text": [
      "\r",
      "  8%|▊         | 4/50 [01:02<14:21, 18.73s/it, best loss: 534373.3772743056]"
     ]
    },
    {
     "name": "stderr",
     "output_type": "stream",
     "text": [
      "/home/javier/Documents/FIUBA/Datos/.venv/lib/python3.7/site-packages/xgboost/core.py:587: FutureWarning: Series.base is deprecated and will be removed in a future version\n",
      "  if getattr(data, 'base', None) is not None and \\\n",
      "\n",
      "/home/javier/Documents/FIUBA/Datos/.venv/lib/python3.7/site-packages/xgboost/core.py:588: FutureWarning: Series.base is deprecated and will be removed in a future version\n",
      "  data.base is not None and isinstance(data, np.ndarray) \\\n",
      "\n"
     ]
    },
    {
     "name": "stdout",
     "output_type": "stream",
     "text": [
      "\r",
      " 10%|█         | 5/50 [01:08<11:11, 14.92s/it, best loss: 534373.3772743056]"
     ]
    },
    {
     "name": "stderr",
     "output_type": "stream",
     "text": [
      "/home/javier/Documents/FIUBA/Datos/.venv/lib/python3.7/site-packages/xgboost/core.py:587: FutureWarning: Series.base is deprecated and will be removed in a future version\n",
      "  if getattr(data, 'base', None) is not None and \\\n",
      "\n",
      "/home/javier/Documents/FIUBA/Datos/.venv/lib/python3.7/site-packages/xgboost/core.py:588: FutureWarning: Series.base is deprecated and will be removed in a future version\n",
      "  data.base is not None and isinstance(data, np.ndarray) \\\n",
      "\n"
     ]
    },
    {
     "name": "stdout",
     "output_type": "stream",
     "text": [
      "\r",
      " 12%|█▏        | 6/50 [01:29<12:25, 16.95s/it, best loss: 534373.3772743056]"
     ]
    },
    {
     "name": "stderr",
     "output_type": "stream",
     "text": [
      "/home/javier/Documents/FIUBA/Datos/.venv/lib/python3.7/site-packages/xgboost/core.py:587: FutureWarning: Series.base is deprecated and will be removed in a future version\n",
      "  if getattr(data, 'base', None) is not None and \\\n",
      "\n",
      "/home/javier/Documents/FIUBA/Datos/.venv/lib/python3.7/site-packages/xgboost/core.py:588: FutureWarning: Series.base is deprecated and will be removed in a future version\n",
      "  data.base is not None and isinstance(data, np.ndarray) \\\n",
      "\n"
     ]
    },
    {
     "name": "stdout",
     "output_type": "stream",
     "text": [
      "\r",
      " 14%|█▍        | 7/50 [01:41<10:59, 15.33s/it, best loss: 534373.3772743056]"
     ]
    },
    {
     "name": "stderr",
     "output_type": "stream",
     "text": [
      "/home/javier/Documents/FIUBA/Datos/.venv/lib/python3.7/site-packages/xgboost/core.py:587: FutureWarning: Series.base is deprecated and will be removed in a future version\n",
      "  if getattr(data, 'base', None) is not None and \\\n",
      "\n",
      "/home/javier/Documents/FIUBA/Datos/.venv/lib/python3.7/site-packages/xgboost/core.py:588: FutureWarning: Series.base is deprecated and will be removed in a future version\n",
      "  data.base is not None and isinstance(data, np.ndarray) \\\n",
      "\n"
     ]
    },
    {
     "name": "stdout",
     "output_type": "stream",
     "text": [
      "\r",
      " 16%|█▌        | 8/50 [01:48<08:55, 12.74s/it, best loss: 534373.3772743056]"
     ]
    },
    {
     "name": "stderr",
     "output_type": "stream",
     "text": [
      "/home/javier/Documents/FIUBA/Datos/.venv/lib/python3.7/site-packages/xgboost/core.py:587: FutureWarning: Series.base is deprecated and will be removed in a future version\n",
      "  if getattr(data, 'base', None) is not None and \\\n",
      "\n",
      "/home/javier/Documents/FIUBA/Datos/.venv/lib/python3.7/site-packages/xgboost/core.py:588: FutureWarning: Series.base is deprecated and will be removed in a future version\n",
      "  data.base is not None and isinstance(data, np.ndarray) \\\n",
      "\n"
     ]
    },
    {
     "name": "stdout",
     "output_type": "stream",
     "text": [
      "\r",
      " 18%|█▊        | 9/50 [02:01<08:48, 12.90s/it, best loss: 534373.3772743056]"
     ]
    },
    {
     "name": "stderr",
     "output_type": "stream",
     "text": [
      "/home/javier/Documents/FIUBA/Datos/.venv/lib/python3.7/site-packages/xgboost/core.py:587: FutureWarning: Series.base is deprecated and will be removed in a future version\n",
      "  if getattr(data, 'base', None) is not None and \\\n",
      "\n",
      "/home/javier/Documents/FIUBA/Datos/.venv/lib/python3.7/site-packages/xgboost/core.py:588: FutureWarning: Series.base is deprecated and will be removed in a future version\n",
      "  data.base is not None and isinstance(data, np.ndarray) \\\n",
      "\n"
     ]
    },
    {
     "name": "stdout",
     "output_type": "stream",
     "text": [
      "\r",
      " 20%|██        | 10/50 [02:17<09:14, 13.85s/it, best loss: 532342.4761484375]"
     ]
    },
    {
     "name": "stderr",
     "output_type": "stream",
     "text": [
      "/home/javier/Documents/FIUBA/Datos/.venv/lib/python3.7/site-packages/xgboost/core.py:587: FutureWarning: Series.base is deprecated and will be removed in a future version\n",
      "  if getattr(data, 'base', None) is not None and \\\n",
      "\n",
      "/home/javier/Documents/FIUBA/Datos/.venv/lib/python3.7/site-packages/xgboost/core.py:588: FutureWarning: Series.base is deprecated and will be removed in a future version\n",
      "  data.base is not None and isinstance(data, np.ndarray) \\\n",
      "\n"
     ]
    },
    {
     "name": "stdout",
     "output_type": "stream",
     "text": [
      "\r",
      " 22%|██▏       | 11/50 [02:55<13:42, 21.10s/it, best loss: 532342.4761484375]"
     ]
    },
    {
     "name": "stderr",
     "output_type": "stream",
     "text": [
      "/home/javier/Documents/FIUBA/Datos/.venv/lib/python3.7/site-packages/xgboost/core.py:587: FutureWarning: Series.base is deprecated and will be removed in a future version\n",
      "  if getattr(data, 'base', None) is not None and \\\n",
      "\n",
      "/home/javier/Documents/FIUBA/Datos/.venv/lib/python3.7/site-packages/xgboost/core.py:588: FutureWarning: Series.base is deprecated and will be removed in a future version\n",
      "  data.base is not None and isinstance(data, np.ndarray) \\\n",
      "\n"
     ]
    },
    {
     "name": "stdout",
     "output_type": "stream",
     "text": [
      "\r",
      " 24%|██▍       | 12/50 [03:07<11:40, 18.44s/it, best loss: 532342.4761484375]"
     ]
    },
    {
     "name": "stderr",
     "output_type": "stream",
     "text": [
      "/home/javier/Documents/FIUBA/Datos/.venv/lib/python3.7/site-packages/xgboost/core.py:587: FutureWarning: Series.base is deprecated and will be removed in a future version\n",
      "  if getattr(data, 'base', None) is not None and \\\n",
      "\n",
      "/home/javier/Documents/FIUBA/Datos/.venv/lib/python3.7/site-packages/xgboost/core.py:588: FutureWarning: Series.base is deprecated and will be removed in a future version\n",
      "  data.base is not None and isinstance(data, np.ndarray) \\\n",
      "\n"
     ]
    },
    {
     "name": "stdout",
     "output_type": "stream",
     "text": [
      "\r",
      " 26%|██▌       | 13/50 [03:20<10:21, 16.81s/it, best loss: 532342.4761484375]"
     ]
    },
    {
     "name": "stderr",
     "output_type": "stream",
     "text": [
      "/home/javier/Documents/FIUBA/Datos/.venv/lib/python3.7/site-packages/xgboost/core.py:587: FutureWarning: Series.base is deprecated and will be removed in a future version\n",
      "  if getattr(data, 'base', None) is not None and \\\n",
      "\n",
      "/home/javier/Documents/FIUBA/Datos/.venv/lib/python3.7/site-packages/xgboost/core.py:588: FutureWarning: Series.base is deprecated and will be removed in a future version\n",
      "  data.base is not None and isinstance(data, np.ndarray) \\\n",
      "\n"
     ]
    },
    {
     "name": "stdout",
     "output_type": "stream",
     "text": [
      "\r",
      " 28%|██▊       | 14/50 [03:25<07:56, 13.23s/it, best loss: 532342.4761484375]"
     ]
    },
    {
     "name": "stderr",
     "output_type": "stream",
     "text": [
      "/home/javier/Documents/FIUBA/Datos/.venv/lib/python3.7/site-packages/xgboost/core.py:587: FutureWarning: Series.base is deprecated and will be removed in a future version\n",
      "  if getattr(data, 'base', None) is not None and \\\n",
      "\n",
      "/home/javier/Documents/FIUBA/Datos/.venv/lib/python3.7/site-packages/xgboost/core.py:588: FutureWarning: Series.base is deprecated and will be removed in a future version\n",
      "  data.base is not None and isinstance(data, np.ndarray) \\\n",
      "\n"
     ]
    },
    {
     "name": "stdout",
     "output_type": "stream",
     "text": [
      "\r",
      " 30%|███       | 15/50 [03:30<06:18, 10.80s/it, best loss: 532342.4761484375]"
     ]
    },
    {
     "name": "stderr",
     "output_type": "stream",
     "text": [
      "/home/javier/Documents/FIUBA/Datos/.venv/lib/python3.7/site-packages/xgboost/core.py:587: FutureWarning: Series.base is deprecated and will be removed in a future version\n",
      "  if getattr(data, 'base', None) is not None and \\\n",
      "\n",
      "/home/javier/Documents/FIUBA/Datos/.venv/lib/python3.7/site-packages/xgboost/core.py:588: FutureWarning: Series.base is deprecated and will be removed in a future version\n",
      "  data.base is not None and isinstance(data, np.ndarray) \\\n",
      "\n"
     ]
    },
    {
     "name": "stdout",
     "output_type": "stream",
     "text": [
      "\r",
      " 32%|███▏      | 16/50 [04:13<11:30, 20.31s/it, best loss: 528302.63565625]  "
     ]
    },
    {
     "name": "stderr",
     "output_type": "stream",
     "text": [
      "/home/javier/Documents/FIUBA/Datos/.venv/lib/python3.7/site-packages/xgboost/core.py:587: FutureWarning: Series.base is deprecated and will be removed in a future version\n",
      "  if getattr(data, 'base', None) is not None and \\\n",
      "\n",
      "/home/javier/Documents/FIUBA/Datos/.venv/lib/python3.7/site-packages/xgboost/core.py:588: FutureWarning: Series.base is deprecated and will be removed in a future version\n",
      "  data.base is not None and isinstance(data, np.ndarray) \\\n",
      "\n"
     ]
    },
    {
     "name": "stdout",
     "output_type": "stream",
     "text": [
      "\r",
      " 34%|███▍      | 17/50 [04:24<09:38, 17.54s/it, best loss: 528302.63565625]"
     ]
    },
    {
     "name": "stderr",
     "output_type": "stream",
     "text": [
      "/home/javier/Documents/FIUBA/Datos/.venv/lib/python3.7/site-packages/xgboost/core.py:587: FutureWarning: Series.base is deprecated and will be removed in a future version\n",
      "  if getattr(data, 'base', None) is not None and \\\n",
      "\n",
      "/home/javier/Documents/FIUBA/Datos/.venv/lib/python3.7/site-packages/xgboost/core.py:588: FutureWarning: Series.base is deprecated and will be removed in a future version\n",
      "  data.base is not None and isinstance(data, np.ndarray) \\\n",
      "\n"
     ]
    },
    {
     "name": "stdout",
     "output_type": "stream",
     "text": [
      "\r",
      " 36%|███▌      | 18/50 [04:42<09:24, 17.65s/it, best loss: 495289.55463888886]"
     ]
    },
    {
     "name": "stderr",
     "output_type": "stream",
     "text": [
      "/home/javier/Documents/FIUBA/Datos/.venv/lib/python3.7/site-packages/xgboost/core.py:587: FutureWarning: Series.base is deprecated and will be removed in a future version\n",
      "  if getattr(data, 'base', None) is not None and \\\n",
      "\n",
      "/home/javier/Documents/FIUBA/Datos/.venv/lib/python3.7/site-packages/xgboost/core.py:588: FutureWarning: Series.base is deprecated and will be removed in a future version\n",
      "  data.base is not None and isinstance(data, np.ndarray) \\\n",
      "\n"
     ]
    },
    {
     "name": "stdout",
     "output_type": "stream",
     "text": [
      "\r",
      " 38%|███▊      | 19/50 [04:46<06:58, 13.51s/it, best loss: 495289.55463888886]"
     ]
    },
    {
     "name": "stderr",
     "output_type": "stream",
     "text": [
      "/home/javier/Documents/FIUBA/Datos/.venv/lib/python3.7/site-packages/xgboost/core.py:587: FutureWarning: Series.base is deprecated and will be removed in a future version\n",
      "  if getattr(data, 'base', None) is not None and \\\n",
      "\n",
      "/home/javier/Documents/FIUBA/Datos/.venv/lib/python3.7/site-packages/xgboost/core.py:588: FutureWarning: Series.base is deprecated and will be removed in a future version\n",
      "  data.base is not None and isinstance(data, np.ndarray) \\\n",
      "\n"
     ]
    },
    {
     "name": "stdout",
     "output_type": "stream",
     "text": [
      "\r",
      " 40%|████      | 20/50 [05:44<13:29, 26.97s/it, best loss: 495289.55463888886]"
     ]
    },
    {
     "name": "stderr",
     "output_type": "stream",
     "text": [
      "/home/javier/Documents/FIUBA/Datos/.venv/lib/python3.7/site-packages/xgboost/core.py:587: FutureWarning: Series.base is deprecated and will be removed in a future version\n",
      "  if getattr(data, 'base', None) is not None and \\\n",
      "\n",
      "/home/javier/Documents/FIUBA/Datos/.venv/lib/python3.7/site-packages/xgboost/core.py:588: FutureWarning: Series.base is deprecated and will be removed in a future version\n",
      "  data.base is not None and isinstance(data, np.ndarray) \\\n",
      "\n"
     ]
    },
    {
     "name": "stdout",
     "output_type": "stream",
     "text": [
      "\r",
      " 42%|████▏     | 21/50 [06:01<11:39, 24.12s/it, best loss: 495289.55463888886]"
     ]
    },
    {
     "name": "stderr",
     "output_type": "stream",
     "text": [
      "/home/javier/Documents/FIUBA/Datos/.venv/lib/python3.7/site-packages/xgboost/core.py:587: FutureWarning: Series.base is deprecated and will be removed in a future version\n",
      "  if getattr(data, 'base', None) is not None and \\\n",
      "\n",
      "/home/javier/Documents/FIUBA/Datos/.venv/lib/python3.7/site-packages/xgboost/core.py:588: FutureWarning: Series.base is deprecated and will be removed in a future version\n",
      "  data.base is not None and isinstance(data, np.ndarray) \\\n",
      "\n"
     ]
    },
    {
     "name": "stdout",
     "output_type": "stream",
     "text": [
      "\r",
      " 44%|████▍     | 22/50 [06:17<10:03, 21.54s/it, best loss: 487142.821109375]  "
     ]
    },
    {
     "name": "stderr",
     "output_type": "stream",
     "text": [
      "/home/javier/Documents/FIUBA/Datos/.venv/lib/python3.7/site-packages/xgboost/core.py:587: FutureWarning: Series.base is deprecated and will be removed in a future version\n",
      "  if getattr(data, 'base', None) is not None and \\\n",
      "\n",
      "/home/javier/Documents/FIUBA/Datos/.venv/lib/python3.7/site-packages/xgboost/core.py:588: FutureWarning: Series.base is deprecated and will be removed in a future version\n",
      "  data.base is not None and isinstance(data, np.ndarray) \\\n",
      "\n"
     ]
    },
    {
     "name": "stdout",
     "output_type": "stream",
     "text": [
      "\r",
      " 46%|████▌     | 23/50 [06:28<08:17, 18.43s/it, best loss: 487142.821109375]"
     ]
    },
    {
     "name": "stderr",
     "output_type": "stream",
     "text": [
      "/home/javier/Documents/FIUBA/Datos/.venv/lib/python3.7/site-packages/xgboost/core.py:587: FutureWarning: Series.base is deprecated and will be removed in a future version\n",
      "  if getattr(data, 'base', None) is not None and \\\n",
      "\n",
      "/home/javier/Documents/FIUBA/Datos/.venv/lib/python3.7/site-packages/xgboost/core.py:588: FutureWarning: Series.base is deprecated and will be removed in a future version\n",
      "  data.base is not None and isinstance(data, np.ndarray) \\\n",
      "\n"
     ]
    },
    {
     "name": "stdout",
     "output_type": "stream",
     "text": [
      "\r",
      " 48%|████▊     | 24/50 [06:46<07:51, 18.15s/it, best loss: 487142.821109375]"
     ]
    },
    {
     "name": "stderr",
     "output_type": "stream",
     "text": [
      "/home/javier/Documents/FIUBA/Datos/.venv/lib/python3.7/site-packages/xgboost/core.py:587: FutureWarning: Series.base is deprecated and will be removed in a future version\n",
      "  if getattr(data, 'base', None) is not None and \\\n",
      "\n",
      "/home/javier/Documents/FIUBA/Datos/.venv/lib/python3.7/site-packages/xgboost/core.py:588: FutureWarning: Series.base is deprecated and will be removed in a future version\n",
      "  data.base is not None and isinstance(data, np.ndarray) \\\n",
      "\n"
     ]
    },
    {
     "name": "stdout",
     "output_type": "stream",
     "text": [
      "\r",
      " 50%|█████     | 25/50 [07:22<09:49, 23.58s/it, best loss: 484432.2250295139]"
     ]
    },
    {
     "name": "stderr",
     "output_type": "stream",
     "text": [
      "/home/javier/Documents/FIUBA/Datos/.venv/lib/python3.7/site-packages/xgboost/core.py:587: FutureWarning: Series.base is deprecated and will be removed in a future version\n",
      "  if getattr(data, 'base', None) is not None and \\\n",
      "\n",
      "/home/javier/Documents/FIUBA/Datos/.venv/lib/python3.7/site-packages/xgboost/core.py:588: FutureWarning: Series.base is deprecated and will be removed in a future version\n",
      "  data.base is not None and isinstance(data, np.ndarray) \\\n",
      "\n"
     ]
    },
    {
     "name": "stdout",
     "output_type": "stream",
     "text": [
      "\r",
      " 52%|█████▏    | 26/50 [07:37<08:23, 21.00s/it, best loss: 484432.2250295139]"
     ]
    },
    {
     "name": "stderr",
     "output_type": "stream",
     "text": [
      "/home/javier/Documents/FIUBA/Datos/.venv/lib/python3.7/site-packages/xgboost/core.py:587: FutureWarning: Series.base is deprecated and will be removed in a future version\n",
      "  if getattr(data, 'base', None) is not None and \\\n",
      "\n",
      "/home/javier/Documents/FIUBA/Datos/.venv/lib/python3.7/site-packages/xgboost/core.py:588: FutureWarning: Series.base is deprecated and will be removed in a future version\n",
      "  data.base is not None and isinstance(data, np.ndarray) \\\n",
      "\n"
     ]
    },
    {
     "name": "stdout",
     "output_type": "stream",
     "text": [
      "\r",
      " 54%|█████▍    | 27/50 [08:18<10:21, 27.03s/it, best loss: 484432.2250295139]"
     ]
    },
    {
     "name": "stderr",
     "output_type": "stream",
     "text": [
      "/home/javier/Documents/FIUBA/Datos/.venv/lib/python3.7/site-packages/xgboost/core.py:587: FutureWarning: Series.base is deprecated and will be removed in a future version\n",
      "  if getattr(data, 'base', None) is not None and \\\n",
      "\n",
      "/home/javier/Documents/FIUBA/Datos/.venv/lib/python3.7/site-packages/xgboost/core.py:588: FutureWarning: Series.base is deprecated and will be removed in a future version\n",
      "  data.base is not None and isinstance(data, np.ndarray) \\\n",
      "\n"
     ]
    },
    {
     "name": "stdout",
     "output_type": "stream",
     "text": [
      "\r",
      " 56%|█████▌    | 28/50 [08:57<11:14, 30.67s/it, best loss: 484432.2250295139]"
     ]
    },
    {
     "name": "stderr",
     "output_type": "stream",
     "text": [
      "/home/javier/Documents/FIUBA/Datos/.venv/lib/python3.7/site-packages/xgboost/core.py:587: FutureWarning: Series.base is deprecated and will be removed in a future version\n",
      "  if getattr(data, 'base', None) is not None and \\\n",
      "\n",
      "/home/javier/Documents/FIUBA/Datos/.venv/lib/python3.7/site-packages/xgboost/core.py:588: FutureWarning: Series.base is deprecated and will be removed in a future version\n",
      "  data.base is not None and isinstance(data, np.ndarray) \\\n",
      "\n"
     ]
    },
    {
     "name": "stdout",
     "output_type": "stream",
     "text": [
      "\r",
      " 58%|█████▊    | 29/50 [09:53<13:23, 38.26s/it, best loss: 484432.2250295139]"
     ]
    },
    {
     "name": "stderr",
     "output_type": "stream",
     "text": [
      "/home/javier/Documents/FIUBA/Datos/.venv/lib/python3.7/site-packages/xgboost/core.py:587: FutureWarning: Series.base is deprecated and will be removed in a future version\n",
      "  if getattr(data, 'base', None) is not None and \\\n",
      "\n",
      "/home/javier/Documents/FIUBA/Datos/.venv/lib/python3.7/site-packages/xgboost/core.py:588: FutureWarning: Series.base is deprecated and will be removed in a future version\n",
      "  data.base is not None and isinstance(data, np.ndarray) \\\n",
      "\n"
     ]
    },
    {
     "name": "stdout",
     "output_type": "stream",
     "text": [
      "\r",
      " 60%|██████    | 30/50 [10:54<15:01, 45.05s/it, best loss: 481652.43170746526]"
     ]
    },
    {
     "name": "stderr",
     "output_type": "stream",
     "text": [
      "/home/javier/Documents/FIUBA/Datos/.venv/lib/python3.7/site-packages/xgboost/core.py:587: FutureWarning: Series.base is deprecated and will be removed in a future version\n",
      "  if getattr(data, 'base', None) is not None and \\\n",
      "\n",
      "/home/javier/Documents/FIUBA/Datos/.venv/lib/python3.7/site-packages/xgboost/core.py:588: FutureWarning: Series.base is deprecated and will be removed in a future version\n",
      "  data.base is not None and isinstance(data, np.ndarray) \\\n",
      "\n"
     ]
    },
    {
     "name": "stdout",
     "output_type": "stream",
     "text": [
      "\r",
      " 62%|██████▏   | 31/50 [12:11<17:16, 54.58s/it, best loss: 481652.43170746526]"
     ]
    },
    {
     "name": "stderr",
     "output_type": "stream",
     "text": [
      "/home/javier/Documents/FIUBA/Datos/.venv/lib/python3.7/site-packages/xgboost/core.py:587: FutureWarning: Series.base is deprecated and will be removed in a future version\n",
      "  if getattr(data, 'base', None) is not None and \\\n",
      "\n",
      "/home/javier/Documents/FIUBA/Datos/.venv/lib/python3.7/site-packages/xgboost/core.py:588: FutureWarning: Series.base is deprecated and will be removed in a future version\n",
      "  data.base is not None and isinstance(data, np.ndarray) \\\n",
      "\n"
     ]
    },
    {
     "name": "stdout",
     "output_type": "stream",
     "text": [
      "\r",
      " 64%|██████▍   | 32/50 [12:52<15:08, 50.49s/it, best loss: 481652.43170746526]"
     ]
    },
    {
     "name": "stderr",
     "output_type": "stream",
     "text": [
      "/home/javier/Documents/FIUBA/Datos/.venv/lib/python3.7/site-packages/xgboost/core.py:587: FutureWarning: Series.base is deprecated and will be removed in a future version\n",
      "  if getattr(data, 'base', None) is not None and \\\n",
      "\n",
      "/home/javier/Documents/FIUBA/Datos/.venv/lib/python3.7/site-packages/xgboost/core.py:588: FutureWarning: Series.base is deprecated and will be removed in a future version\n",
      "  data.base is not None and isinstance(data, np.ndarray) \\\n",
      "\n"
     ]
    },
    {
     "name": "stdout",
     "output_type": "stream",
     "text": [
      "\r",
      " 66%|██████▌   | 33/50 [14:00<15:50, 55.89s/it, best loss: 481652.43170746526]"
     ]
    },
    {
     "name": "stderr",
     "output_type": "stream",
     "text": [
      "/home/javier/Documents/FIUBA/Datos/.venv/lib/python3.7/site-packages/xgboost/core.py:587: FutureWarning: Series.base is deprecated and will be removed in a future version\n",
      "  if getattr(data, 'base', None) is not None and \\\n",
      "\n",
      "/home/javier/Documents/FIUBA/Datos/.venv/lib/python3.7/site-packages/xgboost/core.py:588: FutureWarning: Series.base is deprecated and will be removed in a future version\n",
      "  data.base is not None and isinstance(data, np.ndarray) \\\n",
      "\n"
     ]
    },
    {
     "name": "stdout",
     "output_type": "stream",
     "text": [
      "\r",
      " 68%|██████▊   | 34/50 [14:36<13:18, 49.93s/it, best loss: 481652.43170746526]"
     ]
    },
    {
     "name": "stderr",
     "output_type": "stream",
     "text": [
      "/home/javier/Documents/FIUBA/Datos/.venv/lib/python3.7/site-packages/xgboost/core.py:587: FutureWarning: Series.base is deprecated and will be removed in a future version\n",
      "  if getattr(data, 'base', None) is not None and \\\n",
      "\n",
      "/home/javier/Documents/FIUBA/Datos/.venv/lib/python3.7/site-packages/xgboost/core.py:588: FutureWarning: Series.base is deprecated and will be removed in a future version\n",
      "  data.base is not None and isinstance(data, np.ndarray) \\\n",
      "\n"
     ]
    },
    {
     "name": "stdout",
     "output_type": "stream",
     "text": [
      "\r",
      " 70%|███████   | 35/50 [15:05<10:51, 43.46s/it, best loss: 481652.43170746526]"
     ]
    },
    {
     "name": "stderr",
     "output_type": "stream",
     "text": [
      "/home/javier/Documents/FIUBA/Datos/.venv/lib/python3.7/site-packages/xgboost/core.py:587: FutureWarning: Series.base is deprecated and will be removed in a future version\n",
      "  if getattr(data, 'base', None) is not None and \\\n",
      "\n",
      "/home/javier/Documents/FIUBA/Datos/.venv/lib/python3.7/site-packages/xgboost/core.py:588: FutureWarning: Series.base is deprecated and will be removed in a future version\n",
      "  data.base is not None and isinstance(data, np.ndarray) \\\n",
      "\n"
     ]
    },
    {
     "name": "stdout",
     "output_type": "stream",
     "text": [
      "\r",
      " 72%|███████▏  | 36/50 [15:24<08:25, 36.13s/it, best loss: 481652.43170746526]"
     ]
    },
    {
     "name": "stderr",
     "output_type": "stream",
     "text": [
      "/home/javier/Documents/FIUBA/Datos/.venv/lib/python3.7/site-packages/xgboost/core.py:587: FutureWarning: Series.base is deprecated and will be removed in a future version\n",
      "  if getattr(data, 'base', None) is not None and \\\n",
      "\n",
      "/home/javier/Documents/FIUBA/Datos/.venv/lib/python3.7/site-packages/xgboost/core.py:588: FutureWarning: Series.base is deprecated and will be removed in a future version\n",
      "  data.base is not None and isinstance(data, np.ndarray) \\\n",
      "\n"
     ]
    },
    {
     "name": "stdout",
     "output_type": "stream",
     "text": [
      "\r",
      " 74%|███████▍  | 37/50 [16:17<08:57, 41.35s/it, best loss: 481494.25492100697]"
     ]
    },
    {
     "name": "stderr",
     "output_type": "stream",
     "text": [
      "/home/javier/Documents/FIUBA/Datos/.venv/lib/python3.7/site-packages/xgboost/core.py:587: FutureWarning: Series.base is deprecated and will be removed in a future version\n",
      "  if getattr(data, 'base', None) is not None and \\\n",
      "\n",
      "/home/javier/Documents/FIUBA/Datos/.venv/lib/python3.7/site-packages/xgboost/core.py:588: FutureWarning: Series.base is deprecated and will be removed in a future version\n",
      "  data.base is not None and isinstance(data, np.ndarray) \\\n",
      "\n"
     ]
    },
    {
     "name": "stdout",
     "output_type": "stream",
     "text": [
      "\r",
      " 76%|███████▌  | 38/50 [17:10<08:57, 44.79s/it, best loss: 481494.25492100697]"
     ]
    },
    {
     "name": "stderr",
     "output_type": "stream",
     "text": [
      "/home/javier/Documents/FIUBA/Datos/.venv/lib/python3.7/site-packages/xgboost/core.py:587: FutureWarning: Series.base is deprecated and will be removed in a future version\n",
      "  if getattr(data, 'base', None) is not None and \\\n",
      "\n",
      "/home/javier/Documents/FIUBA/Datos/.venv/lib/python3.7/site-packages/xgboost/core.py:588: FutureWarning: Series.base is deprecated and will be removed in a future version\n",
      "  data.base is not None and isinstance(data, np.ndarray) \\\n",
      "\n"
     ]
    },
    {
     "name": "stdout",
     "output_type": "stream",
     "text": [
      "\r",
      " 78%|███████▊  | 39/50 [17:44<07:38, 41.66s/it, best loss: 481494.25492100697]"
     ]
    },
    {
     "name": "stderr",
     "output_type": "stream",
     "text": [
      "/home/javier/Documents/FIUBA/Datos/.venv/lib/python3.7/site-packages/xgboost/core.py:587: FutureWarning: Series.base is deprecated and will be removed in a future version\n",
      "  if getattr(data, 'base', None) is not None and \\\n",
      "\n",
      "/home/javier/Documents/FIUBA/Datos/.venv/lib/python3.7/site-packages/xgboost/core.py:588: FutureWarning: Series.base is deprecated and will be removed in a future version\n",
      "  data.base is not None and isinstance(data, np.ndarray) \\\n",
      "\n"
     ]
    },
    {
     "name": "stdout",
     "output_type": "stream",
     "text": [
      "\r",
      " 80%|████████  | 40/50 [18:36<07:27, 44.71s/it, best loss: 481494.25492100697]"
     ]
    },
    {
     "name": "stderr",
     "output_type": "stream",
     "text": [
      "/home/javier/Documents/FIUBA/Datos/.venv/lib/python3.7/site-packages/xgboost/core.py:587: FutureWarning: Series.base is deprecated and will be removed in a future version\n",
      "  if getattr(data, 'base', None) is not None and \\\n",
      "\n",
      "/home/javier/Documents/FIUBA/Datos/.venv/lib/python3.7/site-packages/xgboost/core.py:588: FutureWarning: Series.base is deprecated and will be removed in a future version\n",
      "  data.base is not None and isinstance(data, np.ndarray) \\\n",
      "\n"
     ]
    },
    {
     "name": "stdout",
     "output_type": "stream",
     "text": [
      "\r",
      " 82%|████████▏ | 41/50 [19:15<06:26, 42.98s/it, best loss: 481494.25492100697]"
     ]
    },
    {
     "name": "stderr",
     "output_type": "stream",
     "text": [
      "/home/javier/Documents/FIUBA/Datos/.venv/lib/python3.7/site-packages/xgboost/core.py:587: FutureWarning: Series.base is deprecated and will be removed in a future version\n",
      "  if getattr(data, 'base', None) is not None and \\\n",
      "\n",
      "/home/javier/Documents/FIUBA/Datos/.venv/lib/python3.7/site-packages/xgboost/core.py:588: FutureWarning: Series.base is deprecated and will be removed in a future version\n",
      "  data.base is not None and isinstance(data, np.ndarray) \\\n",
      "\n"
     ]
    },
    {
     "name": "stdout",
     "output_type": "stream",
     "text": [
      "\r",
      " 84%|████████▍ | 42/50 [19:50<05:24, 40.57s/it, best loss: 481494.25492100697]"
     ]
    },
    {
     "name": "stderr",
     "output_type": "stream",
     "text": [
      "/home/javier/Documents/FIUBA/Datos/.venv/lib/python3.7/site-packages/xgboost/core.py:587: FutureWarning: Series.base is deprecated and will be removed in a future version\n",
      "  if getattr(data, 'base', None) is not None and \\\n",
      "\n",
      "/home/javier/Documents/FIUBA/Datos/.venv/lib/python3.7/site-packages/xgboost/core.py:588: FutureWarning: Series.base is deprecated and will be removed in a future version\n",
      "  data.base is not None and isinstance(data, np.ndarray) \\\n",
      "\n"
     ]
    },
    {
     "name": "stdout",
     "output_type": "stream",
     "text": [
      "\r",
      " 86%|████████▌ | 43/50 [20:27<04:35, 39.39s/it, best loss: 481494.25492100697]"
     ]
    },
    {
     "name": "stderr",
     "output_type": "stream",
     "text": [
      "/home/javier/Documents/FIUBA/Datos/.venv/lib/python3.7/site-packages/xgboost/core.py:587: FutureWarning: Series.base is deprecated and will be removed in a future version\n",
      "  if getattr(data, 'base', None) is not None and \\\n",
      "\n",
      "/home/javier/Documents/FIUBA/Datos/.venv/lib/python3.7/site-packages/xgboost/core.py:588: FutureWarning: Series.base is deprecated and will be removed in a future version\n",
      "  data.base is not None and isinstance(data, np.ndarray) \\\n",
      "\n"
     ]
    },
    {
     "name": "stdout",
     "output_type": "stream",
     "text": [
      "\r",
      " 88%|████████▊ | 44/50 [21:05<03:54, 39.10s/it, best loss: 481494.25492100697]"
     ]
    },
    {
     "name": "stderr",
     "output_type": "stream",
     "text": [
      "/home/javier/Documents/FIUBA/Datos/.venv/lib/python3.7/site-packages/xgboost/core.py:587: FutureWarning: Series.base is deprecated and will be removed in a future version\n",
      "  if getattr(data, 'base', None) is not None and \\\n",
      "\n",
      "/home/javier/Documents/FIUBA/Datos/.venv/lib/python3.7/site-packages/xgboost/core.py:588: FutureWarning: Series.base is deprecated and will be removed in a future version\n",
      "  data.base is not None and isinstance(data, np.ndarray) \\\n",
      "\n"
     ]
    },
    {
     "name": "stdout",
     "output_type": "stream",
     "text": [
      "\r",
      " 90%|█████████ | 45/50 [21:28<02:51, 34.21s/it, best loss: 481494.25492100697]"
     ]
    },
    {
     "name": "stderr",
     "output_type": "stream",
     "text": [
      "/home/javier/Documents/FIUBA/Datos/.venv/lib/python3.7/site-packages/xgboost/core.py:587: FutureWarning: Series.base is deprecated and will be removed in a future version\n",
      "  if getattr(data, 'base', None) is not None and \\\n",
      "\n",
      "/home/javier/Documents/FIUBA/Datos/.venv/lib/python3.7/site-packages/xgboost/core.py:588: FutureWarning: Series.base is deprecated and will be removed in a future version\n",
      "  data.base is not None and isinstance(data, np.ndarray) \\\n",
      "\n"
     ]
    },
    {
     "name": "stdout",
     "output_type": "stream",
     "text": [
      "\r",
      " 92%|█████████▏| 46/50 [22:10<02:25, 36.44s/it, best loss: 481494.25492100697]"
     ]
    },
    {
     "name": "stderr",
     "output_type": "stream",
     "text": [
      "/home/javier/Documents/FIUBA/Datos/.venv/lib/python3.7/site-packages/xgboost/core.py:587: FutureWarning: Series.base is deprecated and will be removed in a future version\n",
      "  if getattr(data, 'base', None) is not None and \\\n",
      "\n",
      "/home/javier/Documents/FIUBA/Datos/.venv/lib/python3.7/site-packages/xgboost/core.py:588: FutureWarning: Series.base is deprecated and will be removed in a future version\n",
      "  data.base is not None and isinstance(data, np.ndarray) \\\n",
      "\n"
     ]
    },
    {
     "name": "stdout",
     "output_type": "stream",
     "text": [
      "\r",
      " 94%|█████████▍| 47/50 [22:18<01:24, 28.15s/it, best loss: 481494.25492100697]"
     ]
    },
    {
     "name": "stderr",
     "output_type": "stream",
     "text": [
      "/home/javier/Documents/FIUBA/Datos/.venv/lib/python3.7/site-packages/xgboost/core.py:587: FutureWarning: Series.base is deprecated and will be removed in a future version\n",
      "  if getattr(data, 'base', None) is not None and \\\n",
      "\n",
      "/home/javier/Documents/FIUBA/Datos/.venv/lib/python3.7/site-packages/xgboost/core.py:588: FutureWarning: Series.base is deprecated and will be removed in a future version\n",
      "  data.base is not None and isinstance(data, np.ndarray) \\\n",
      "\n"
     ]
    },
    {
     "name": "stdout",
     "output_type": "stream",
     "text": [
      "\r",
      " 96%|█████████▌| 48/50 [23:03<01:06, 33.02s/it, best loss: 481494.25492100697]"
     ]
    },
    {
     "name": "stderr",
     "output_type": "stream",
     "text": [
      "/home/javier/Documents/FIUBA/Datos/.venv/lib/python3.7/site-packages/xgboost/core.py:587: FutureWarning: Series.base is deprecated and will be removed in a future version\n",
      "  if getattr(data, 'base', None) is not None and \\\n",
      "\n",
      "/home/javier/Documents/FIUBA/Datos/.venv/lib/python3.7/site-packages/xgboost/core.py:588: FutureWarning: Series.base is deprecated and will be removed in a future version\n",
      "  data.base is not None and isinstance(data, np.ndarray) \\\n",
      "\n"
     ]
    },
    {
     "name": "stdout",
     "output_type": "stream",
     "text": [
      "\r",
      " 98%|█████████▊| 49/50 [24:07<00:42, 42.54s/it, best loss: 481494.25492100697]"
     ]
    },
    {
     "name": "stderr",
     "output_type": "stream",
     "text": [
      "/home/javier/Documents/FIUBA/Datos/.venv/lib/python3.7/site-packages/xgboost/core.py:587: FutureWarning: Series.base is deprecated and will be removed in a future version\n",
      "  if getattr(data, 'base', None) is not None and \\\n",
      "\n",
      "/home/javier/Documents/FIUBA/Datos/.venv/lib/python3.7/site-packages/xgboost/core.py:588: FutureWarning: Series.base is deprecated and will be removed in a future version\n",
      "  data.base is not None and isinstance(data, np.ndarray) \\\n",
      "\n"
     ]
    },
    {
     "name": "stdout",
     "output_type": "stream",
     "text": [
      "100%|██████████| 50/50 [24:48<00:00, 29.77s/it, best loss: 481494.25492100697]\n"
     ]
    },
    {
     "data": {
      "text/plain": [
       "{'alpha': 19.99916025229205,\n",
       " 'colsample_bytree': 0.65,\n",
       " 'learning_rate': 0.15,\n",
       " 'max_depth': 20.0,\n",
       " 'n_estimators': 90.0,\n",
       " 'test_size': 0.1}"
      ]
     },
     "metadata": {},
     "output_type": "display_data"
    }
   ],
   "source": [
    "def xgb_eval(args):\n",
    "    \n",
    "    # Modelo - Ver hiperparametros\n",
    "    colsample_bytree, learning_rate, max_depth, alpha, n_estimators, test_size = args\n",
    "    \n",
    "    # Preparacion de los datos\n",
    "    x_train, x_test, y_train, y_test = utils.dividir_dataset(df_XGBoost, 'precio', features, test_size=test_size)\n",
    "    \n",
    "    x_eval = df_eval.drop('precio', axis=1)\n",
    "    y_eval = df_eval['precio']\n",
    "    \n",
    "    xg_train = xgb.DMatrix(x_train, label=y_train)\n",
    "    xg_test = xgb.DMatrix(x_test, label=y_test)\n",
    "    dfg_test = xgb.DMatrix(x_eval, label = y_eval)\n",
    "\n",
    "    max_depth = int(max_depth)\n",
    "    n_estimators = int(n_estimators)\n",
    "    params = {\n",
    "        'objective':'reg:squarederror', \n",
    "        'colsample_bytree' : colsample_bytree , \n",
    "        'learning_rate' : learning_rate,\n",
    "        'max_depth' : max_depth, \n",
    "        'alpha' : alpha,\n",
    "        'n_estimators' : n_estimators,\n",
    "        'eval_metric': 'mae'\n",
    "    }\n",
    "\n",
    "    watchlist = [(xg_train, 'train'), (xg_test, 'test')]\n",
    "    num_round = 25\n",
    "    \n",
    "    xg_reg = xgb.train(params, \n",
    "                    xg_train, \n",
    "                    num_round, \n",
    "#                     watchlist\n",
    "                   )\n",
    "\n",
    "    y_pred_eval = xg_reg.predict(dfg_test)\n",
    "    y_pred_test = xg_reg.predict(xg_test)\n",
    "    return utils.MAE(y_eval, y_pred_eval)\n",
    "\n",
    "space = [hp.quniform('colsample_bytree', 0.3, 1, 0.05), hp.quniform('learning_rate', 0.01, 0.15, 0.01),\n",
    "         hp.quniform(\"max_depth\", 1, 20, 1),hp.uniform(\"alpha\", 0.01, 30),\n",
    "        hp.quniform(\"n_estimators\", 100, 600, 30), hp.quniform(\"test_size\", 0.1, 0.4, 0.05)]\n",
    "\n",
    "hps = fmin(xgb_eval, space=space, algo=tpe.suggest, max_evals=50)\n",
    "\n",
    "display(hps)"
   ]
  },
  {
   "cell_type": "markdown",
   "metadata": {},
   "source": [
    "### Busco los mejores features"
   ]
  },
  {
   "cell_type": "code",
   "execution_count": null,
   "metadata": {},
   "outputs": [],
   "source": [
    "features = ['antiguedad', 'habitaciones', 'garages', 'banos',\n",
    "       'metroscubiertos', 'metrostotales', \n",
    "            # 'lat', 'lng',\n",
    "       'gimnasio', 'usosmultiples', 'piscina', 'escuelascercanas', 'centroscomercialescercanos']\n",
    "\n",
    "features_test = ['tipo_propiedad_compartida',\n",
    "                 'prop_frecuente', 'top_provincia', 'es_ciudad_centrica',\n",
    "                 'promedio_metros_totales_provincia',\n",
    "                 'promedio_metros_cubiertos_provincia', 'porcentaje_metros',\n",
    "                 'diferencia_metros', 'delincuencia', 'turismo',\n",
    "                 'promedio_precio_ciudad', 'promedio_id_zona',\n",
    "                 'promedio_precio_tipo_propiedad','es_antigua',\n",
    "                 'promedio_por_mes', 'promedio_precio_habitaciones',\n",
    "                 'promedio_precio_habitaciones_banos_garages','cantidad_inquilinos',\n",
    "                 'promedio_precio_banos_garages', 'promedio_precio_booleanos',\n",
    "                 'metros_totales_normalizados', 'metros_cubiertos_normalizados','escomercial',\n",
    "                 'promedio_metros_cub_tipo_propiedad', 'anio', 'mes', 'dia','trimestre']\n"
   ]
  },
  {
   "cell_type": "code",
   "execution_count": null,
   "metadata": {
    "scrolled": false
   },
   "outputs": [],
   "source": [
    "hps = {'alpha': 9.499855511978337,\n",
    " 'colsample_bytree': 0.8500000000000001,\n",
    " 'learning_rate': 0.2226513740962932,\n",
    " 'max_depth': 20.0,\n",
    " 'n_estimators': 240.0,\n",
    " 'test_size': 0.103950169925154826\n",
    "}\n",
    "\n",
    "alpha = hps['alpha']\n",
    "colsample_bytree = hps['colsample_bytree']\n",
    "max_depth = hps['max_depth']\n",
    "learning_rate = hps['learning_rate']\n",
    "n_estimators = hps['n_estimators']\n",
    "\n",
    "n_estimators = int(hps['n_estimators'])\n",
    "max_depth = int(hps['max_depth'])\n",
    "\n",
    "params = {\n",
    "        'objective':'reg:squarederror', \n",
    "        'colsample_bytree' : colsample_bytree , \n",
    "        'learning_rate' : learning_rate,\n",
    "        'max_depth' : max_depth, \n",
    "        'alpha' : alpha,\n",
    "        'n_estimators' : n_estimators,\n",
    "        'eval_metric': 'mae'\n",
    "}\n",
    "\n",
    "\n",
    "base_train = 0\n",
    "base_test = 0\n",
    "base_eval = 0\n",
    "for i in ['None'] + features_test:\n",
    "    x_train, x_test, y_train, y_test = utils.dividir_dataset(df_train_f, 'precio', features + [i])\n",
    "\n",
    "    xg_train = xgb.DMatrix(x_train, label=y_train)\n",
    "    xg_test = xgb.DMatrix(x_test, label=y_test)\n",
    "    xg_train = xgb.DMatrix(x_train, label=y_train)\n",
    "    xg_test = xgb.DMatrix(x_test, label=y_test)\n",
    "\n",
    "    watchlist = [(xg_train, 'train'), (xg_test, 'test')]\n",
    "    num_round = 10\n",
    "    \n",
    "    xg_reg = xgb.train(params, \n",
    "                    xg_train, \n",
    "                    num_round, \n",
    "                    watchlist\n",
    "                   )\n",
    "    \n",
    "    x_train_predict = xgb.DMatrix(x_train, label=y_train)\n",
    "    x_test_predict = xgb.DMatrix(x_test, label=y_test)\n",
    "    x_eval_predict = xgb.DMatrix(utils.filtrar_features(df_eval, features + [i]))\n",
    "    \n",
    "    y_pred_test = xg_reg.predict(x_test_predict)\n",
    "    y_pred_train = xg_reg.predict(x_train_predict)\n",
    "    y_pred_eval = xg_reg.predict(x_eval_predict)\n",
    "\n",
    "    xgb_mae_train = utils.MAE(y_train, y_pred_train)\n",
    "    xgb_mae = utils.MAE(y_test, y_pred_test)\n",
    "    xgb_mae_eval = utils.MAE(df_eval['precio'].values, y_pred_eval)\n",
    "\n",
    "    print(f\"MAE LightGBM (train): {xgb_mae_train:.5f}\")\n",
    "    print(f\"MAE LightGBM (test): {xgb_mae:.5f}\")\n",
    "    print(f\"MAE LightGBM (eval): {xgb_mae_eval:.5f}\")\n",
    "    if i is not 'None':\n",
    "        print(f\"Overfitting (base_eval - base_test) - (eval - test) - {i}: {(base_eval - base_test) - (xgb_mae_eval - xgb_mae)}\")\n",
    "        print(f\"Diff evaluation (base_eval - eval)                  - {i}: {base_eval - xgb_mae_eval}\")\n",
    "        print(f\"Diff train (base_train - train)                     - {i}: {base_train - xgb_mae_train}\")\n",
    "    else:\n",
    "        base_train = xgb_mae_train\n",
    "        base_test = xgb_mae\n",
    "        base_eval = xgb_mae_eval\n"
   ]
  },
  {
   "cell_type": "markdown",
   "metadata": {},
   "source": [
    "## Predicción"
   ]
  },
  {
   "cell_type": "code",
   "execution_count": 8,
   "metadata": {
    "scrolled": false
   },
   "outputs": [
    {
     "name": "stderr",
     "output_type": "stream",
     "text": [
      "/home/javier/Documents/FIUBA/Datos/.venv/lib/python3.7/site-packages/xgboost/core.py:587: FutureWarning: Series.base is deprecated and will be removed in a future version\n",
      "  if getattr(data, 'base', None) is not None and \\\n",
      "/home/javier/Documents/FIUBA/Datos/.venv/lib/python3.7/site-packages/xgboost/core.py:588: FutureWarning: Series.base is deprecated and will be removed in a future version\n",
      "  data.base is not None and isinstance(data, np.ndarray) \\\n"
     ]
    },
    {
     "name": "stdout",
     "output_type": "stream",
     "text": [
      "[0]\ttrain-mae:2.16263e+06\ttest-mae:2.18108e+06\n",
      "[1]\ttrain-mae:1.84763e+06\ttest-mae:1.86739e+06\n",
      "[2]\ttrain-mae:1.58015e+06\ttest-mae:1.60335e+06\n",
      "[3]\ttrain-mae:1.35271e+06\ttest-mae:1.38282e+06\n",
      "[4]\ttrain-mae:1.1596e+06\ttest-mae:1.19971e+06\n",
      "[5]\ttrain-mae:996237\ttest-mae:1.05124e+06\n",
      "[6]\ttrain-mae:857518\ttest-mae:930787\n",
      "[7]\ttrain-mae:738939\ttest-mae:833015\n",
      "[8]\ttrain-mae:638519\ttest-mae:755706\n",
      "[9]\ttrain-mae:552710\ttest-mae:694137\n",
      "[10]\ttrain-mae:479926\ttest-mae:647447\n",
      "[11]\ttrain-mae:417837\ttest-mae:610690\n",
      "[12]\ttrain-mae:364434\ttest-mae:581549\n",
      "[13]\ttrain-mae:318952\ttest-mae:559763\n",
      "[14]\ttrain-mae:279914\ttest-mae:542763\n",
      "[15]\ttrain-mae:246921\ttest-mae:530034\n",
      "[16]\ttrain-mae:218572\ttest-mae:519891\n",
      "[17]\ttrain-mae:194438\ttest-mae:512738\n",
      "[18]\ttrain-mae:173315\ttest-mae:506899\n",
      "[19]\ttrain-mae:155467\ttest-mae:502224\n",
      "[20]\ttrain-mae:140111\ttest-mae:498859\n",
      "[21]\ttrain-mae:126857\ttest-mae:496404\n",
      "[22]\ttrain-mae:115677\ttest-mae:494486\n",
      "[23]\ttrain-mae:105637\ttest-mae:492864\n",
      "[24]\ttrain-mae:96929.6\ttest-mae:491596\n",
      "[25]\ttrain-mae:89376.7\ttest-mae:490559\n",
      "[26]\ttrain-mae:82796.2\ttest-mae:489663\n",
      "[27]\ttrain-mae:76818.8\ttest-mae:489055\n",
      "[28]\ttrain-mae:71591\ttest-mae:488487\n",
      "[29]\ttrain-mae:66999.1\ttest-mae:488180\n",
      "[30]\ttrain-mae:62708.3\ttest-mae:487752\n",
      "[31]\ttrain-mae:58712.6\ttest-mae:487477\n",
      "[32]\ttrain-mae:55806\ttest-mae:487277\n",
      "[33]\ttrain-mae:52335.5\ttest-mae:487047\n",
      "[34]\ttrain-mae:49871.4\ttest-mae:486847\n",
      "[35]\ttrain-mae:47345.2\ttest-mae:486569\n",
      "[36]\ttrain-mae:45070.3\ttest-mae:486406\n",
      "[37]\ttrain-mae:42884.3\ttest-mae:486288\n",
      "[38]\ttrain-mae:40695.2\ttest-mae:486226\n",
      "[39]\ttrain-mae:38871.9\ttest-mae:486133\n",
      "[40]\ttrain-mae:37097.5\ttest-mae:486118\n",
      "[41]\ttrain-mae:35534.5\ttest-mae:486072\n",
      "[42]\ttrain-mae:33988\ttest-mae:485939\n",
      "[43]\ttrain-mae:32317.2\ttest-mae:485840\n",
      "[44]\ttrain-mae:30979.9\ttest-mae:485771\n",
      "[45]\ttrain-mae:29831.1\ttest-mae:485704\n",
      "[46]\ttrain-mae:28775\ttest-mae:485650\n",
      "[47]\ttrain-mae:27663\ttest-mae:485617\n",
      "[48]\ttrain-mae:26811.7\ttest-mae:485582\n",
      "[49]\ttrain-mae:25769\ttest-mae:485525\n",
      "MAE (train): 25769.01166\n",
      "MAE: 485525.17163\n",
      "MAE (eval): 476124.34970\n"
     ]
    }
   ],
   "source": [
    "features = ['antiguedad', 'habitaciones', 'garages', 'banos',\n",
    "       'metroscubiertos', 'metrostotales', \n",
    "            'lat', 'lng',\n",
    "       'gimnasio', 'usosmultiples', 'piscina', 'escuelascercanas', 'centroscomercialescercanos']\n",
    "\n",
    "features_test = ['prop_frecuente', 'top_provincia', 'porcentaje_metros', 'diferencia_metros', 'promedio_precio_ciudad', \n",
    "                 'promedio_por_mes', 'anio', 'promedio_id_zona', 'promedio_precio_tipo_propiedad', \n",
    "                 'promedio_precio_hbg_tipo_propiedad', 'count_id_zona', 'count_ciudad', 'puntaje', \n",
    "                 'count_tipo_propiedad', 'count_tipo_propiedad_ciudad', \n",
    "                 'promedio_precio_tipo_propiedad_ciudad_gen', 'promedio_precio_hbg_tipo_propiedad_provincia',\n",
    "                 'varianza_id_zona', 'tam_ambientes', 'metros_cubiertos_normalizados', 'dias_desde_datos',\n",
    "                 'meses_desde_datos', 'promedio_id_zona_log']\n",
    "\n",
    "features += features_test\n",
    "\n",
    "features += cols_tipodepropiedad_ohe + cols_provincia_ohe + cols_zona_ohe\n",
    "\n",
    "# Preparación hiperparámetros\n",
    "\n",
    "# hps = {'alpha': 12.338515720263425,\n",
    "#  'colsample_bytree': 0.8500000000000001,\n",
    "#  'learning_rate': 0.15,\n",
    "#  'max_depth': 17.0,\n",
    "#  'n_estimators': 300.0,\n",
    "#  'test_size': 0.15000000000000002}\n",
    "\n",
    "hps = {'alpha': 19.99916025229205,\n",
    " 'colsample_bytree': 0.65,\n",
    " 'learning_rate': 0.15,\n",
    " 'max_depth': int(20.0),\n",
    " 'n_estimators': int(90.0),\n",
    " 'test_size': 0.1}\n",
    "\n",
    "alpha = hps['alpha']\n",
    "colsample_bytree = hps['colsample_bytree']\n",
    "max_depth = hps['max_depth']\n",
    "learning_rate = hps['learning_rate']\n",
    "n_estimators = hps['n_estimators']\n",
    "test_size = hps['test_size']\n",
    "\n",
    "n_estimators = int(hps['n_estimators'])\n",
    "max_depth = int(hps['max_depth'])\n",
    "\n",
    "\n",
    "# Preparacion de los datos\n",
    "x_train, x_test, y_train, y_test = utils.dividir_dataset(df_XGBoost, 'precio', features, test_size=test_size)\n",
    "\n",
    "x_eval = df_eval.drop('precio', axis=1)\n",
    "y_eval = df_eval['precio']\n",
    "\n",
    "xg_train = xgb.DMatrix(x_train, label=y_train)\n",
    "xg_test = xgb.DMatrix(x_test, label=y_test)\n",
    "dfg_test = xgb.DMatrix(x_eval, label = y_eval)\n",
    "\n",
    "\n",
    "params = {\n",
    "    'objective':'reg:squarederror', \n",
    "    'colsample_bytree' : colsample_bytree , \n",
    "    'learning_rate' : learning_rate,\n",
    "    'max_depth' : max_depth, \n",
    "    'alpha' : alpha,\n",
    "    'n_estimators' : n_estimators,\n",
    "    'eval_metric': 'mae'\n",
    "}\n",
    "\n",
    "watchlist = [(xg_train, 'train'), (xg_test, 'test')]\n",
    "\n",
    "# Entrenamiento\n",
    "xg_reg = xgb.train(params, \n",
    "                   xg_train, \n",
    "                   num_boost_round=50,\n",
    "                   evals=watchlist)\n",
    "\n",
    "# Prediccion\n",
    "y_pred_train = xg_reg.predict(xg_train)\n",
    "y_pred_test = xg_reg.predict(xg_test)\n",
    "\n",
    "\n",
    "linear_mae_train = utils.MAE(y_train, y_pred_train)\n",
    "linear_mae = utils.MAE(y_test, y_pred_test)\n",
    "\n",
    "y_pred_eval = xg_reg.predict(dfg_test)\n",
    "linear_mae_eval = utils.MAE(y_eval, y_pred_eval)\n",
    "\n",
    "\n",
    "print(f\"MAE (train): {linear_mae_train:.5f}\")\n",
    "print(f\"MAE: {linear_mae:.5f}\")\n",
    "print(f\"MAE (eval): {linear_mae_eval:.5f}\")\n"
   ]
  },
  {
   "cell_type": "markdown",
   "metadata": {},
   "source": [
    "## Predicción final"
   ]
  },
  {
   "cell_type": "code",
   "execution_count": 4,
   "metadata": {},
   "outputs": [],
   "source": [
    "df_train_final = pd.read_csv('./data/train.csv')\n",
    "df_test_final = pd.read_csv('./data/test.csv')\n",
    "\n",
    "df_train_final = features.llenar_nulls(df_train_final)\n",
    "df_test_final = features.llenar_nulls(df_test_final)\n",
    "\n",
    "df_train_final_f = features.features_independientes_precio(df_train_final)\n",
    "df_train_final_f = features.features_dependientes_precio(df_train_final_f, df_train_final)\n",
    "df_test_final_f = features.features_independientes_precio(df_test_final)\n",
    "df_test_final_f = features.features_dependientes_precio(df_test_final_f, df_train_final)\n",
    "\n",
    "df_test_final_f, cols_tipodepropiedad_ohe = features.columna_a_ohe(df_test_final_f, 'tipodepropiedad', N=100, df_aux=df_train_final, devolver_cols=True)\n",
    "df_test_final_f, cols_provincia_ohe = features.columna_a_ohe(df_test_final_f, 'provincia', N=100, df_aux=df_train_final, devolver_cols=True)\n",
    "df_test_final_f, cols_zona_ohe = features.columna_a_ohe(df_test_final_f, 'zona', df_aux=df_train_final_f, devolver_cols=True)\n",
    "\n",
    "df_train_final_f = features.columna_a_ohe(df_train_final_f, 'tipodepropiedad', N=100, df_aux=df_test_final)\n",
    "df_train_final_f = features.columna_a_ohe(df_train_final_f, 'provincia', N=100, df_aux=df_test_final)\n",
    "df_train_final_f = features.columna_a_ohe(df_train_final_f, 'zona', df_aux=df_test_final_f)\n",
    "\n",
    "df_train_final_f['fecha'] = pd.to_datetime(df_train_final_f['fecha']).astype(int)\n",
    "df_test_final_f['fecha'] = pd.to_datetime(df_test_final_f['fecha']).astype(int)"
   ]
  },
  {
   "cell_type": "code",
   "execution_count": 8,
   "metadata": {
    "scrolled": false
   },
   "outputs": [
    {
     "name": "stdout",
     "output_type": "stream",
     "text": [
      "[0]\ttrain-mae:2.16798e+06\ttest-mae:2.14817e+06\n",
      "Multiple eval metrics have been passed: 'test-mae' will be used for early stopping.\n",
      "\n",
      "Will train until test-mae hasn't improved in 10 rounds.\n",
      "[1]\ttrain-mae:1.85233e+06\ttest-mae:1.83954e+06\n",
      "[2]\ttrain-mae:1.58405e+06\ttest-mae:1.57918e+06\n",
      "[3]\ttrain-mae:1.35618e+06\ttest-mae:1.36214e+06\n",
      "[4]\ttrain-mae:1.16279e+06\ttest-mae:1.18192e+06\n",
      "[5]\ttrain-mae:999053\ttest-mae:1.03559e+06\n",
      "[6]\ttrain-mae:860037\ttest-mae:917059\n",
      "[7]\ttrain-mae:741232\ttest-mae:820760\n",
      "[8]\ttrain-mae:640462\ttest-mae:744287\n",
      "[9]\ttrain-mae:554488\ttest-mae:683466\n",
      "[10]\ttrain-mae:481530\ttest-mae:636930\n",
      "[11]\ttrain-mae:419246\ttest-mae:600240\n",
      "[12]\ttrain-mae:365754\ttest-mae:571849\n",
      "[13]\ttrain-mae:320298\ttest-mae:550081\n",
      "[14]\ttrain-mae:281190\ttest-mae:533091\n",
      "[15]\ttrain-mae:248057\ttest-mae:519944\n",
      "[16]\ttrain-mae:219714\ttest-mae:510212\n",
      "[17]\ttrain-mae:195572\ttest-mae:502873\n",
      "[18]\ttrain-mae:174462\ttest-mae:496886\n",
      "[19]\ttrain-mae:156750\ttest-mae:492071\n",
      "[20]\ttrain-mae:141258\ttest-mae:488564\n",
      "[21]\ttrain-mae:127938\ttest-mae:485871\n",
      "[22]\ttrain-mae:116784\ttest-mae:483953\n",
      "[23]\ttrain-mae:106788\ttest-mae:482217\n",
      "[24]\ttrain-mae:98069.3\ttest-mae:480903\n",
      "[25]\ttrain-mae:90661.3\ttest-mae:479906\n",
      "[26]\ttrain-mae:84139.2\ttest-mae:479152\n",
      "[27]\ttrain-mae:78119.5\ttest-mae:478533\n",
      "[28]\ttrain-mae:72713.4\ttest-mae:477973\n",
      "[29]\ttrain-mae:68138\ttest-mae:477536\n",
      "[30]\ttrain-mae:63619.3\ttest-mae:477197\n",
      "[31]\ttrain-mae:59866.8\ttest-mae:476892\n",
      "[32]\ttrain-mae:56618.7\ttest-mae:476640\n",
      "[33]\ttrain-mae:53291.8\ttest-mae:476472\n",
      "[34]\ttrain-mae:50793.8\ttest-mae:476347\n",
      "[35]\ttrain-mae:48193.4\ttest-mae:476157\n",
      "[36]\ttrain-mae:45758.9\ttest-mae:475980\n",
      "[37]\ttrain-mae:43597.6\ttest-mae:475869\n",
      "[38]\ttrain-mae:41384.4\ttest-mae:475746\n",
      "[39]\ttrain-mae:39634.7\ttest-mae:475628\n",
      "[40]\ttrain-mae:38012\ttest-mae:475572\n",
      "[41]\ttrain-mae:36245.1\ttest-mae:475518\n",
      "[42]\ttrain-mae:34778.1\ttest-mae:475448\n",
      "[43]\ttrain-mae:33255.6\ttest-mae:475399\n",
      "[44]\ttrain-mae:31804.7\ttest-mae:475293\n",
      "[45]\ttrain-mae:30366.2\ttest-mae:475229\n",
      "[46]\ttrain-mae:29395.8\ttest-mae:475184\n",
      "[47]\ttrain-mae:28180.4\ttest-mae:475128\n",
      "[48]\ttrain-mae:27194\ttest-mae:475075\n",
      "[49]\ttrain-mae:26220.2\ttest-mae:475025\n",
      "[50]\ttrain-mae:25111.9\ttest-mae:474957\n",
      "[51]\ttrain-mae:24157.5\ttest-mae:474904\n",
      "[52]\ttrain-mae:23209.3\ttest-mae:474865\n",
      "[53]\ttrain-mae:22618.2\ttest-mae:474846\n",
      "[54]\ttrain-mae:22120.3\ttest-mae:474820\n",
      "[55]\ttrain-mae:21287.8\ttest-mae:474792\n",
      "[56]\ttrain-mae:20588.8\ttest-mae:474771\n",
      "[57]\ttrain-mae:20036.3\ttest-mae:474743\n",
      "[58]\ttrain-mae:19410.8\ttest-mae:474707\n",
      "[59]\ttrain-mae:18744.8\ttest-mae:474680\n",
      "[60]\ttrain-mae:18307\ttest-mae:474661\n",
      "[61]\ttrain-mae:17726.2\ttest-mae:474646\n",
      "[62]\ttrain-mae:17277\ttest-mae:474628\n",
      "[63]\ttrain-mae:16988.2\ttest-mae:474620\n",
      "[64]\ttrain-mae:16743.6\ttest-mae:474608\n",
      "[65]\ttrain-mae:16328.3\ttest-mae:474601\n",
      "[66]\ttrain-mae:16122.7\ttest-mae:474595\n",
      "[67]\ttrain-mae:15561.2\ttest-mae:474581\n",
      "[68]\ttrain-mae:15227.2\ttest-mae:474574\n",
      "[69]\ttrain-mae:14836\ttest-mae:474548\n",
      "[70]\ttrain-mae:14362.9\ttest-mae:474546\n",
      "[71]\ttrain-mae:13960.6\ttest-mae:474540\n",
      "[72]\ttrain-mae:13749.9\ttest-mae:474525\n",
      "[73]\ttrain-mae:13576.9\ttest-mae:474521\n",
      "[74]\ttrain-mae:13313.8\ttest-mae:474509\n",
      "[75]\ttrain-mae:12869.8\ttest-mae:474498\n",
      "[76]\ttrain-mae:12724.5\ttest-mae:474493\n",
      "[77]\ttrain-mae:12523.4\ttest-mae:474490\n",
      "[78]\ttrain-mae:12275.6\ttest-mae:474481\n",
      "[79]\ttrain-mae:11993.9\ttest-mae:474468\n",
      "[80]\ttrain-mae:11757.6\ttest-mae:474463\n",
      "[81]\ttrain-mae:11445.4\ttest-mae:474458\n",
      "[82]\ttrain-mae:11250.4\ttest-mae:474451\n",
      "[83]\ttrain-mae:11077.5\ttest-mae:474451\n",
      "[84]\ttrain-mae:10981.6\ttest-mae:474454\n",
      "[85]\ttrain-mae:10795.3\ttest-mae:474449\n",
      "[86]\ttrain-mae:10721\ttest-mae:474443\n",
      "[87]\ttrain-mae:10605.7\ttest-mae:474437\n",
      "[88]\ttrain-mae:10471.8\ttest-mae:474434\n",
      "[89]\ttrain-mae:10437.5\ttest-mae:474434\n",
      "[90]\ttrain-mae:10303\ttest-mae:474424\n",
      "[91]\ttrain-mae:10211\ttest-mae:474423\n",
      "[92]\ttrain-mae:10115.2\ttest-mae:474422\n",
      "[93]\ttrain-mae:9916.61\ttest-mae:474419\n",
      "[94]\ttrain-mae:9807.53\ttest-mae:474410\n",
      "[95]\ttrain-mae:9576.38\ttest-mae:474396\n",
      "[96]\ttrain-mae:9500.64\ttest-mae:474399\n",
      "[97]\ttrain-mae:9438.17\ttest-mae:474401\n",
      "[98]\ttrain-mae:9286.17\ttest-mae:474396\n",
      "[99]\ttrain-mae:9232.84\ttest-mae:474395\n",
      "[100]\ttrain-mae:9085.36\ttest-mae:474388\n",
      "[101]\ttrain-mae:8877.46\ttest-mae:474378\n",
      "[102]\ttrain-mae:8693.57\ttest-mae:474372\n",
      "[103]\ttrain-mae:8500.16\ttest-mae:474364\n",
      "[104]\ttrain-mae:8433.23\ttest-mae:474360\n",
      "[105]\ttrain-mae:8252.04\ttest-mae:474359\n",
      "[106]\ttrain-mae:8234.53\ttest-mae:474360\n",
      "[107]\ttrain-mae:8150.26\ttest-mae:474354\n",
      "[108]\ttrain-mae:8078.09\ttest-mae:474350\n",
      "[109]\ttrain-mae:8066.04\ttest-mae:474348\n",
      "[110]\ttrain-mae:7995.45\ttest-mae:474341\n",
      "[111]\ttrain-mae:7897.56\ttest-mae:474340\n",
      "[112]\ttrain-mae:7792.62\ttest-mae:474336\n",
      "[113]\ttrain-mae:7691.09\ttest-mae:474334\n",
      "[114]\ttrain-mae:7569.23\ttest-mae:474334\n",
      "[115]\ttrain-mae:7528.57\ttest-mae:474332\n",
      "[116]\ttrain-mae:7463.98\ttest-mae:474329\n",
      "[117]\ttrain-mae:7346.88\ttest-mae:474327\n",
      "[118]\ttrain-mae:7086.34\ttest-mae:474324\n",
      "[119]\ttrain-mae:6918.46\ttest-mae:474321\n",
      "[120]\ttrain-mae:6834.57\ttest-mae:474319\n",
      "[121]\ttrain-mae:6749.56\ttest-mae:474315\n",
      "[122]\ttrain-mae:6609.48\ttest-mae:474314\n",
      "[123]\ttrain-mae:6549.86\ttest-mae:474314\n",
      "[124]\ttrain-mae:6524.18\ttest-mae:474314\n",
      "[125]\ttrain-mae:6399.43\ttest-mae:474308\n",
      "[126]\ttrain-mae:6317.8\ttest-mae:474304\n",
      "[127]\ttrain-mae:6206.63\ttest-mae:474302\n",
      "[128]\ttrain-mae:6034.64\ttest-mae:474302\n",
      "[129]\ttrain-mae:5940.49\ttest-mae:474299\n",
      "[130]\ttrain-mae:5880.65\ttest-mae:474297\n",
      "[131]\ttrain-mae:5824.2\ttest-mae:474299\n",
      "[132]\ttrain-mae:5801.45\ttest-mae:474298\n",
      "[133]\ttrain-mae:5729.98\ttest-mae:474295\n",
      "[134]\ttrain-mae:5674.43\ttest-mae:474294\n",
      "[135]\ttrain-mae:5583.77\ttest-mae:474292\n",
      "[136]\ttrain-mae:5538.74\ttest-mae:474292\n",
      "[137]\ttrain-mae:5465.9\ttest-mae:474291\n",
      "[138]\ttrain-mae:5355.28\ttest-mae:474285\n",
      "[139]\ttrain-mae:5285.1\ttest-mae:474285\n",
      "[140]\ttrain-mae:5214.8\ttest-mae:474283\n",
      "[141]\ttrain-mae:5176.22\ttest-mae:474281\n",
      "[142]\ttrain-mae:5088.92\ttest-mae:474277\n",
      "[143]\ttrain-mae:5041.68\ttest-mae:474275\n",
      "[144]\ttrain-mae:4990.33\ttest-mae:474272\n",
      "[145]\ttrain-mae:4964.01\ttest-mae:474271\n",
      "[146]\ttrain-mae:4900.17\ttest-mae:474269\n",
      "[147]\ttrain-mae:4858.17\ttest-mae:474267\n",
      "[148]\ttrain-mae:4772.85\ttest-mae:474264\n",
      "[149]\ttrain-mae:4730.6\ttest-mae:474265\n",
      "[150]\ttrain-mae:4663.26\ttest-mae:474262\n",
      "[151]\ttrain-mae:4633.1\ttest-mae:474262\n",
      "[152]\ttrain-mae:4571.47\ttest-mae:474259\n",
      "[153]\ttrain-mae:4555.03\ttest-mae:474258\n",
      "[154]\ttrain-mae:4523.85\ttest-mae:474258\n",
      "[155]\ttrain-mae:4441.36\ttest-mae:474255\n",
      "[156]\ttrain-mae:4287.51\ttest-mae:474253\n",
      "[157]\ttrain-mae:4265.09\ttest-mae:474254\n",
      "[158]\ttrain-mae:4236.99\ttest-mae:474252\n",
      "[159]\ttrain-mae:4177.5\ttest-mae:474251\n",
      "[160]\ttrain-mae:4129.37\ttest-mae:474251\n",
      "[161]\ttrain-mae:4036.78\ttest-mae:474248\n",
      "[162]\ttrain-mae:3979.28\ttest-mae:474249\n",
      "[163]\ttrain-mae:3902.04\ttest-mae:474246\n",
      "[164]\ttrain-mae:3848.44\ttest-mae:474246\n",
      "[165]\ttrain-mae:3840.67\ttest-mae:474246\n",
      "[166]\ttrain-mae:3761.8\ttest-mae:474246\n",
      "[167]\ttrain-mae:3671.6\ttest-mae:474247\n",
      "[168]\ttrain-mae:3625.7\ttest-mae:474243\n",
      "[169]\ttrain-mae:3613.08\ttest-mae:474243\n",
      "[170]\ttrain-mae:3545.4\ttest-mae:474243\n",
      "[171]\ttrain-mae:3538.91\ttest-mae:474243\n",
      "[172]\ttrain-mae:3518.61\ttest-mae:474243\n",
      "[173]\ttrain-mae:3459.59\ttest-mae:474240\n",
      "[174]\ttrain-mae:3435.03\ttest-mae:474239\n",
      "[175]\ttrain-mae:3402.35\ttest-mae:474238\n",
      "[176]\ttrain-mae:3356.54\ttest-mae:474237\n",
      "[177]\ttrain-mae:3319.54\ttest-mae:474236\n",
      "[178]\ttrain-mae:3284.79\ttest-mae:474235\n",
      "[179]\ttrain-mae:3239.88\ttest-mae:474234\n",
      "[180]\ttrain-mae:3192.8\ttest-mae:474233\n",
      "[181]\ttrain-mae:3149.57\ttest-mae:474232\n",
      "[182]\ttrain-mae:3129.1\ttest-mae:474231\n",
      "[183]\ttrain-mae:3105.1\ttest-mae:474230\n",
      "[184]\ttrain-mae:3084.11\ttest-mae:474229\n",
      "[185]\ttrain-mae:3073.05\ttest-mae:474230\n",
      "[186]\ttrain-mae:3025.7\ttest-mae:474229\n",
      "[187]\ttrain-mae:3016.41\ttest-mae:474230\n",
      "[188]\ttrain-mae:2968.8\ttest-mae:474229\n",
      "[189]\ttrain-mae:2968.67\ttest-mae:474229\n",
      "[190]\ttrain-mae:2909.13\ttest-mae:474226\n",
      "[191]\ttrain-mae:2876.73\ttest-mae:474227\n",
      "[192]\ttrain-mae:2857.28\ttest-mae:474227\n",
      "[193]\ttrain-mae:2834.23\ttest-mae:474225\n",
      "[194]\ttrain-mae:2782.72\ttest-mae:474223\n",
      "[195]\ttrain-mae:2768.52\ttest-mae:474223\n",
      "[196]\ttrain-mae:2762.87\ttest-mae:474222\n",
      "[197]\ttrain-mae:2744.77\ttest-mae:474224\n",
      "[198]\ttrain-mae:2730.07\ttest-mae:474222\n",
      "[199]\ttrain-mae:2693.86\ttest-mae:474221\n",
      "[200]\ttrain-mae:2651.82\ttest-mae:474219\n",
      "[201]\ttrain-mae:2638.48\ttest-mae:474218\n",
      "[202]\ttrain-mae:2616.61\ttest-mae:474217\n",
      "[203]\ttrain-mae:2596.9\ttest-mae:474216\n",
      "[204]\ttrain-mae:2585.54\ttest-mae:474215\n"
     ]
    },
    {
     "name": "stdout",
     "output_type": "stream",
     "text": [
      "[205]\ttrain-mae:2563.16\ttest-mae:474213\n",
      "[206]\ttrain-mae:2530.77\ttest-mae:474212\n",
      "[207]\ttrain-mae:2516.53\ttest-mae:474213\n",
      "[208]\ttrain-mae:2506.4\ttest-mae:474212\n",
      "[209]\ttrain-mae:2490.79\ttest-mae:474212\n",
      "[210]\ttrain-mae:2455.49\ttest-mae:474211\n",
      "[211]\ttrain-mae:2447.47\ttest-mae:474210\n",
      "[212]\ttrain-mae:2423.23\ttest-mae:474209\n",
      "[213]\ttrain-mae:2393.27\ttest-mae:474210\n",
      "[214]\ttrain-mae:2389.99\ttest-mae:474210\n",
      "[215]\ttrain-mae:2345.39\ttest-mae:474209\n",
      "[216]\ttrain-mae:2332.67\ttest-mae:474209\n",
      "[217]\ttrain-mae:2302.1\ttest-mae:474209\n",
      "[218]\ttrain-mae:2274.37\ttest-mae:474207\n",
      "[219]\ttrain-mae:2255.51\ttest-mae:474206\n",
      "[220]\ttrain-mae:2244.46\ttest-mae:474207\n",
      "[221]\ttrain-mae:2202.9\ttest-mae:474206\n",
      "[222]\ttrain-mae:2197.45\ttest-mae:474206\n",
      "[223]\ttrain-mae:2188.91\ttest-mae:474206\n",
      "[224]\ttrain-mae:2183.04\ttest-mae:474206\n",
      "[225]\ttrain-mae:2172.98\ttest-mae:474205\n",
      "[226]\ttrain-mae:2160.07\ttest-mae:474204\n",
      "[227]\ttrain-mae:2143.07\ttest-mae:474204\n",
      "[228]\ttrain-mae:2134.78\ttest-mae:474204\n",
      "[229]\ttrain-mae:2122.44\ttest-mae:474204\n",
      "[230]\ttrain-mae:2100.7\ttest-mae:474204\n",
      "[231]\ttrain-mae:2087.93\ttest-mae:474203\n",
      "[232]\ttrain-mae:2068.51\ttest-mae:474203\n",
      "[233]\ttrain-mae:2045.42\ttest-mae:474202\n",
      "[234]\ttrain-mae:2035.87\ttest-mae:474202\n",
      "[235]\ttrain-mae:2023.13\ttest-mae:474202\n",
      "[236]\ttrain-mae:2011.39\ttest-mae:474202\n",
      "[237]\ttrain-mae:1986.84\ttest-mae:474201\n",
      "[238]\ttrain-mae:1934.59\ttest-mae:474201\n",
      "[239]\ttrain-mae:1923.2\ttest-mae:474201\n",
      "[240]\ttrain-mae:1916.63\ttest-mae:474201\n",
      "[241]\ttrain-mae:1902.92\ttest-mae:474200\n",
      "[242]\ttrain-mae:1893.85\ttest-mae:474199\n",
      "[243]\ttrain-mae:1872.48\ttest-mae:474198\n",
      "[244]\ttrain-mae:1872.4\ttest-mae:474198\n",
      "[245]\ttrain-mae:1856.16\ttest-mae:474199\n",
      "[246]\ttrain-mae:1839.93\ttest-mae:474198\n",
      "[247]\ttrain-mae:1815.11\ttest-mae:474198\n",
      "[248]\ttrain-mae:1804.87\ttest-mae:474198\n",
      "[249]\ttrain-mae:1770.48\ttest-mae:474199\n",
      "[250]\ttrain-mae:1768.42\ttest-mae:474199\n",
      "[251]\ttrain-mae:1756.76\ttest-mae:474198\n",
      "[252]\ttrain-mae:1722.79\ttest-mae:474198\n",
      "[253]\ttrain-mae:1720.38\ttest-mae:474199\n",
      "[254]\ttrain-mae:1705.81\ttest-mae:474199\n",
      "[255]\ttrain-mae:1672.41\ttest-mae:474198\n",
      "[256]\ttrain-mae:1650.65\ttest-mae:474198\n",
      "[257]\ttrain-mae:1634.68\ttest-mae:474197\n",
      "[258]\ttrain-mae:1626.21\ttest-mae:474197\n",
      "[259]\ttrain-mae:1604.87\ttest-mae:474197\n",
      "[260]\ttrain-mae:1603.91\ttest-mae:474197\n",
      "[261]\ttrain-mae:1578.24\ttest-mae:474196\n",
      "[262]\ttrain-mae:1573.01\ttest-mae:474196\n",
      "[263]\ttrain-mae:1564.41\ttest-mae:474196\n",
      "[264]\ttrain-mae:1555.08\ttest-mae:474197\n",
      "[265]\ttrain-mae:1546.96\ttest-mae:474197\n",
      "[266]\ttrain-mae:1542.91\ttest-mae:474197\n",
      "[267]\ttrain-mae:1537.53\ttest-mae:474197\n",
      "[268]\ttrain-mae:1514.61\ttest-mae:474196\n",
      "[269]\ttrain-mae:1510.44\ttest-mae:474196\n",
      "[270]\ttrain-mae:1488.68\ttest-mae:474195\n",
      "[271]\ttrain-mae:1481.86\ttest-mae:474195\n",
      "[272]\ttrain-mae:1479.47\ttest-mae:474195\n",
      "[273]\ttrain-mae:1478.36\ttest-mae:474195\n",
      "[274]\ttrain-mae:1460.84\ttest-mae:474194\n",
      "[275]\ttrain-mae:1456.58\ttest-mae:474195\n",
      "[276]\ttrain-mae:1452.71\ttest-mae:474194\n",
      "[277]\ttrain-mae:1445.76\ttest-mae:474195\n",
      "[278]\ttrain-mae:1444.72\ttest-mae:474195\n",
      "[279]\ttrain-mae:1443.59\ttest-mae:474195\n",
      "[280]\ttrain-mae:1431.26\ttest-mae:474195\n",
      "[281]\ttrain-mae:1428.94\ttest-mae:474195\n",
      "[282]\ttrain-mae:1422.17\ttest-mae:474195\n",
      "[283]\ttrain-mae:1418.97\ttest-mae:474195\n",
      "[284]\ttrain-mae:1411.46\ttest-mae:474195\n",
      "Stopping. Best iteration:\n",
      "[274]\ttrain-mae:1460.84\ttest-mae:474194\n",
      "\n",
      "MAE (train): 1411.46204\n",
      "MAE: 474194.53022\n"
     ]
    }
   ],
   "source": [
    "features = ['antiguedad', 'habitaciones', 'garages', 'banos',\n",
    "       'metroscubiertos', 'metrostotales', \n",
    "            'lat', 'lng',\n",
    "       'gimnasio', 'usosmultiples', 'piscina', 'escuelascercanas', 'centroscomercialescercanos']\n",
    "\n",
    "features_test = ['prop_frecuente', 'top_provincia', 'porcentaje_metros', 'diferencia_metros', 'promedio_precio_ciudad', \n",
    "                 'promedio_por_mes', 'anio', 'promedio_id_zona', 'promedio_precio_tipo_propiedad', \n",
    "                 'promedio_precio_hbg_tipo_propiedad', 'count_id_zona', 'count_ciudad', 'puntaje', \n",
    "                 'count_tipo_propiedad', 'count_tipo_propiedad_ciudad', \n",
    "                 'promedio_precio_tipo_propiedad_ciudad_gen', 'promedio_precio_hbg_tipo_propiedad_provincia',\n",
    "                 'varianza_id_zona', 'tam_ambientes', 'metros_cubiertos_normalizados', 'dias_desde_datos',\n",
    "                 'meses_desde_datos', 'promedio_id_zona_log']\n",
    "\n",
    "features += features_test\n",
    "\n",
    "features += cols_tipodepropiedad_ohe + cols_provincia_ohe + cols_zona_ohe\n",
    "\n",
    "\n",
    "hps = {'alpha': 19.99916025229205,\n",
    " 'colsample_bytree': 0.65,\n",
    " 'learning_rate': 0.15,\n",
    " 'max_depth': int(20.0),\n",
    " 'n_estimators': int(90.0),\n",
    " 'test_size': 0.1}\n",
    "\n",
    "alpha = hps['alpha']\n",
    "colsample_bytree = hps['colsample_bytree']\n",
    "max_depth = hps['max_depth']\n",
    "learning_rate = hps['learning_rate']\n",
    "n_estimators = hps['n_estimators']\n",
    "test_size = hps['test_size']\n",
    "\n",
    "n_estimators = int(hps['n_estimators'])\n",
    "max_depth = int(hps['max_depth'])\n",
    "\n",
    "\n",
    "# Filtro columnas\n",
    "df_XGBoost_fin = utils.filtrar_features(df_train_final_f, features, 'precio')\n",
    "df_eval_fin = utils.filtrar_features(df_test_final_f, features)\n",
    "\n",
    "x_train_f, x_test_f, y_train_f, y_test_f = utils.dividir_dataset(df_XGBoost_fin, 'precio', features)\n",
    "\n",
    "\n",
    "xg_train = xgb.DMatrix(x_train_f, label=y_train_f)\n",
    "xg_test = xgb.DMatrix(x_test_f, label=y_test_f)\n",
    "\n",
    "# Modelo - Ver hiperparametros\n",
    "params = {\n",
    "    'objective':'reg:squarederror', \n",
    "    'colsample_bytree' : colsample_bytree , \n",
    "    'learning_rate' : learning_rate,\n",
    "    'max_depth' : max_depth, \n",
    "    'alpha' : alpha,\n",
    "    'n_estimators' : n_estimators,\n",
    "    'eval_metric': 'mae'\n",
    "}\n",
    "\n",
    "watchlist = [(xg_train, 'train'), (xg_test, 'test')]\n",
    "\n",
    "# Entrenamiento\n",
    "xg_reg = xgb.train(params, \n",
    "                   xg_train, \n",
    "                   num_boost_round=400,\n",
    "                   evals=watchlist,\n",
    "                   early_stopping_rounds=10\n",
    "                  )\n",
    "\n",
    "\n",
    "# Prediccion\n",
    "y_pred_test_f = xg_reg.predict(xgb.DMatrix(x_test_f))\n",
    "y_pred_train_f = xg_reg.predict(xgb.DMatrix(x_train_f))\n",
    "\n",
    "linear_mae_train_f = utils.MAE(y_train_f, y_pred_train_f)\n",
    "linear_mae_f = utils.MAE(y_test_f, y_pred_test_f)\n",
    "\n",
    "\n",
    "\n",
    "print(f\"MAE (train): {linear_mae_train_f:.5f}\")\n",
    "print(f\"MAE: {linear_mae_f:.5f}\")\n",
    "\n",
    "prediccion_final = xg_reg.predict(xgb.DMatrix(df_eval_fin))\n",
    "df_test_final_f['target'] = prediccion_final\n",
    "df_test_final_f[['id', 'target']].to_csv('respuesta22.csv', index = False)"
   ]
  },
  {
   "cell_type": "markdown",
   "metadata": {},
   "source": [
    "### Verificación de Nulos"
   ]
  },
  {
   "cell_type": "code",
   "execution_count": null,
   "metadata": {},
   "outputs": [],
   "source": [
    "df_test_final_f['target'].isnull().any()"
   ]
  },
  {
   "cell_type": "code",
   "execution_count": null,
   "metadata": {},
   "outputs": [],
   "source": [
    "df_test_final_f['target'].isnull().value_counts()"
   ]
  },
  {
   "cell_type": "code",
   "execution_count": null,
   "metadata": {},
   "outputs": [],
   "source": [
    "x_train_f.columns"
   ]
  },
  {
   "cell_type": "code",
   "execution_count": null,
   "metadata": {},
   "outputs": [],
   "source": []
  }
 ],
 "metadata": {
  "kernelspec": {
   "display_name": "Python 3",
   "language": "python",
   "name": "python3"
  },
  "language_info": {
   "codemirror_mode": {
    "name": "ipython",
    "version": 3
   },
   "file_extension": ".py",
   "mimetype": "text/x-python",
   "name": "python",
   "nbconvert_exporter": "python",
   "pygments_lexer": "ipython3",
   "version": "3.7.4"
  }
 },
 "nbformat": 4,
 "nbformat_minor": 2
}
