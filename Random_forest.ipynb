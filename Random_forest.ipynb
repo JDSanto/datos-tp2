{
 "cells": [
  {
   "cell_type": "code",
   "execution_count": 1,
   "metadata": {},
   "outputs": [
    {
     "ename": "ModuleNotFoundError",
     "evalue": "No module named 'decision_tree_functions'",
     "output_type": "error",
     "traceback": [
      "\u001b[0;31m---------------------------------------------------------------------------\u001b[0m",
      "\u001b[0;31mModuleNotFoundError\u001b[0m                       Traceback (most recent call last)",
      "\u001b[0;32m<ipython-input-1-54bcbc500d31>\u001b[0m in \u001b[0;36m<module>\u001b[0;34m\u001b[0m\n\u001b[1;32m      2\u001b[0m \u001b[0;32mimport\u001b[0m \u001b[0mpandas\u001b[0m \u001b[0;32mas\u001b[0m \u001b[0mpd\u001b[0m\u001b[0;34m\u001b[0m\u001b[0;34m\u001b[0m\u001b[0m\n\u001b[1;32m      3\u001b[0m \u001b[0;32mimport\u001b[0m \u001b[0mrandom\u001b[0m\u001b[0;34m\u001b[0m\u001b[0;34m\u001b[0m\u001b[0m\n\u001b[0;32m----> 4\u001b[0;31m \u001b[0;32mfrom\u001b[0m \u001b[0mdecision_tree_functions\u001b[0m \u001b[0;32mimport\u001b[0m \u001b[0mdecision_tree_algorithm\u001b[0m\u001b[0;34m,\u001b[0m \u001b[0mdecision_tree_predictions\u001b[0m\u001b[0;34m\u001b[0m\u001b[0;34m\u001b[0m\u001b[0m\n\u001b[0m\u001b[1;32m      5\u001b[0m \u001b[0;32mfrom\u001b[0m \u001b[0msklearn\u001b[0m\u001b[0;34m.\u001b[0m\u001b[0mmodel_selection\u001b[0m \u001b[0;32mimport\u001b[0m \u001b[0mtrain_test_split\u001b[0m\u001b[0;34m\u001b[0m\u001b[0;34m\u001b[0m\u001b[0m\n\u001b[1;32m      6\u001b[0m \u001b[0;32mfrom\u001b[0m \u001b[0mipynb\u001b[0m\u001b[0;34m.\u001b[0m\u001b[0mfs\u001b[0m\u001b[0;34m.\u001b[0m\u001b[0mfull\u001b[0m\u001b[0;34m.\u001b[0m\u001b[0mfeatures\u001b[0m \u001b[0;32mimport\u001b[0m \u001b[0mfeatures_independientes_precio\u001b[0m\u001b[0;34m,\u001b[0m \u001b[0mfeatures_dependientes_precio\u001b[0m\u001b[0;34m\u001b[0m\u001b[0;34m\u001b[0m\u001b[0m\n",
      "\u001b[0;31mModuleNotFoundError\u001b[0m: No module named 'decision_tree_functions'"
     ]
    }
   ],
   "source": [
    "import numpy as np\n",
    "import pandas as pd\n",
    "import random\n",
    "from decision_tree_functions import decision_tree_algorithm, decision_tree_predictions\n",
    "from sklearn.model_selection import train_test_split\n",
    "from ipynb.fs.full.features import features_independientes_precio, features_dependientes_precio\n",
    "from sklearn.ensemble import RandomForestClassifier\n",
    "from sklearn.feature_selection import SelectFromModel\n",
    "from sklearn.datasets import make_classification\n"
   ]
  },
  {
   "cell_type": "code",
   "execution_count": null,
   "metadata": {},
   "outputs": [],
   "source": [
    "df = pd.read_csv(\"./data/train.csv\")\n",
    "\n",
    "column_names = []\n",
    "for column in df.columns:\n",
    "    name = column.replace(\" \", \"_\")\n",
    "    column_names.append(name)\n",
    "df.columns = column_names\n"
   ]
  },
  {
   "cell_type": "code",
   "execution_count": null,
   "metadata": {},
   "outputs": [],
   "source": [
    "df_train, df_test = train_test_split(df, test_size=0.2)"
   ]
  },
  {
   "cell_type": "code",
   "execution_count": null,
   "metadata": {},
   "outputs": [],
   "source": [
    "df_train_f = features_independientes_precio(df_train)\n",
    "df_train_f = features_dependientes_precio(df_train_f, df_train)\n",
    "\n",
    "df_test_f = features_independientes_precio(df_test)\n",
    "df_test_f = features_dependientes_precio(df_test_f, df_train)"
   ]
  },
  {
   "cell_type": "code",
   "execution_count": null,
   "metadata": {},
   "outputs": [],
   "source": [
    "y_test = df_test_f['precio']\n",
    "y_train = df_train_f['precio']\n",
    "x_test = df_test_f.drop('precio', axis=1)\n",
    "x_train = df_train_f.drop('precio', axis=1)"
   ]
  },
  {
   "cell_type": "code",
   "execution_count": null,
   "metadata": {},
   "outputs": [],
   "source": [
    "categorias = ['id', 'zona', 'intervalo_metros_cubiertos', 'intervalo_metros_totales', 'provincia', 'escualas_centros_cercanos', 'tipodepropiedad']\n",
    "\n",
    "categoricos = df_train_f[categorias]\n",
    "categoricos_test =df_test_f[categorias]\n",
    "df_full = pd.concat([categoricos_test, categoricos], ignore_index=True)\n",
    "\n",
    "categoricos = pd.get_dummies(categoricos)\n",
    "df_ohe_test = pd.get_dummies(df_full).iloc[0:60000]\n",
    "categoricos_test = df_ohe_test.fillna(0)"
   ]
  },
  {
   "cell_type": "code",
   "execution_count": null,
   "metadata": {},
   "outputs": [],
   "source": [
    "zona = x_train.drop(['titulo', 'descripcion','direccion', 'zona', 'intervalo_metros_cubiertos', 'intervalo_metros_totales', 'provincia', 'escualas_centros_cercanos', 'tipodepropiedad', 'ciudad', 'habitaciones', 'garages', 'banos', 'antiguedad', 'idzona', 'lat', 'lng', 'promedio_precio_hbg_tipo_propiedad_provincia_gen'], axis=1)\n",
    "df_encoding = pd.merge(zona, categoricos, on= 'id', how= 'left')\n",
    "\n",
    "zona_test = x_test.drop(['titulo', 'descripcion','direccion', 'zona', 'intervalo_metros_cubiertos', 'intervalo_metros_totales', 'provincia', 'escualas_centros_cercanos', 'tipodepropiedad', 'ciudad', 'habitaciones', 'garages', 'banos', 'antiguedad', 'idzona', 'lat', 'lng', 'promedio_precio_hbg_tipo_propiedad_provincia_gen'], axis=1)\n",
    "df_encoding_test = pd.merge(zona_test, categoricos_test, on= 'id', how= 'left')\n",
    "df_encoding_test = df_encoding_test.drop(['tipodepropiedad_Garage', 'tipodepropiedad_Hospedaje'],axis =1)\n"
   ]
  },
  {
   "cell_type": "code",
   "execution_count": null,
   "metadata": {},
   "outputs": [],
   "source": [
    "clf = RandomForestClassifier(n_estimators=100, max_depth=2,random_state=0)\n",
    "clf.fit(df_encoding,y_train)"
   ]
  },
  {
   "cell_type": "code",
   "execution_count": null,
   "metadata": {},
   "outputs": [],
   "source": [
    "print(categoricos.shape)\n",
    "print(categoricos_test.shape)\n",
    "print(df_encoding.shape)\n",
    "print(df_encoding_test.shape)\n",
    "\n",
    "set(df_encoding_test.columns)  - set(df_encoding.columns)"
   ]
  },
  {
   "cell_type": "code",
   "execution_count": null,
   "metadata": {},
   "outputs": [],
   "source": [
    "clf.predict(df_encoding_test)"
   ]
  },
  {
   "cell_type": "code",
   "execution_count": null,
   "metadata": {},
   "outputs": [],
   "source": [
    "clf.feature_importances_"
   ]
  },
  {
   "cell_type": "code",
   "execution_count": null,
   "metadata": {},
   "outputs": [],
   "source": [
    "\n",
    "feats = {} # a dict to hold feature_name: feature_importance\n",
    "for feature, importance in zip(df_encoding.columns, clf.feature_importances_):\n",
    "    feats[feature] = importance #add the name/value pair \n",
    "\n",
    "importances = pd.DataFrame.from_dict(feats, orient='index').rename(columns={0: 'Gini-importance'})\n",
    "importances.sort_values(by='Gini-importance').nlargest(40, 'Gini-importance').plot(kind='bar', rot=90, figsize= (30,30), fontsize = 20)"
   ]
  },
  {
   "cell_type": "code",
   "execution_count": null,
   "metadata": {},
   "outputs": [],
   "source": [
    "cubiertos = importances.transpose()\n",
    "cubiertos = cubiertos[['metroscubiertos', 'intervalo_metros_cubiertos_Grupo1', 'intervalo_metros_cubiertos_Grupo2', 'intervalo_metros_cubiertos_Grupo3', 'intervalo_metros_cubiertos_Grupo4', 'intervalo_metros_cubiertos_Grupo5']]\n",
    "cubiertos.transpose()"
   ]
  },
  {
   "cell_type": "code",
   "execution_count": null,
   "metadata": {},
   "outputs": [],
   "source": [
    "totales = importances.transpose()\n",
    "totales = totales[['metrostotales', 'intervalo_metros_totales_Grupo1', 'intervalo_metros_totales_Grupo2', 'intervalo_metros_totales_Grupo3', 'intervalo_metros_totales_Grupo4', 'intervalo_metros_totales_Grupo5']]\n",
    "totales.transpose()"
   ]
  },
  {
   "cell_type": "code",
   "execution_count": null,
   "metadata": {},
   "outputs": [],
   "source": []
  }
 ],
 "metadata": {
  "kernelspec": {
   "display_name": "Python 3",
   "language": "python",
   "name": "python3"
  },
  "language_info": {
   "codemirror_mode": {
    "name": "ipython",
    "version": 3
   },
   "file_extension": ".py",
   "mimetype": "text/x-python",
   "name": "python",
   "nbconvert_exporter": "python",
   "pygments_lexer": "ipython3",
   "version": "3.7.4"
  }
 },
 "nbformat": 4,
 "nbformat_minor": 2
}
