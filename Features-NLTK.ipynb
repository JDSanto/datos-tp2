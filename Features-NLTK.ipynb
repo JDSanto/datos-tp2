{
 "cells": [
  {
   "cell_type": "code",
   "execution_count": 1,
   "metadata": {},
   "outputs": [
    {
     "name": "stderr",
     "output_type": "stream",
     "text": [
      "[nltk_data] Downloading package stopwords to /home/tomas/nltk_data...\n",
      "[nltk_data]   Package stopwords is already up-to-date!\n"
     ]
    }
   ],
   "source": [
    "import pandas as pd\n",
    "import nltk\n",
    "from nltk.tokenize import word_tokenize\n",
    "from nltk.corpus import stopwords\n",
    "\n",
    "nltk.download('stopwords')\n",
    "\n",
    "df_train = pd.read_csv('data/train.csv')\n",
    "df_test = pd.read_csv('data/test.csv')"
   ]
  },
  {
   "cell_type": "code",
   "execution_count": 2,
   "metadata": {},
   "outputs": [],
   "source": [
    "def ver_info_a_filtrar(df, col):\n",
    "    cant_publicaciones_titulo_no_nulo = df[~df[col].isnull()].shape[0]\n",
    "    print('La cantidad de publicaciones con titulo no nulo es:', cant_publicaciones_titulo_no_nulo)\n",
    "    print('La cantidad total de publicaciones es:', df.shape[0])"
   ]
  },
  {
   "cell_type": "code",
   "execution_count": 3,
   "metadata": {},
   "outputs": [],
   "source": [
    "def generar_palabras_no_queridas(arr=None):\n",
    "    '''Retorna un set con las palabras a excluir, arr, es un campo opcional para excluir tambien \n",
    "    las palabras en ese arreglo'''\n",
    "    stop_words = set(stopwords.words('spanish'))\n",
    "    puntuacion = [',', '.', '!', '0', '1', '2', '3', '4', '5', '6', '7', '8', '9', '-', '_', '\\'', '\\\"', \n",
    "                  '(', ')', '[', ']', '{', '}', 'i', 'p', 'br', '<', '>', 'col.', '\\\\', '/', '$', 'm2', \n",
    "                  '..', '...', 'ii', '#', ';', ':', 'col']\n",
    "    for x in puntuacion:\n",
    "        stop_words.add(x)\n",
    "    if arr:\n",
    "        for x in arr:\n",
    "            stop_words.add(x)\n",
    "    return stop_words"
   ]
  },
  {
   "cell_type": "code",
   "execution_count": 4,
   "metadata": {},
   "outputs": [],
   "source": [
    "def generar_palabras_mas_frecuentes(df, col, n):\n",
    "    '''Esta funcion recibe un df, y genera la n palabras mas usadas la columna pasada por parametro, \n",
    "    retorna un arreglo ordenado de mas usadas a menos usadas'''\n",
    "    reviews = df[col].str.cat(sep=' ')\n",
    "\n",
    "    # Splitea los textos en palabras\n",
    "    tokens = word_tokenize(reviews)\n",
    "\n",
    "    # Fuera palabras no necesarias\n",
    "    stop_words = generar_palabras_no_queridas()\n",
    "    tokens = [w for w in tokens if not w in stop_words]\n",
    "\n",
    "    vocabulary = set(tokens)\n",
    "    \n",
    "    # Calcula y ordena por frecuencia\n",
    "    frequency_dist = nltk.FreqDist(tokens)\n",
    "    mas_usadas = sorted(frequency_dist,key=frequency_dist.__getitem__, reverse=True)[0:n]\n",
    "    return mas_usadas"
   ]
  },
  {
   "cell_type": "code",
   "execution_count": 5,
   "metadata": {},
   "outputs": [],
   "source": [
    "def feature_cantidad_mas_frecuentes(df, col, n):\n",
    "    '''Retorna el df pasado por parametro con la columna nueva \"cant_palabras_mas_frecuentes\", donde dice\n",
    "    el numero de palabras mas frecuentes presentes en la columna pasada por parametro. n es la cantidad \n",
    "    palabras mas frecuentes a usar. Por ejemplo: `feature_cantidad_mas_frecuentes(df, 'titulo', 50)` genera \n",
    "    columna nueva `cant_palabras_mas_frecuentes_titulo`, donde se indica cuantas palabras frecuentes aparecen\n",
    "    en el titulo, siendo las palabras mas frecuentes, la n palabras mas usadas entre todas las columnas \n",
    "    pasadas por parametro'''\n",
    "    \n",
    "    arr_mas_frecuentes = generar_palabras_mas_frecuentes(df, col, n)\n",
    "    set_mas_frecuentes = set(arr_mas_frecuentes)\n",
    "    \n",
    "    def contador_mas_frecuentes(texto):\n",
    "        contador = 0\n",
    "        palabras_del_df = word_tokenize(texto)\n",
    "        for palabra in palabras_del_df:\n",
    "            if palabra in set_mas_frecuentes:\n",
    "                contador = contador + 1\n",
    "        return contador\n",
    "    \n",
    "    df['cant_palabras_mas_frecuentes_' + col] = df[~df[col].isnull()][col].apply(contador_mas_frecuentes)\n",
    "    df['cant_palabras_mas_frecuentes_' + col] = df['cant_palabras_mas_frecuentes_' + col].fillna(0)\n",
    "    \n",
    "    return df"
   ]
  },
  {
   "cell_type": "code",
   "execution_count": 6,
   "metadata": {},
   "outputs": [
    {
     "data": {
      "text/html": [
       "<div>\n",
       "<style scoped>\n",
       "    .dataframe tbody tr th:only-of-type {\n",
       "        vertical-align: middle;\n",
       "    }\n",
       "\n",
       "    .dataframe tbody tr th {\n",
       "        vertical-align: top;\n",
       "    }\n",
       "\n",
       "    .dataframe thead th {\n",
       "        text-align: right;\n",
       "    }\n",
       "</style>\n",
       "<table border=\"1\" class=\"dataframe\">\n",
       "  <thead>\n",
       "    <tr style=\"text-align: right;\">\n",
       "      <th></th>\n",
       "      <th>id</th>\n",
       "      <th>titulo</th>\n",
       "      <th>cant_palabras_mas_frecuentes_titulo</th>\n",
       "    </tr>\n",
       "  </thead>\n",
       "  <tbody>\n",
       "    <tr>\n",
       "      <th>0</th>\n",
       "      <td>254099</td>\n",
       "      <td>depto. tipo a-402</td>\n",
       "      <td>1.0</td>\n",
       "    </tr>\n",
       "    <tr>\n",
       "      <th>1</th>\n",
       "      <td>53461</td>\n",
       "      <td>condominio horizontal en venta</td>\n",
       "      <td>3.0</td>\n",
       "    </tr>\n",
       "    <tr>\n",
       "      <th>2</th>\n",
       "      <td>247984</td>\n",
       "      <td>casa en venta urbi 3 recamaras tonala</td>\n",
       "      <td>3.0</td>\n",
       "    </tr>\n",
       "    <tr>\n",
       "      <th>3</th>\n",
       "      <td>209067</td>\n",
       "      <td>casa sola en toluca zinacantepec con credito i...</td>\n",
       "      <td>4.0</td>\n",
       "    </tr>\n",
       "    <tr>\n",
       "      <th>4</th>\n",
       "      <td>185997</td>\n",
       "      <td>paseos del sol</td>\n",
       "      <td>2.0</td>\n",
       "    </tr>\n",
       "  </tbody>\n",
       "</table>\n",
       "</div>"
      ],
      "text/plain": [
       "       id                                             titulo  \\\n",
       "0  254099                                  depto. tipo a-402   \n",
       "1   53461                     condominio horizontal en venta   \n",
       "2  247984              casa en venta urbi 3 recamaras tonala   \n",
       "3  209067  casa sola en toluca zinacantepec con credito i...   \n",
       "4  185997                                     paseos del sol   \n",
       "\n",
       "   cant_palabras_mas_frecuentes_titulo  \n",
       "0                                  1.0  \n",
       "1                                  3.0  \n",
       "2                                  3.0  \n",
       "3                                  4.0  \n",
       "4                                  2.0  "
      ]
     },
     "execution_count": 6,
     "metadata": {},
     "output_type": "execute_result"
    }
   ],
   "source": [
    "df_palabras = feature_cantidad_mas_frecuentes(df_train, 'titulo', 200)\n",
    "df_palabras[['id', 'titulo', 'cant_palabras_mas_frecuentes_titulo']].head()"
   ]
  }
 ],
 "metadata": {
  "kernelspec": {
   "display_name": "Python 3",
   "language": "python",
   "name": "python3"
  },
  "language_info": {
   "codemirror_mode": {
    "name": "ipython",
    "version": 3
   },
   "file_extension": ".py",
   "mimetype": "text/x-python",
   "name": "python",
   "nbconvert_exporter": "python",
   "pygments_lexer": "ipython3",
   "version": "3.6.8"
  }
 },
 "nbformat": 4,
 "nbformat_minor": 2
}
