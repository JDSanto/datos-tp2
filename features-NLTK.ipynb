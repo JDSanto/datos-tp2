{
 "cells": [
  {
   "cell_type": "code",
   "execution_count": 12,
   "metadata": {},
   "outputs": [
    {
     "name": "stderr",
     "output_type": "stream",
     "text": [
      "[nltk_data] Downloading package stopwords to /home/tomas/nltk_data...\n",
      "[nltk_data]   Package stopwords is already up-to-date!\n"
     ]
    }
   ],
   "source": [
    "import pandas as pd\n",
    "import nltk\n",
    "from nltk.tokenize import word_tokenize\n",
    "from nltk.corpus import stopwords\n",
    "\n",
    "nltk.download('stopwords')\n",
    "\n",
    "df_train = pd.read_csv('data/train.csv')\n",
    "df_test = pd.read_csv('data/test.csv')"
   ]
  },
  {
   "cell_type": "code",
   "execution_count": 13,
   "metadata": {},
   "outputs": [],
   "source": [
    "def ver_info_a_filtrar(df, col):\n",
    "    cant_publicaciones_columna_no_nulo = df[~df[col].isnull()].shape[0]\n",
    "    print('La cantidad de publicaciones con ' + col +' no nulo es:', cant_publicaciones_columna_no_nulo)\n",
    "    print('La cantidad total de publicaciones es:', df.shape[0])"
   ]
  },
  {
   "cell_type": "code",
   "execution_count": 14,
   "metadata": {},
   "outputs": [],
   "source": [
    "def generar_palabras_no_queridas(arr=None):\n",
    "    '''Retorna un set con las palabras a excluir, arr, es un campo opcional para excluir tambien \n",
    "    las palabras en ese arreglo'''\n",
    "    stop_words = set(stopwords.words('spanish'))\n",
    "    puntuacion = [',', '.', '!', '0', '1', '2', '3', '4', '5', '6', '7', '8', '9', '-', '_', '\\'', '\\\"', \n",
    "                  '(', ')', '[', ']', '{', '}', 'i', 'p', 'br', '<', '>', 'col.', '\\\\', '/', '$', 'm2', \n",
    "                  '..', '...', 'ii', '#', ';', ':', 'col']\n",
    "    for x in puntuacion:\n",
    "        stop_words.add(x)\n",
    "    if arr:\n",
    "        for x in arr:\n",
    "            stop_words.add(x)\n",
    "    return stop_words"
   ]
  },
  {
   "cell_type": "code",
   "execution_count": 15,
   "metadata": {},
   "outputs": [],
   "source": [
    "def generar_palabras_mas_frecuentes(df, col, n):\n",
    "    '''Esta funcion recibe un df, y genera la n palabras mas usadas la columna pasada por parametro, \n",
    "    retorna un arreglo ordenado de mas usadas a menos usadas'''\n",
    "    reviews = df[col].str.cat(sep=' ')\n",
    "\n",
    "    # Splitea los textos en palabras\n",
    "    tokens = word_tokenize(reviews)\n",
    "\n",
    "    # Fuera palabras no necesarias\n",
    "    stop_words = generar_palabras_no_queridas()\n",
    "    tokens = [w for w in tokens if not w in stop_words]\n",
    "\n",
    "    vocabulary = set(tokens)\n",
    "    \n",
    "    # Calcula y ordena por frecuencia\n",
    "    frequency_dist = nltk.FreqDist(tokens)\n",
    "    mas_usadas = sorted(frequency_dist,key=frequency_dist.__getitem__, reverse=True)[0:n]\n",
    "    return mas_usadas"
   ]
  },
  {
   "cell_type": "code",
   "execution_count": 16,
   "metadata": {},
   "outputs": [],
   "source": [
    "def feature_cantidad_mas_frecuentes(df, col, n):\n",
    "    '''Retorna el df pasado por parametro con la columna nueva \"cant_palabras_mas_frecuentes\", donde dice\n",
    "    el numero de palabras mas frecuentes presentes en la columna pasada por parametro. n es la cantidad \n",
    "    palabras mas frecuentes a usar. Por ejemplo: `feature_cantidad_mas_frecuentes(df, 'titulo', 50)` genera \n",
    "    columna nueva `cant_palabras_mas_frecuentes_titulo`, donde se indica cuantas palabras frecuentes aparecen\n",
    "    en el titulo, siendo las palabras mas frecuentes, la n palabras mas usadas entre todas las columnas \n",
    "    pasadas por parametro'''\n",
    "    \n",
    "    ver_info_a_filtrar(df, col)\n",
    "    \n",
    "    arr_mas_frecuentes = generar_palabras_mas_frecuentes(df, col, n)\n",
    "    set_mas_frecuentes = set(arr_mas_frecuentes)\n",
    "    \n",
    "    def contador_mas_frecuentes(texto):\n",
    "        contador = 0\n",
    "        palabras_del_df = word_tokenize(texto)\n",
    "        cantidad_palabras_texto = len(palabras_del_df)\n",
    "        if cantidad_palabras_texto == 0:\n",
    "            return 0\n",
    "        for palabra in palabras_del_df:\n",
    "            if palabra in set_mas_frecuentes:\n",
    "                contador = contador + 1\n",
    "        return contador / cantidad_palabras_texto\n",
    "    \n",
    "    df['cant_palabras_mas_frecuentes_' + col] = df[~df[col].isnull()][col].apply(contador_mas_frecuentes)\n",
    "    df['cant_palabras_mas_frecuentes_' + col] = df['cant_palabras_mas_frecuentes_' + col].fillna(0)\n",
    "    \n",
    "    return df"
   ]
  },
  {
   "cell_type": "code",
   "execution_count": 17,
   "metadata": {},
   "outputs": [
    {
     "name": "stdout",
     "output_type": "stream",
     "text": [
      "La cantidad de publicaciones con titulo no nulo es: 234613\n",
      "La cantidad total de publicaciones es: 240000\n"
     ]
    },
    {
     "ename": "ZeroDivisionError",
     "evalue": "division by zero",
     "output_type": "error",
     "traceback": [
      "\u001b[0;31m---------------------------------------------------------------------------\u001b[0m",
      "\u001b[0;31mZeroDivisionError\u001b[0m                         Traceback (most recent call last)",
      "\u001b[0;32m<ipython-input-17-02eb67b4b8cc>\u001b[0m in \u001b[0;36m<module>\u001b[0;34m\u001b[0m\n\u001b[1;32m      1\u001b[0m \u001b[0;31m# Ejemplo de uso de las palabras mas frecuentes\u001b[0m\u001b[0;34m\u001b[0m\u001b[0;34m\u001b[0m\u001b[0;34m\u001b[0m\u001b[0m\n\u001b[1;32m      2\u001b[0m \u001b[0;34m\u001b[0m\u001b[0m\n\u001b[0;32m----> 3\u001b[0;31m \u001b[0mdf_palabras\u001b[0m \u001b[0;34m=\u001b[0m \u001b[0mfeature_cantidad_mas_frecuentes\u001b[0m\u001b[0;34m(\u001b[0m\u001b[0mdf_train\u001b[0m\u001b[0;34m,\u001b[0m \u001b[0;34m'titulo'\u001b[0m\u001b[0;34m,\u001b[0m \u001b[0;36m200\u001b[0m\u001b[0;34m)\u001b[0m\u001b[0;34m\u001b[0m\u001b[0;34m\u001b[0m\u001b[0m\n\u001b[0m\u001b[1;32m      4\u001b[0m \u001b[0mdf_palabras\u001b[0m\u001b[0;34m[\u001b[0m\u001b[0;34m[\u001b[0m\u001b[0;34m'id'\u001b[0m\u001b[0;34m,\u001b[0m \u001b[0;34m'titulo'\u001b[0m\u001b[0;34m,\u001b[0m \u001b[0;34m'cant_palabras_mas_frecuentes_titulo'\u001b[0m\u001b[0;34m]\u001b[0m\u001b[0;34m]\u001b[0m\u001b[0;34m.\u001b[0m\u001b[0mhead\u001b[0m\u001b[0;34m(\u001b[0m\u001b[0;34m)\u001b[0m\u001b[0;34m\u001b[0m\u001b[0;34m\u001b[0m\u001b[0m\n",
      "\u001b[0;32m<ipython-input-16-7e30b1346d2c>\u001b[0m in \u001b[0;36mfeature_cantidad_mas_frecuentes\u001b[0;34m(df, col, n)\u001b[0m\n\u001b[1;32m     21\u001b[0m         \u001b[0;32mreturn\u001b[0m \u001b[0mcontador\u001b[0m \u001b[0;34m/\u001b[0m \u001b[0mcantidad_palabras_texto\u001b[0m\u001b[0;34m\u001b[0m\u001b[0;34m\u001b[0m\u001b[0m\n\u001b[1;32m     22\u001b[0m \u001b[0;34m\u001b[0m\u001b[0m\n\u001b[0;32m---> 23\u001b[0;31m     \u001b[0mdf\u001b[0m\u001b[0;34m[\u001b[0m\u001b[0;34m'cant_palabras_mas_frecuentes_'\u001b[0m \u001b[0;34m+\u001b[0m \u001b[0mcol\u001b[0m\u001b[0;34m]\u001b[0m \u001b[0;34m=\u001b[0m \u001b[0mdf\u001b[0m\u001b[0;34m[\u001b[0m\u001b[0;34m~\u001b[0m\u001b[0mdf\u001b[0m\u001b[0;34m[\u001b[0m\u001b[0mcol\u001b[0m\u001b[0;34m]\u001b[0m\u001b[0;34m.\u001b[0m\u001b[0misnull\u001b[0m\u001b[0;34m(\u001b[0m\u001b[0;34m)\u001b[0m\u001b[0;34m]\u001b[0m\u001b[0;34m[\u001b[0m\u001b[0mcol\u001b[0m\u001b[0;34m]\u001b[0m\u001b[0;34m.\u001b[0m\u001b[0mapply\u001b[0m\u001b[0;34m(\u001b[0m\u001b[0mcontador_mas_frecuentes\u001b[0m\u001b[0;34m)\u001b[0m\u001b[0;34m\u001b[0m\u001b[0;34m\u001b[0m\u001b[0m\n\u001b[0m\u001b[1;32m     24\u001b[0m     \u001b[0mdf\u001b[0m\u001b[0;34m[\u001b[0m\u001b[0;34m'cant_palabras_mas_frecuentes_'\u001b[0m \u001b[0;34m+\u001b[0m \u001b[0mcol\u001b[0m\u001b[0;34m]\u001b[0m \u001b[0;34m=\u001b[0m \u001b[0mdf\u001b[0m\u001b[0;34m[\u001b[0m\u001b[0;34m'cant_palabras_mas_frecuentes_'\u001b[0m \u001b[0;34m+\u001b[0m \u001b[0mcol\u001b[0m\u001b[0;34m]\u001b[0m\u001b[0;34m.\u001b[0m\u001b[0mfillna\u001b[0m\u001b[0;34m(\u001b[0m\u001b[0;36m0\u001b[0m\u001b[0;34m)\u001b[0m\u001b[0;34m\u001b[0m\u001b[0;34m\u001b[0m\u001b[0m\n\u001b[1;32m     25\u001b[0m \u001b[0;34m\u001b[0m\u001b[0m\n",
      "\u001b[0;32m~/Escritorio/datos-tp2/.venv/lib/python3.6/site-packages/pandas/core/series.py\u001b[0m in \u001b[0;36mapply\u001b[0;34m(self, func, convert_dtype, args, **kwds)\u001b[0m\n\u001b[1;32m   4043\u001b[0m             \u001b[0;32melse\u001b[0m\u001b[0;34m:\u001b[0m\u001b[0;34m\u001b[0m\u001b[0;34m\u001b[0m\u001b[0m\n\u001b[1;32m   4044\u001b[0m                 \u001b[0mvalues\u001b[0m \u001b[0;34m=\u001b[0m \u001b[0mself\u001b[0m\u001b[0;34m.\u001b[0m\u001b[0mastype\u001b[0m\u001b[0;34m(\u001b[0m\u001b[0mobject\u001b[0m\u001b[0;34m)\u001b[0m\u001b[0;34m.\u001b[0m\u001b[0mvalues\u001b[0m\u001b[0;34m\u001b[0m\u001b[0;34m\u001b[0m\u001b[0m\n\u001b[0;32m-> 4045\u001b[0;31m                 \u001b[0mmapped\u001b[0m \u001b[0;34m=\u001b[0m \u001b[0mlib\u001b[0m\u001b[0;34m.\u001b[0m\u001b[0mmap_infer\u001b[0m\u001b[0;34m(\u001b[0m\u001b[0mvalues\u001b[0m\u001b[0;34m,\u001b[0m \u001b[0mf\u001b[0m\u001b[0;34m,\u001b[0m \u001b[0mconvert\u001b[0m\u001b[0;34m=\u001b[0m\u001b[0mconvert_dtype\u001b[0m\u001b[0;34m)\u001b[0m\u001b[0;34m\u001b[0m\u001b[0;34m\u001b[0m\u001b[0m\n\u001b[0m\u001b[1;32m   4046\u001b[0m \u001b[0;34m\u001b[0m\u001b[0m\n\u001b[1;32m   4047\u001b[0m         \u001b[0;32mif\u001b[0m \u001b[0mlen\u001b[0m\u001b[0;34m(\u001b[0m\u001b[0mmapped\u001b[0m\u001b[0;34m)\u001b[0m \u001b[0;32mand\u001b[0m \u001b[0misinstance\u001b[0m\u001b[0;34m(\u001b[0m\u001b[0mmapped\u001b[0m\u001b[0;34m[\u001b[0m\u001b[0;36m0\u001b[0m\u001b[0;34m]\u001b[0m\u001b[0;34m,\u001b[0m \u001b[0mSeries\u001b[0m\u001b[0;34m)\u001b[0m\u001b[0;34m:\u001b[0m\u001b[0;34m\u001b[0m\u001b[0;34m\u001b[0m\u001b[0m\n",
      "\u001b[0;32mpandas/_libs/lib.pyx\u001b[0m in \u001b[0;36mpandas._libs.lib.map_infer\u001b[0;34m()\u001b[0m\n",
      "\u001b[0;32m<ipython-input-16-7e30b1346d2c>\u001b[0m in \u001b[0;36mcontador_mas_frecuentes\u001b[0;34m(texto)\u001b[0m\n\u001b[1;32m     19\u001b[0m             \u001b[0;32mif\u001b[0m \u001b[0mpalabra\u001b[0m \u001b[0;32min\u001b[0m \u001b[0mset_mas_frecuentes\u001b[0m\u001b[0;34m:\u001b[0m\u001b[0;34m\u001b[0m\u001b[0;34m\u001b[0m\u001b[0m\n\u001b[1;32m     20\u001b[0m                 \u001b[0mcontador\u001b[0m \u001b[0;34m=\u001b[0m \u001b[0mcontador\u001b[0m \u001b[0;34m+\u001b[0m \u001b[0;36m1\u001b[0m\u001b[0;34m\u001b[0m\u001b[0;34m\u001b[0m\u001b[0m\n\u001b[0;32m---> 21\u001b[0;31m         \u001b[0;32mreturn\u001b[0m \u001b[0mcontador\u001b[0m \u001b[0;34m/\u001b[0m \u001b[0mcantidad_palabras_texto\u001b[0m\u001b[0;34m\u001b[0m\u001b[0;34m\u001b[0m\u001b[0m\n\u001b[0m\u001b[1;32m     22\u001b[0m \u001b[0;34m\u001b[0m\u001b[0m\n\u001b[1;32m     23\u001b[0m     \u001b[0mdf\u001b[0m\u001b[0;34m[\u001b[0m\u001b[0;34m'cant_palabras_mas_frecuentes_'\u001b[0m \u001b[0;34m+\u001b[0m \u001b[0mcol\u001b[0m\u001b[0;34m]\u001b[0m \u001b[0;34m=\u001b[0m \u001b[0mdf\u001b[0m\u001b[0;34m[\u001b[0m\u001b[0;34m~\u001b[0m\u001b[0mdf\u001b[0m\u001b[0;34m[\u001b[0m\u001b[0mcol\u001b[0m\u001b[0;34m]\u001b[0m\u001b[0;34m.\u001b[0m\u001b[0misnull\u001b[0m\u001b[0;34m(\u001b[0m\u001b[0;34m)\u001b[0m\u001b[0;34m]\u001b[0m\u001b[0;34m[\u001b[0m\u001b[0mcol\u001b[0m\u001b[0;34m]\u001b[0m\u001b[0;34m.\u001b[0m\u001b[0mapply\u001b[0m\u001b[0;34m(\u001b[0m\u001b[0mcontador_mas_frecuentes\u001b[0m\u001b[0;34m)\u001b[0m\u001b[0;34m\u001b[0m\u001b[0;34m\u001b[0m\u001b[0m\n",
      "\u001b[0;31mZeroDivisionError\u001b[0m: division by zero"
     ]
    }
   ],
   "source": [
    "# Ejemplo de uso de las palabras mas frecuentes\n",
    "\n",
    "df_palabras = feature_cantidad_mas_frecuentes(df_train, 'titulo', 200)\n",
    "df_palabras[['id', 'titulo', 'cant_palabras_mas_frecuentes_titulo']].head()"
   ]
  },
  {
   "cell_type": "code",
   "execution_count": null,
   "metadata": {},
   "outputs": [],
   "source": [
    "def generar_palabras_menos_frecuentes(df, col, n):\n",
    "    '''Esta funcion recibe un df, y genera la n palabras menos usadas la columna pasada por parametro, \n",
    "    retorna un arreglo ordenado de menos usadas a menos usadas'''\n",
    "    reviews = df[col].str.cat(sep=' ')\n",
    "\n",
    "    # Splitea los textos en palabras\n",
    "    tokens = word_tokenize(reviews)\n",
    "\n",
    "    # Fuera palabras no necesarias\n",
    "    stop_words = generar_palabras_no_queridas()\n",
    "    tokens = [w for w in tokens if not w in stop_words]\n",
    "\n",
    "    vocabulary = set(tokens)\n",
    "    \n",
    "    # Calcula y ordena por frecuencia\n",
    "    frequency_dist = nltk.FreqDist(tokens)\n",
    "    menos_usadas = sorted(frequency_dist, key=frequency_dist.__getitem__, reverse=False)[0:n]\n",
    "    return menos_usadas"
   ]
  },
  {
   "cell_type": "code",
   "execution_count": null,
   "metadata": {},
   "outputs": [],
   "source": [
    "def feature_cantidad_menos_frecuentes(df, col, n):\n",
    "    '''Retorna el df pasado por parametro con la columna nueva \"cant_palabras_menos_frecuentes\", donde dice\n",
    "    el numero de palabras menos frecuentes presentes en la columna pasada por parametro. n es la cantidad \n",
    "    palabras menos frecuentes a usar. Por ejemplo: `cant_palabras_menos_frecuentes(df, 'titulo', 50)` genera \n",
    "    columna nueva `cant_palabras_menos_frecuentes_titulo`, donde se indica cuantas palabras menos frecuentes aparecen\n",
    "    en el titulo, siendo las palabras menos frecuentes, la n palabras menos usadas entre todas las columnas \n",
    "    pasadas por parametro'''\n",
    "    \n",
    "    ver_info_a_filtrar(df, col)\n",
    "    \n",
    "    arr_menos_frecuentes = generar_palabras_menos_frecuentes(df, col, n)\n",
    "    set_menos_frecuentes = set(arr_menos_frecuentes)\n",
    "    \n",
    "    def contador_menos_frecuentes(texto):\n",
    "        contador = 0\n",
    "        palabras_del_df = word_tokenize(texto)\n",
    "        cantidad_palabras_texto = len(palabras_del_df)\n",
    "        if cantidad_palabras_texto == 0:\n",
    "            return 0\n",
    "        for palabra in palabras_del_df:\n",
    "            if palabra in set_menos_frecuentes:\n",
    "                contador = contador + 1\n",
    "        return contador / cantidad_palabras_texto\n",
    "    \n",
    "    df['cant_palabras_menos_frecuentes_' + col] = df[~df[col].isnull()][col].apply(contador_menos_frecuentes)\n",
    "    df['cant_palabras_menos_frecuentes_' + col] = df['cant_palabras_menos_frecuentes_' + col].fillna(0)\n",
    "    \n",
    "    return df"
   ]
  },
  {
   "cell_type": "code",
   "execution_count": null,
   "metadata": {},
   "outputs": [],
   "source": [
    "# Ejemplo de uso de las palabras menos frecuentes\n",
    "\n",
    "df_palabras = feature_cantidad_menos_frecuentes(df_train, 'titulo', 200)\n",
    "df_palabras[['id', 'titulo', 'cant_palabras_menos_frecuentes_titulo']].head()"
   ]
  }
 ],
 "metadata": {
  "kernelspec": {
   "display_name": "Python 3",
   "language": "python",
   "name": "python3"
  },
  "language_info": {
   "codemirror_mode": {
    "name": "ipython",
    "version": 3
   },
   "file_extension": ".py",
   "mimetype": "text/x-python",
   "name": "python",
   "nbconvert_exporter": "python",
   "pygments_lexer": "ipython3",
   "version": "3.6.8"
  }
 },
 "nbformat": 4,
 "nbformat_minor": 2
}
