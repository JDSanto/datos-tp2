{
 "cells": [
  {
   "cell_type": "code",
   "execution_count": 1,
   "metadata": {},
   "outputs": [],
   "source": [
    "import pandas as pd\n",
    "import numpy as np\n",
    "from sklearn.linear_model import LinearRegression\n",
    "from sklearn.model_selection import train_test_split\n",
    "from sklearn.preprocessing import Imputer\n",
    "from sklearn.impute import SimpleImputer\n",
    "from hyperopt import fmin, tpe, hp\n",
    "\n",
    "df_train = pd.read_csv('./data/train.csv')\n",
    "\n",
    "# Para usarse con el submit a Kaggle\n",
    "df_test = pd.read_csv('./data/test.csv')"
   ]
  },
  {
   "cell_type": "markdown",
   "metadata": {},
   "source": [
    "## Métrica de evaluación"
   ]
  },
  {
   "cell_type": "code",
   "execution_count": 2,
   "metadata": {},
   "outputs": [],
   "source": [
    "def RMSLE(actual, pred):\n",
    "    return (np.mean((np.log(actual + 1) - np.log(pred + 1)) ** 2)) **.5"
   ]
  },
  {
   "cell_type": "markdown",
   "metadata": {},
   "source": [
    "## Set de datos precio/metroscubiertos"
   ]
  },
  {
   "cell_type": "code",
   "execution_count": 3,
   "metadata": {},
   "outputs": [
    {
     "name": "stdout",
     "output_type": "stream",
     "text": [
      "Train shapes: x=(180000, 1) y=(180000,)\n",
      "Test  shapes: x=(60000, 1)  y=(60000,)\n"
     ]
    }
   ],
   "source": [
    "x = df_train[['metroscubiertos']]\n",
    "y = df_train['precio']\n",
    "\n",
    "# Dividir el DF de entrenamiento\n",
    "x_train, x_test, y_train, y_test = train_test_split(x, y, test_size=0.25, random_state=1)\n",
    "# Para evitar SettingWithCopyWarning\n",
    "x_train, x_test, y_train, y_test = x_train.copy(), x_test.copy(), y_train.copy(), y_test.copy()\n",
    "print(f\"Train shapes: x={x_train.shape} y={y_train.shape}\")\n",
    "print(f\"Test  shapes: x={x_test.shape}  y={y_test.shape}\")\n",
    "\n",
    "# Rellenar \n",
    "imp = SimpleImputer()\n",
    "x_train['metroscubiertos'] = imp.fit_transform(x_train[['metroscubiertos']])\n",
    "x_test['metroscubiertos'] = imp.transform(x_test[['metroscubiertos']])"
   ]
  },
  {
   "cell_type": "markdown",
   "metadata": {},
   "source": [
    "## Regresión lineal"
   ]
  },
  {
   "cell_type": "code",
   "execution_count": 4,
   "metadata": {},
   "outputs": [
    {
     "name": "stdout",
     "output_type": "stream",
     "text": [
      "RMSLE LinearRegression (train): 0.65673\n",
      "RMSLE LinearRegression: 0.65657\n"
     ]
    }
   ],
   "source": [
    "linear_model = LinearRegression().fit(x_train, y_train)\n",
    "pred = linear_model.predict(x_test)\n",
    "\n",
    "# El modelo de regresion lineal con una variable obtiene RMSLE=0.65\n",
    "linear_rmsle_train = RMSLE(y_train, linear_model.predict(x_train))\n",
    "linear_rmsle = RMSLE(y_test, pred)\n",
    "print(f\"RMSLE LinearRegression (train): {linear_rmsle_train:.5f}\")\n",
    "print(f\"RMSLE LinearRegression: {linear_rmsle:.5f}\")"
   ]
  },
  {
   "cell_type": "markdown",
   "metadata": {},
   "source": [
    "## Poly K"
   ]
  },
  {
   "cell_type": "code",
   "execution_count": 5,
   "metadata": {
    "scrolled": false
   },
   "outputs": [
    {
     "name": "stdout",
     "output_type": "stream",
     "text": [
      "100%|██████████| 200/200 [00:27<00:00,  7.36it/s, best loss: 0.6496065747766164]\n",
      "RMSLE LinearRegression (train): 0.64961\n",
      "RMSLE LinearRegression: 0.65024\n"
     ]
    }
   ],
   "source": [
    "import warnings\n",
    "\n",
    "# Para filtrar RankWarning en numpy\n",
    "warnings.filterwarnings('ignore')\n",
    "\n",
    "x_train_arr = x_train['metroscubiertos'].values\n",
    "x_test_arr = x_test['metroscubiertos'].values\n",
    "y_train_arr = y_train.values\n",
    "y_test_arr = y_test.values\n",
    "\n",
    "k = fmin(lambda k: RMSLE(y_train, np.poly1d(np.polyfit(x_train_arr, y_train_arr, k))(x_train_arr)), \n",
    "                     space=hp.uniform('k', 1, 30), algo=tpe.suggest, max_evals=200)['k']\n",
    "\n",
    "poly_k_rmsle_train = RMSLE(y_train, np.poly1d(np.polyfit(x_train_arr, y_train_arr, k))(x_train_arr))\n",
    "poly_k_rmsle = RMSLE(y_test, np.poly1d(np.polyfit(x_train_arr, y_train_arr, k))(x_test_arr))\n",
    "print(f\"RMSLE LinearRegression (train): {poly_k_rmsle_train:.5f}\")\n",
    "print(f\"RMSLE LinearRegression: {poly_k_rmsle:.5f}\")\n",
    "\n",
    "warnings.filterwarnings('default')"
   ]
  }
 ],
 "metadata": {
  "kernelspec": {
   "display_name": "Python 3",
   "language": "python",
   "name": "python3"
  },
  "language_info": {
   "codemirror_mode": {
    "name": "ipython",
    "version": 3
   },
   "file_extension": ".py",
   "mimetype": "text/x-python",
   "name": "python",
   "nbconvert_exporter": "python",
   "pygments_lexer": "ipython3",
   "version": "3.7.4"
  }
 },
 "nbformat": 4,
 "nbformat_minor": 2
}
