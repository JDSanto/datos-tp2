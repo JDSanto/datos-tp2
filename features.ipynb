{
 "cells": [
  {
   "cell_type": "code",
   "execution_count": 2,
   "metadata": {},
   "outputs": [],
   "source": [
    "import pandas as pd\n",
    "\n",
    "df_train = pd.read_csv('data/train.csv')\n",
    "df_test = pd.read_csv('data/test.csv')"
   ]
  },
  {
   "cell_type": "code",
   "execution_count": 4,
   "metadata": {},
   "outputs": [],
   "source": [
    "# Agrupaciones\n",
    "\n",
    "# Zona Provincias\n",
    "provincias_sur = ['Yucatán','Quintana Roo','Campeche','Tabasco', 'Veracruz', 'Oaxaca', 'Chiapas', 'Guerrero', 'Michoacán']\n",
    "provincias_centro = ['Tlaxcala','Morelos','Puebla','Hidalgo','Aguascalientes', 'Distrito Federal', 'Jalisco', 'Edo. de México','Querétaro', 'Colima', 'Nayarit', 'Aguascalientes', 'Guanajuato', 'Hidalgo']\n",
    "provincias_norte = ['Sonora','San luis Potosí','Baja California Norte', 'Baja California Sur', 'Chihuahua', 'Durango', 'Coahuila', 'Sinaloa', 'Nuevo León',  'Tamaulipas']\n",
    "\n",
    "# Intervalos metros\n",
    "punto20 = df_train['metrostotales'].quantile(0.2)\n",
    "punto40 = df_train['metrostotales'].quantile(0.4)\n",
    "punto60 = df_train['metrostotales'].quantile(0.6)\n",
    "punto80 = df_train['metrostotales'].quantile(0.8)\n",
    "punto20_cubiertos = df_train['metroscubiertos'].quantile(0.2)\n",
    "punto40_cubiertos = df_train['metroscubiertos'].quantile(0.4)\n",
    "punto60_cubiertos = df_train['metroscubiertos'].quantile(0.6)\n",
    "punto80_cubiertos = df_train['metroscubiertos'].quantile(0.8)"
   ]
  },
  {
   "cell_type": "code",
   "execution_count": 17,
   "metadata": {},
   "outputs": [],
   "source": [
    "def features_independientes_precio(df):\n",
    "    '''Devuelve una copia del dataframe con nuevas columnas, \n",
    "    donde los datos generados no dependen del precio'''\n",
    "    df = df.copy()\n",
    "    df['escomercial'] = df.tipodepropiedad.str.contains('.*omercial.*').astype(bool)\n",
    "    df['porcentaje_metros'] = df['metroscubiertos']/df['metrostotales']\n",
    "    df['zona'] = list(map(lambda x: 'Norte ' if x in provincias_norte else ('Sur' if x in provincias_sur else 'Centro'), df['provincia']))\n",
    "    df['intervalo_metros_totales'] = list(map(lambda x: 'Grupo1' if x<punto20 else ('Grupo2' if punto20<x<punto40 else ('Grupo3' if punto40<x<punto60 else('Grupo4' if punto60<x<punto80 else 'Grupo5'))), df['metrostotales']))\n",
    "    df['intervalo_metros_cubiertos'] = list(map(lambda x: 'Grupo1' if x<punto20_cubiertos else ('Grupo2' if punto20_cubiertos<x<punto40_cubiertos else ('Grupo3' if punto40_cubiertos<x<punto60_cubiertos else('Grupo4' if punto60_cubiertos<x<punto80_cubiertos else 'Grupo5'))), df['metrostotales']))\n",
    "    df['promedio_metros_tipo_propiedad'] = df.groupby(['tipodepropiedad'])['metrostotales'].transform('mean')\n",
    "    df['promedio_metros_tipo_propiedad'] = df.groupby(['tipodepropiedad'])['metroscubiertos'].transform('mean')\n",
    "    \n",
    "    return df\n",
    "\n",
    "def features_dependientes_precio(df, df_train):\n",
    "    '''Devuelve una copia del dataframe `df` con nuevas columnas dependientes del precio,\n",
    "    usando el dataframe `df_train` con los precios para generar los datos.\n",
    "    El dataframe `df` puede ser el mismo que `df_train`.'''\n",
    "    df = df.copy()\n",
    "    df_train = df_train.copy()\n",
    "    \n",
    "    df_train['promedio_precio_ciudad'] = df_train.groupby(['provincia', 'ciudad'])['precio'].transform('mean')\n",
    "    df_promedios = df_train.groupby(['provincia', 'ciudad']).agg(promedio_precio_ciudad=('precio', 'mean')).reset_index()\n",
    "    df = pd.merge(df, df_promedios, on=['provincia', 'ciudad'], how='left')\n",
    "    df['promedio_precio_ciudad'] = df['promedio_precio_ciudad'].fillna(df_train['promedio_precio_ciudad'].mean())\n",
    "    \n",
    "    df_train['promedio_id_zona'] = df_train.groupby(['idzona'])['precio'].transform('mean')\n",
    "    df_promedio = df_train.groupby('idzona').agg(promedio_id_zona=('precio', 'mean'))\n",
    "    df = pd.merge(df, df_promedio, on='idzona', how='left')\n",
    "    df['promedio_id_zona'] = df['promedio_id_zona'].fillna(df['promedio_precio_ciudad'])\n",
    "    \n",
    "    return df"
   ]
  }
 ],
 "metadata": {
  "kernelspec": {
   "display_name": "Python 3",
   "language": "python",
   "name": "python3"
  },
  "language_info": {
   "codemirror_mode": {
    "name": "ipython",
    "version": 3
   },
   "file_extension": ".py",
   "mimetype": "text/x-python",
   "name": "python",
   "nbconvert_exporter": "python",
   "pygments_lexer": "ipython3",
   "version": "3.7.4"
  }
 },
 "nbformat": 4,
 "nbformat_minor": 2
}
