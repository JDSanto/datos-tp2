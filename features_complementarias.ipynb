{
 "cells": [
  {
   "cell_type": "code",
   "execution_count": 1,
   "metadata": {},
   "outputs": [],
   "source": [
    "import pandas as pd\n",
    "import ipynb.fs.full.features as features_nltk\n",
    "\n",
    "# df_train = pd.read_csv('./data/train.csv')\n",
    "# df_test = pd.read_csv('./data/test.csv')"
   ]
  },
  {
   "cell_type": "code",
   "execution_count": 2,
   "metadata": {},
   "outputs": [],
   "source": [
    "def concatenar_categoricos(df, columna1, columna2, N=0, df_aux=None, devolver_cols=False):\n",
    "    '''Concatena dos columnas categoricas y hace one hot'''\n",
    "    '''Ver referencia columna_a_ohe para los ultimos 3 parametros'''\n",
    "    \n",
    "    def limpiar_espacios_blanco(texto):\n",
    "        try:\n",
    "            return texto.replace(' ', '_')\n",
    "        except:\n",
    "            pass\n",
    "        \n",
    "    df = df.copy()\n",
    "    df[columna1] = df[columna1].apply(limpiar_espacios_blanco)\n",
    "    df[columna2] = df[columna2].apply(limpiar_espacios_blanco)\n",
    "    df[columna1 + '_' + columna2] = df[columna1] + '_' +df[columna2]\n",
    "    \n",
    "    features_nltk\n",
    "    return features_nltk.columna_a_ohe(df, columna1 + '_' + columna2, N, df_aux, devolver_cols)"
   ]
  },
  {
   "cell_type": "code",
   "execution_count": 3,
   "metadata": {},
   "outputs": [],
   "source": [
    "def cantidad_propiedad_misma_cantidad(df, agrupar_col, misma_cantidad_col):\n",
    "    '''Cantidad de casas con la misma cantidad de banos que la actual'''\n",
    "    '''Por ejemplo, retorna para cada propiedad, cuantas hay mas de su tipo con x banos ej.'''\n",
    "    '''cantidad_propiedad_misma_cantidad(df, 'banos', 'tipodepropiedad'), para cada propiedad, se fija\n",
    "    cuantas mas de su tipo con tantos banos hay'''\n",
    "    '''Retorna el df con la columna agregada'''\n",
    "    df_aux = df.copy()\n",
    "    df_aux = df_aux.groupby([agrupar_col, misma_cantidad_col]).agg({'id': 'count'})\n",
    "    df_aux = df_aux.rename(columns={'id':'cantidad'})\n",
    "    df_aux = df_aux.reset_index()\n",
    "    \n",
    "    def get_cantidad(col1, col2):\n",
    "        cantidad = df_aux[(df_aux[agrupar_col] == col1) & (df_aux[misma_cantidad_col] == col2)]['cantidad']\n",
    "        return cantidad.values[0] if len(cantidad.values > 0) else 0\n",
    "        \n",
    "    df['cantidad_' + agrupar_col + '_' + misma_cantidad_col] = df.apply(lambda x: get_cantidad(x[agrupar_col], x[misma_cantidad_col]), axis=1)\n",
    "    return df"
   ]
  },
  {
   "cell_type": "code",
   "execution_count": 4,
   "metadata": {},
   "outputs": [],
   "source": [
    "def cantidad_atributo(df, col):\n",
    "    '''Simil a value_counts. Dada una columna, agrega al df, cuantas propiedades existen con esa misma propiedad'''\n",
    "    df_aux = df.copy()\n",
    "    df_aux = df_aux.groupby([col]).agg({'id': 'count'})\n",
    "    df_aux = df_aux.rename(columns={'id':'cantidad'})\n",
    "    df_aux = df_aux.reset_index()\n",
    "\n",
    "    def get_cantidad(col1):\n",
    "        cantidad = df_aux[df_aux[col] == col1]['cantidad']\n",
    "        return cantidad.values[0] if len(cantidad.values > 0) else 0\n",
    "    \n",
    "    df['cantidad_propiedades_en_' + col] = df.apply(lambda x: get_cantidad(x[col]), axis=1)\n",
    "    return df"
   ]
  },
  {
   "cell_type": "code",
   "execution_count": 5,
   "metadata": {},
   "outputs": [],
   "source": [
    "def ranking_atributo(df, col):\n",
    "    '''Cuenta cuantas propiedades hay con los atributos de la columna recibida. Y para cada propiedad,\n",
    "    se fija en que posicion esta del ranking. Por ejemplo, si hay dos propuedades, una con dos banos y otra \n",
    "    con uno solo, el rankin de las que tengan dos banos en 1, y de las propiedades que tengan un solo bano es \n",
    "    dos'''\n",
    "    \n",
    "    '''Rellena los nulos con \"otros\" '''\n",
    "    df[col] = df[col].fillna('otros')\n",
    "    \n",
    "    df_aux = df.copy()\n",
    "    df_aux = df_aux.groupby([col]).agg({'id': 'count'})\n",
    "    df_aux = df_aux.rename(columns={'id':'cantidad'})\n",
    "    df_aux = df_aux.reset_index()\n",
    "    \n",
    "    df_aux = df_aux.nlargest(df_aux.shape[0], 'cantidad') \n",
    "    lista_ranking = df_aux[col].tolist()\n",
    "    rank = {}\n",
    "    contador = 1\n",
    "    \n",
    "    for item in lista_ranking:\n",
    "        rank[item] = contador\n",
    "        contador = contador + 1\n",
    "\n",
    "    def get_ranking(col1):\n",
    "        item = df_aux[df_aux[col] == col1][col].values[0]\n",
    "        return rank[item]\n",
    "    \n",
    "    df['ranking_en_' + col] = df.apply(lambda x: get_ranking(x[col]), axis=1)\n",
    "    return df"
   ]
  },
  {
   "cell_type": "code",
   "execution_count": 6,
   "metadata": {
    "scrolled": false
   },
   "outputs": [],
   "source": [
    "def aplicar_features(df_recibido):\n",
    "    df = df_recibido.copy()    \n",
    "    df = concatenar_categoricos(df, 'tipodepropiedad', 'provincia')\n",
    "    df = concatenar_categoricos(df, 'provincia', 'ciudad')\n",
    "    # -- \n",
    "    display('Check-1.0')\n",
    "    df = cantidad_atributo(df, 'provincia')\n",
    "    display('Check-1.1')\n",
    "    df = cantidad_atributo(df, 'ciudad')\n",
    "    display('Check-1.2')\n",
    "    df = cantidad_atributo(df, 'antiguedad')\n",
    "    display('Check-1.3')\n",
    "    df = cantidad_atributo(df, 'habitaciones')\n",
    "    display('Check-1.4')\n",
    "    df = cantidad_atributo(df, 'garages')\n",
    "    display('Check-1.5')\n",
    "    df = cantidad_atributo(df, 'banos')\n",
    "    display('Check-1.6')\n",
    "    df = cantidad_atributo(df, 'gimnasio')\n",
    "    display('Check-1.7')\n",
    "    df = cantidad_atributo(df, 'usosmultiples')\n",
    "    display('Check-1.8')\n",
    "    df = cantidad_atributo(df, 'escuelascercanas')\n",
    "    display('Check-1.9')\n",
    "    df = cantidad_atributo(df, 'centroscomercialescercanos')\n",
    "    display('Check-1.10')\n",
    "    df = cantidad_atributo(df, 'piscina')\n",
    "    # --\n",
    "    display('Check-2.0')\n",
    "    df = ranking_atributo(df, 'provincia')\n",
    "    display('Check-2.1')\n",
    "    df = ranking_atributo(df, 'tipodepropiedad')\n",
    "    display('Check-2.2')\n",
    "    df = ranking_atributo(df, 'ciudad')\n",
    "    display('Check-2.3')\n",
    "    df = ranking_atributo(df, 'antiguedad')\n",
    "    display('Check-2.4')\n",
    "    df = ranking_atributo(df, 'habitaciones')\n",
    "    display('Check-2.5')\n",
    "    df = ranking_atributo(df, 'garages')\n",
    "    display('Check-2.6')\n",
    "    df = ranking_atributo(df, 'banos')\n",
    "    display('Check-2.7')\n",
    "    df = ranking_atributo(df, 'gimnasio')\n",
    "    display('Check-2.8')\n",
    "    df = ranking_atributo(df, 'usosmultiples')\n",
    "    display('Check-2.9')\n",
    "    df = ranking_atributo(df, 'escuelascercanas')\n",
    "    display('Check-2.10')\n",
    "    df = ranking_atributo(df, 'centroscomercialescercanos')    \n",
    "    # --\n",
    "    display('Check-3.0')\n",
    "    df = cantidad_propiedad_misma_cantidad(df, 'tipodepropiedad', 'provincia')\n",
    "    display('Check-3.1')\n",
    "    df = cantidad_propiedad_misma_cantidad(df, 'tipodepropiedad', 'ciudad')\n",
    "    display('Check-3.2')\n",
    "    df = cantidad_propiedad_misma_cantidad(df, 'tipodepropiedad', 'antiguedad')\n",
    "    display('Check-3.3')\n",
    "    df = cantidad_propiedad_misma_cantidad(df, 'tipodepropiedad', 'habitaciones')\n",
    "    display('Check-3.4')\n",
    "    df = cantidad_propiedad_misma_cantidad(df, 'tipodepropiedad', 'garages')\n",
    "    display('Check-3.5')\n",
    "    df = cantidad_propiedad_misma_cantidad(df, 'tipodepropiedad', 'banos')\n",
    "    display('Check-3.6')\n",
    "    df = cantidad_propiedad_misma_cantidad(df, 'tipodepropiedad', 'gimnasio')\n",
    "    display('Check-3.7')\n",
    "    df = cantidad_propiedad_misma_cantidad(df, 'tipodepropiedad', 'usosmultiples')\n",
    "    display('Check-3.8')\n",
    "    df = cantidad_propiedad_misma_cantidad(df, 'tipodepropiedad', 'piscina')\n",
    "    display('Check-4.0')\n",
    "    df = cantidad_propiedad_misma_cantidad(df, 'ciudad', 'antiguedad')\n",
    "    display('Check-4.1')\n",
    "    df = cantidad_propiedad_misma_cantidad(df, 'ciudad', 'habitaciones')\n",
    "    display('Check-4.2')\n",
    "    df = cantidad_propiedad_misma_cantidad(df, 'ciudad', 'garages')\n",
    "    display('Check-4.3')\n",
    "    df = cantidad_propiedad_misma_cantidad(df, 'ciudad', 'banos')\n",
    "    display('Check-4.4')\n",
    "    df = cantidad_propiedad_misma_cantidad(df, 'ciudad', 'gimnasio')\n",
    "    display('Check-4.5')\n",
    "    df = cantidad_propiedad_misma_cantidad(df, 'ciudad', 'usosmultiples')\n",
    "    display('Check-5.6')\n",
    "    df = cantidad_propiedad_misma_cantidad(df, 'provincia', 'antiguedad')\n",
    "    display('Check-5.7')\n",
    "    df = cantidad_propiedad_misma_cantidad(df, 'provincia', 'habitaciones')\n",
    "    display('Check-5.8')\n",
    "    df = cantidad_propiedad_misma_cantidad(df, 'provincia', 'garages')\n",
    "    display('Check-5.9')\n",
    "    df = cantidad_propiedad_misma_cantidad(df, 'provincia', 'banos')\n",
    "    display('Check-5.10')\n",
    "    df = cantidad_propiedad_misma_cantidad(df, 'provincia', 'gimnasio')\n",
    "    display('Check-5.11')\n",
    "    df = cantidad_propiedad_misma_cantidad(df, 'provincia', 'usosmultiples')\n",
    "    display('Check-5.12')\n",
    "    df = cantidad_propiedad_misma_cantidad(df, 'provincia', 'piscina')\n",
    "    display('Check-6.0')\n",
    "    return df"
   ]
  },
  {
   "cell_type": "code",
   "execution_count": 7,
   "metadata": {},
   "outputs": [
    {
     "data": {
      "text/plain": [
       "Index(['id', 'titulo', 'descripcion', 'tipodepropiedad', 'direccion', 'ciudad',\n",
       "       'provincia', 'antiguedad', 'habitaciones', 'garages', 'banos',\n",
       "       'metroscubiertos', 'metrostotales', 'idzona', 'lat', 'lng', 'fecha',\n",
       "       'gimnasio', 'usosmultiples', 'piscina', 'escuelascercanas',\n",
       "       'centroscomercialescercanos', 'precio'],\n",
       "      dtype='object')"
      ]
     },
     "metadata": {},
     "output_type": "display_data"
    },
    {
     "data": {
      "text/plain": [
       "(240000, 23)"
      ]
     },
     "metadata": {},
     "output_type": "display_data"
    },
    {
     "data": {
      "text/plain": [
       "'Check-1.0'"
      ]
     },
     "metadata": {},
     "output_type": "display_data"
    },
    {
     "data": {
      "text/plain": [
       "'Check-1.1'"
      ]
     },
     "metadata": {},
     "output_type": "display_data"
    },
    {
     "data": {
      "text/plain": [
       "'Check-1.2'"
      ]
     },
     "metadata": {},
     "output_type": "display_data"
    },
    {
     "data": {
      "text/plain": [
       "'Check-1.3'"
      ]
     },
     "metadata": {},
     "output_type": "display_data"
    },
    {
     "data": {
      "text/plain": [
       "'Check-1.4'"
      ]
     },
     "metadata": {},
     "output_type": "display_data"
    },
    {
     "data": {
      "text/plain": [
       "'Check-1.5'"
      ]
     },
     "metadata": {},
     "output_type": "display_data"
    },
    {
     "data": {
      "text/plain": [
       "'Check-1.6'"
      ]
     },
     "metadata": {},
     "output_type": "display_data"
    },
    {
     "data": {
      "text/plain": [
       "'Check-1.7'"
      ]
     },
     "metadata": {},
     "output_type": "display_data"
    },
    {
     "data": {
      "text/plain": [
       "'Check-1.8'"
      ]
     },
     "metadata": {},
     "output_type": "display_data"
    },
    {
     "data": {
      "text/plain": [
       "'Check-1.9'"
      ]
     },
     "metadata": {},
     "output_type": "display_data"
    },
    {
     "data": {
      "text/plain": [
       "'Check-1.10'"
      ]
     },
     "metadata": {},
     "output_type": "display_data"
    },
    {
     "data": {
      "text/plain": [
       "'Check-2.0'"
      ]
     },
     "metadata": {},
     "output_type": "display_data"
    },
    {
     "data": {
      "text/plain": [
       "'Check-2.1'"
      ]
     },
     "metadata": {},
     "output_type": "display_data"
    },
    {
     "data": {
      "text/plain": [
       "'Check-2.2'"
      ]
     },
     "metadata": {},
     "output_type": "display_data"
    },
    {
     "data": {
      "text/plain": [
       "'Check-2.3'"
      ]
     },
     "metadata": {},
     "output_type": "display_data"
    },
    {
     "data": {
      "text/plain": [
       "'Check-2.4'"
      ]
     },
     "metadata": {},
     "output_type": "display_data"
    },
    {
     "data": {
      "text/plain": [
       "'Check-2.5'"
      ]
     },
     "metadata": {},
     "output_type": "display_data"
    },
    {
     "data": {
      "text/plain": [
       "'Check-2.6'"
      ]
     },
     "metadata": {},
     "output_type": "display_data"
    },
    {
     "data": {
      "text/plain": [
       "'Check-2.7'"
      ]
     },
     "metadata": {},
     "output_type": "display_data"
    },
    {
     "data": {
      "text/plain": [
       "'Check-2.8'"
      ]
     },
     "metadata": {},
     "output_type": "display_data"
    },
    {
     "data": {
      "text/plain": [
       "'Check-2.9'"
      ]
     },
     "metadata": {},
     "output_type": "display_data"
    },
    {
     "data": {
      "text/plain": [
       "'Check-2.10'"
      ]
     },
     "metadata": {},
     "output_type": "display_data"
    },
    {
     "data": {
      "text/plain": [
       "'Check-3.0'"
      ]
     },
     "metadata": {},
     "output_type": "display_data"
    },
    {
     "data": {
      "text/plain": [
       "'Check-3.1'"
      ]
     },
     "metadata": {},
     "output_type": "display_data"
    },
    {
     "data": {
      "text/plain": [
       "'Check-3.2'"
      ]
     },
     "metadata": {},
     "output_type": "display_data"
    },
    {
     "data": {
      "text/plain": [
       "'Check-3.3'"
      ]
     },
     "metadata": {},
     "output_type": "display_data"
    },
    {
     "data": {
      "text/plain": [
       "'Check-3.4'"
      ]
     },
     "metadata": {},
     "output_type": "display_data"
    },
    {
     "data": {
      "text/plain": [
       "'Check-3.5'"
      ]
     },
     "metadata": {},
     "output_type": "display_data"
    },
    {
     "data": {
      "text/plain": [
       "'Check-3.6'"
      ]
     },
     "metadata": {},
     "output_type": "display_data"
    },
    {
     "data": {
      "text/plain": [
       "'Check-3.7'"
      ]
     },
     "metadata": {},
     "output_type": "display_data"
    },
    {
     "data": {
      "text/plain": [
       "'Check-3.8'"
      ]
     },
     "metadata": {},
     "output_type": "display_data"
    },
    {
     "data": {
      "text/plain": [
       "'Check-4.0'"
      ]
     },
     "metadata": {},
     "output_type": "display_data"
    },
    {
     "data": {
      "text/plain": [
       "'Check-4.1'"
      ]
     },
     "metadata": {},
     "output_type": "display_data"
    },
    {
     "data": {
      "text/plain": [
       "'Check-4.2'"
      ]
     },
     "metadata": {},
     "output_type": "display_data"
    },
    {
     "data": {
      "text/plain": [
       "'Check-4.3'"
      ]
     },
     "metadata": {},
     "output_type": "display_data"
    },
    {
     "data": {
      "text/plain": [
       "'Check-4.4'"
      ]
     },
     "metadata": {},
     "output_type": "display_data"
    },
    {
     "data": {
      "text/plain": [
       "'Check-4.5'"
      ]
     },
     "metadata": {},
     "output_type": "display_data"
    },
    {
     "data": {
      "text/plain": [
       "'Check-5.6'"
      ]
     },
     "metadata": {},
     "output_type": "display_data"
    },
    {
     "data": {
      "text/plain": [
       "'Check-5.7'"
      ]
     },
     "metadata": {},
     "output_type": "display_data"
    },
    {
     "data": {
      "text/plain": [
       "'Check-5.8'"
      ]
     },
     "metadata": {},
     "output_type": "display_data"
    },
    {
     "data": {
      "text/plain": [
       "'Check-5.9'"
      ]
     },
     "metadata": {},
     "output_type": "display_data"
    },
    {
     "data": {
      "text/plain": [
       "'Check-5.10'"
      ]
     },
     "metadata": {},
     "output_type": "display_data"
    },
    {
     "data": {
      "text/plain": [
       "'Check-5.11'"
      ]
     },
     "metadata": {},
     "output_type": "display_data"
    },
    {
     "data": {
      "text/plain": [
       "'Check-5.12'"
      ]
     },
     "metadata": {},
     "output_type": "display_data"
    },
    {
     "data": {
      "text/plain": [
       "'Check-6.0'"
      ]
     },
     "metadata": {},
     "output_type": "display_data"
    }
   ],
   "source": [
    "df = df_train\n",
    "# df = df_test\n",
    "\n",
    "display(df.columns)\n",
    "display(df.shape)\n",
    "\n",
    "#Ejs:\n",
    "# concatenar_categoricos(df, 'tipodepropiedad', 'provincia')\n",
    "# cantidad_propiedad_misma_cantidad(df, 'tipodepropiedad', 'provincia')\n",
    "# cantidad_atributo(df, 'provincia')\n",
    "# ranking_atributo(df, 'provincia')\n",
    "\n",
    "df = aplicar_features(df)\n",
    "# df.to_csv('masfeatures_train.csv', index=False)\n",
    "# df.to_csv('masfeatures_test.csv', index=False)"
   ]
  },
  {
   "cell_type": "code",
   "execution_count": 3,
   "metadata": {},
   "outputs": [
    {
     "data": {
      "text/plain": [
       "'Las columnas de tipo Object:'"
      ]
     },
     "metadata": {},
     "output_type": "display_data"
    },
    {
     "data": {
      "text/plain": [
       "['titulo',\n",
       " 'descripcion',\n",
       " 'tipodepropiedad',\n",
       " 'direccion',\n",
       " 'ciudad',\n",
       " 'provincia',\n",
       " 'fecha',\n",
       " 'tipodepropiedad_provincia',\n",
       " 'provincia_ciudad']"
      ]
     },
     "metadata": {},
     "output_type": "display_data"
    }
   ],
   "source": [
    "df_train = pd.read_csv('./masfeatures_train.csv')\n",
    "df_eval = pd.read_csv('./masfeatures_test.csv')\n",
    "\n",
    "\n",
    "# Correccion csv - strings que deberian ser floats\n",
    "df_train['antiguedad'] = df_train['antiguedad'].apply(lambda antiguedad: None if antiguedad == 'otros' else antiguedad)\n",
    "df_eval['antiguedad'] = df_eval['antiguedad'].apply(lambda antiguedad: None if antiguedad == 'otros' else antiguedad)\n",
    "df_eval['antiguedad'] = df_eval['antiguedad'].astype(float)\n",
    "df_train['antiguedad'] = df_train['antiguedad'].astype(float)\n",
    "\n",
    "df_train['habitaciones'] = df_train['habitaciones'].apply(lambda x: None if x == 'otros' else x)\n",
    "df_eval['habitaciones'] = df_eval['habitaciones'].apply(lambda x: None if x == 'otros' else x)\n",
    "df_eval['habitaciones'] = df_eval['habitaciones'].astype(float)\n",
    "df_train['habitaciones'] = df_train['habitaciones'].astype(float)\n",
    "\n",
    "df_train['garages'] = df_train['garages'].apply(lambda x: None if x == 'otros' else x)\n",
    "df_eval['garages'] = df_eval['garages'].apply(lambda x: None if x == 'otros' else x)\n",
    "df_eval['garages'] = df_eval['garages'].astype(float)\n",
    "df_train['garages'] = df_train['garages'].astype(float)\n",
    "\n",
    "df_train['banos'] = df_train['banos'].apply(lambda x: None if x == 'otros' else x)\n",
    "df_eval['banos'] = df_eval['banos'].apply(lambda x: None if x == 'otros' else x)\n",
    "df_eval['banos'] = df_eval['banos'].astype(float)\n",
    "df_train['banos'] = df_train['banos'].astype(float)\n",
    "\n",
    "# Las columnas de tipo object\n",
    "x = df_train.columns.to_series().groupby(df_train.dtypes).groups\n",
    "display(\"Las columnas de tipo Object:\")\n",
    "display(list(x[list(x.keys())[len(list(x.keys()))-1]]))\n",
    "\n",
    "df_eval.to_csv('masfeatures_train_f.csv', index=False)\n",
    "df_train.to_csv('masfeatures_test_f.csv', index=False)"
   ]
  }
 ],
 "metadata": {
  "kernelspec": {
   "display_name": "Python 3",
   "language": "python",
   "name": "python3"
  },
  "language_info": {
   "codemirror_mode": {
    "name": "ipython",
    "version": 3
   },
   "file_extension": ".py",
   "mimetype": "text/x-python",
   "name": "python",
   "nbconvert_exporter": "python",
   "pygments_lexer": "ipython3",
   "version": "3.6.8"
  }
 },
 "nbformat": 4,
 "nbformat_minor": 2
}
